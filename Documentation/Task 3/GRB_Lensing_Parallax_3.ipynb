{
 "cells": [
  {
   "cell_type": "code",
   "execution_count": 1,
   "id": "1c4c90a7-f6ff-4db0-95ee-b4470d17c427",
   "metadata": {},
   "outputs": [],
   "source": [
    "import numpy as np\n",
    "from matplotlib import pyplot as plt\n",
    "\n",
    "import scipy as sc\n",
    "from scipy.optimize import curve_fit # For fitting redshift distribution\n",
    "from scipy.optimize import newton    # For finding roots to nonlinear equation\n",
    "import scipy.integrate as integrate  # For integration\n",
    "\n",
    "from PIL import Image\n",
    "import pylab                         # For generating contours of image\n",
    "\n",
    "from astropy.coordinates import Distance    # For changing from redshift to distance\n",
    "from astropy.cosmology import WMAP7, WMAP9  # For changing from redshift to distance\n",
    "from astropy import units as u\n",
    "\n",
    "# For auxiliary functions\n",
    "import time\n",
    "import sys"
   ]
  },
  {
   "cell_type": "markdown",
   "id": "bd80f74e-513b-4768-a9a0-ced6725125f7",
   "metadata": {},
   "source": [
    "$$AU = 149.6 \\text{ million km}$$\n",
    "\n",
    "$$\\text{parsec} = 3.26 \\text{ light years } = 30.9 \\text{ trillion km}$$\n",
    "\n",
    "$$H_0 = 70 km/s/Mpc$$\n",
    "\n",
    "$$M_\\odot = 2\\times 10^{30}kg$$\n",
    "\n",
    "$$r_\\odot = 7\\times 10^{8}km$$"
   ]
  },
  {
   "cell_type": "code",
   "execution_count": 92,
   "id": "f7a5a834-db28-457c-87ab-1dbcaa454350",
   "metadata": {},
   "outputs": [],
   "source": [
    "# Defining constants\n",
    "c = 3e+8             # speed of light in m/s\n",
    "AU = 1.5e+11       # astronomical unit = 149.6 million km\n",
    "G = 6.67e-11      # Gravitational constant in Nm^2 kg^-2 == m^3 kg^-1 s^-2\n",
    "pc = 3e+16       # parsec = 3.26 light years = 206,000 AU = 30.9 trillion km\n",
    "Gpc = 1e9*pc\n",
    "H_0 = 70e3           # Cosmological constant in m/(s Mpc)\n",
    "\n",
    "# Defining radius and mass parameters of the system\n",
    "M_sun = 2e+30    # in kg\n",
    "M_earth = 6e+24 / M_sun # in solar masses\n",
    "r_sun = 7e+8    # 696,340 km\n",
    "r_earth = 6.4e+6/AU    # 6371 km, variable in AU\n",
    "\n",
    "rho_crit_0 = 9.21e-27 / M_sun    # critical density in solar masses per m^3\n",
    "Omega_DM = 0.26"
   ]
  },
  {
   "cell_type": "markdown",
   "id": "0f9bc9c2-80f4-46f5-ae44-dd4521fd3767",
   "metadata": {},
   "source": [
    "Lagrange Point under reduced mass constraint $$R_{L_2} = R\\left(\\frac{M_2}{3M_1}\\right)^{1/3}$$"
   ]
  },
  {
   "cell_type": "code",
   "execution_count": 3,
   "id": "eaee76d3-9b8b-4b7d-bb84-891fea0396b6",
   "metadata": {},
   "outputs": [],
   "source": [
    "# Function to calculate location of L2, under reduced mass constraint\n",
    "# R = distance between two masses M1, M2\n",
    "# M1 = Mass of the larger object\n",
    "# M2 = Mass of the smaller object\n",
    "# https://en.wikipedia.org/wiki/Lagrange_point#L2\n",
    "# Output: Langrange point distance in AU\n",
    "def L2_point(R, M1, M2):\n",
    "    return (R * (M2/(3*M1))**(1/3))"
   ]
  },
  {
   "cell_type": "markdown",
   "id": "f9a04d42-73d6-45f2-a209-5e3bf8093974",
   "metadata": {},
   "source": [
    "### Redshift vs GRB Distribution"
   ]
  },
  {
   "cell_type": "code",
   "execution_count": 4,
   "id": "0654ebbc-8755-4b3e-aced-3469bf0425e4",
   "metadata": {},
   "outputs": [],
   "source": [
    "redshift = np.genfromtxt('redshift.csv',delimiter=',')"
   ]
  },
  {
   "cell_type": "code",
   "execution_count": 5,
   "id": "e3143f08-9195-470e-89a5-53582613b2b7",
   "metadata": {},
   "outputs": [
    {
     "name": "stdout",
     "output_type": "stream",
     "text": [
      "[ 0.   0.5  1.   1.5  2.   2.5  3.   3.5  4.   4.5  5.   5.5  6.   6.5\n",
      "  7.   7.5  8.   8.5  9.   9.5 10. ]\n"
     ]
    },
    {
     "data": {
      "image/png": "[encoded data removed]",
      "text/plain": [
       "<Figure size 432x288 with 1 Axes>"
      ]
     },
     "metadata": {
      "needs_background": "light"
     },
     "output_type": "display_data"
    }
   ],
   "source": [
    "fig,ax = plt.subplots(1,1)\n",
    "bins = np.linspace(0, 10, 21)\n",
    "print(bins)\n",
    "data_entries, bins = np.histogram(redshift, bins=bins)\n",
    "binscenters = np.array([0.5 * (bins[i] + bins[i+1]) for i in range(len(bins)-1)])\n",
    "ax.hist(redshift, bins = bins)\n",
    "plt.show()"
   ]
  },
  {
   "cell_type": "markdown",
   "id": "0ed9aaf1-438c-4caf-93bd-1816e332d5df",
   "metadata": {},
   "source": [
    "Poisson distribution: $A.x.e^{-\\alpha x} \\equiv 495xe^{-1.025x}$"
   ]
  },
  {
   "cell_type": "code",
   "execution_count": 6,
   "id": "9e777a23-bc6e-49be-a504-5d4c6c778ade",
   "metadata": {},
   "outputs": [
    {
     "name": "stdout",
     "output_type": "stream",
     "text": [
      "[247.52234509   1.02585546]\n"
     ]
    }
   ],
   "source": [
    "def fit_function(x, A, alpha):\n",
    "    return (A * x * np.exp(-x*alpha))\n",
    "\n",
    "popt, pcov = curve_fit(fit_function, xdata=binscenters, ydata=data_entries, p0=[240,1.3])\n",
    "print(popt)"
   ]
  },
  {
   "cell_type": "code",
   "execution_count": 7,
   "id": "b81b2b96-0ef9-414b-ab83-c9cae8118b8f",
   "metadata": {},
   "outputs": [
    {
     "data": {
      "image/png": "[encoded data removed]",
      "text/plain": [
       "<Figure size 432x288 with 1 Axes>"
      ]
     },
     "metadata": {
      "needs_background": "light"
     },
     "output_type": "display_data"
    }
   ],
   "source": [
    "xspace = np.linspace(0, 10, 100000)\n",
    "plt.bar(binscenters, data_entries, width=bins[1] - bins[0], color='navy', label=r'Histogram entries')\n",
    "plt.plot(xspace, fit_function(xspace, *popt), color='darkorange', linewidth=2.5, label=r'Fitted function')\n",
    "plt.xlabel(r'Redshift $z$')\n",
    "plt.ylabel(r'Number of GRBs')\n",
    "#plt.title(r'Exponential decay with gaussian peak')\n",
    "plt.legend(loc='best')\n",
    "#plt.savefig('fitted_distribution.png')\n",
    "plt.show()"
   ]
  },
  {
   "cell_type": "markdown",
   "id": "13d94f33-f05c-4090-bed3-3ac9594a7c84",
   "metadata": {},
   "source": [
    "Refer [scipy tutorial](https://riptutorial.com/scipy/example/31081/fitting-a-function-to-data-from-a-histogram) for further information"
   ]
  },
  {
   "cell_type": "code",
   "execution_count": 8,
   "id": "a764a5c7-d12a-4dc4-ae61-9e7b7512f3c1",
   "metadata": {},
   "outputs": [
    {
     "data": {
      "image/png": "[encoded data removed]",
      "text/plain": [
       "<Figure size 432x288 with 1 Axes>"
      ]
     },
     "metadata": {
      "needs_background": "light"
     },
     "output_type": "display_data"
    }
   ],
   "source": [
    "popt2 = np.array([247.52234509, 1.02585546])\n",
    "popt2[0] /= 0.5\n",
    "fig = plt.figure()\n",
    "ax = fig.add_subplot()\n",
    "plt.xlabel(r'Redshift $z$')\n",
    "plt.ylabel(r'Number of GRBs')\n",
    "plt.plot(xspace, fit_function(xspace,*popt2))\n",
    "ax.text(5, 150, r'$f(x)=495x e^{-1.025x}$', fontsize=15)\n",
    "#plt.savefig('distribution accounting for bin size.png')\n",
    "plt.show()"
   ]
  },
  {
   "cell_type": "code",
   "execution_count": 9,
   "id": "d5d91693-aea5-4390-9eff-e8e1040f027f",
   "metadata": {},
   "outputs": [],
   "source": [
    "Num_GRBs = lambda z_S: popt2[0] * z_S * np.exp(-popt2[1] * z_S) # Number of GRBs in +/- 0.05 for a given redshift\n",
    "GRB_distribution = lambda z_S: popt2[0] * z_S * np.exp(-popt2[1] * z_S) / integrate.quad(Num_GRBs, 0, 10)[0] # GRB progenitor distribution as a function of redshift\n",
    "Pr_GRB_zS = lambda z_S: integrate.quad(GRB_distribution, z_S - 0.25, z_S + 0.25) # Probability of selected GRB having z_S +/- 0.25 redshift"
   ]
  },
  {
   "cell_type": "code",
   "execution_count": 10,
   "id": "fcb7ca07-1e77-4267-a954-3bd876b00e67",
   "metadata": {},
   "outputs": [],
   "source": [
    "GRB_dbt_bin_size = 20\n",
    "Pr_GRB_zS_numeric = np.zeros(GRB_dbt_bin_size)\n",
    "for i in range(GRB_dbt_bin_size):\n",
    "    Pr_GRB_zS_numeric[i] = Pr_GRB_zS(10/GRB_dbt_bin_size*i + 10/GRB_dbt_bin_size/2)[0]"
   ]
  },
  {
   "cell_type": "code",
   "execution_count": 11,
   "id": "6eac9bb6-8542-452c-801c-7a2f8562e6d3",
   "metadata": {},
   "outputs": [
    {
     "data": {
      "text/plain": [
       "array([0.09418673, 0.17967312, 0.18139002, 0.15279999, 0.1179485 ,\n",
       "       0.08646377, 0.06125533, 0.04235567, 0.02876067, 0.01925626,\n",
       "       0.01274859, 0.00836301, 0.0054443 , 0.00352139, 0.00226507,\n",
       "       0.00144999, 0.00092433, 0.00058706, 0.00037163, 0.00023457])"
      ]
     },
     "execution_count": 11,
     "metadata": {},
     "output_type": "execute_result"
    }
   ],
   "source": [
    "Pr_GRB_zS_numeric"
   ]
  },
  {
   "cell_type": "code",
   "execution_count": 12,
   "id": "8ada1570-6a76-4941-b2b0-a0414ee191ff",
   "metadata": {},
   "outputs": [],
   "source": [
    "# Block to randomly sample points from GRB progenitor distribution\n",
    "num_GRB_samples = 1000\n",
    "l = []\n",
    "for i in range(GRB_dbt_bin_size):\n",
    "    for j in range(int(Pr_GRB_zS_numeric[i]*10000)): # 10000 multiplier covers 99.88% of the population space, 1000 -> 99.0%, 100000 -> 99.99%\n",
    "        l.append(np.random.rand()/2 + i*10/GRB_dbt_bin_size)"
   ]
  },
  {
   "cell_type": "code",
   "execution_count": 13,
   "id": "0fb1e9c0-5fab-400d-824f-750f319f02b2",
   "metadata": {},
   "outputs": [],
   "source": [
    "GRB_list_redshift = np.array(l)\n",
    "np.random.shuffle(GRB_list_redshift)"
   ]
  },
  {
   "cell_type": "code",
   "execution_count": 14,
   "id": "dcd9295b-015d-4e98-9f9b-8461ff4e192b",
   "metadata": {},
   "outputs": [
    {
     "data": {
      "text/plain": [
       "9988"
      ]
     },
     "execution_count": 14,
     "metadata": {},
     "output_type": "execute_result"
    }
   ],
   "source": [
    "np.size(GRB_list_redshift)"
   ]
  },
  {
   "cell_type": "code",
   "execution_count": 15,
   "id": "9d2f9c41-29d5-4e06-bb6e-007723c0301e",
   "metadata": {},
   "outputs": [],
   "source": [
    "sim_GRB_list_redshift = np.zeros(num_GRB_samples)\n",
    "size_GRB_list_redshift = np.shape(GRB_list_redshift)[0]\n",
    "for i in range(num_GRB_samples):\n",
    "    sim_GRB_list_redshift[i] = GRB_list_redshift[np.random.randint(size_GRB_list_redshift)]"
   ]
  },
  {
   "cell_type": "code",
   "execution_count": 16,
   "id": "7d7f7695-ac1a-41d3-aed1-89eb35792972",
   "metadata": {},
   "outputs": [
    {
     "data": {
      "text/plain": [
       "(0.004870605836128694, 9.95127764668047)"
      ]
     },
     "execution_count": 16,
     "metadata": {},
     "output_type": "execute_result"
    }
   ],
   "source": [
    "np.min(sim_GRB_list_redshift),np.max(sim_GRB_list_redshift)"
   ]
  },
  {
   "cell_type": "markdown",
   "id": "4773ea4e-5efb-49e7-8ecd-e98518245afd",
   "metadata": {},
   "source": [
    "### Source Star Radius vs GRB Distribution"
   ]
  },
  {
   "cell_type": "code",
   "execution_count": 17,
   "id": "e312bbb7-d4ed-45d5-b6a7-9fec5c37dd93",
   "metadata": {},
   "outputs": [],
   "source": [
    "source_star = np.genfromtxt('source_star.csv',delimiter=',')"
   ]
  },
  {
   "cell_type": "code",
   "execution_count": 18,
   "id": "5836f4eb-2fa2-4299-b567-5a91510e28df",
   "metadata": {},
   "outputs": [
    {
     "name": "stdout",
     "output_type": "stream",
     "text": [
      "[-2.2 -2.  -1.8 -1.6 -1.4 -1.2 -1.  -0.8 -0.6 -0.4 -0.2  0.   0.2  0.4\n",
      "  0.6  0.8  1.   1.2  1.4  1.6  1.8  2.   2.2  2.4  2.6  2.8  3.   3.2]\n"
     ]
    },
    {
     "data": {
      "image/png": "[encoded data removed]",
      "text/plain": [
       "<Figure size 432x288 with 1 Axes>"
      ]
     },
     "metadata": {
      "needs_background": "light"
     },
     "output_type": "display_data"
    }
   ],
   "source": [
    "fig,ax = plt.subplots(1,1)\n",
    "bins = np.linspace(-2.2, 3.2, 28)\n",
    "print(bins)\n",
    "data_entries, bins = np.histogram(source_star, bins=bins)\n",
    "binscenters = np.array([0.5 * (bins[i] + bins[i+1]) for i in range(len(bins)-1)])\n",
    "ax.hist(source_star, bins = bins)\n",
    "plt.show()"
   ]
  },
  {
   "cell_type": "markdown",
   "id": "42b2ed01-9005-4955-a267-2ab915183f40",
   "metadata": {},
   "source": [
    "Double Gaussian Distribution: $c_1.e^{-\\frac{(x-\\mu_1)^2}{2\\sigma_1^2}} + c_2.e^{-\\frac{(x-\\mu_2)^2}{2\\sigma_2^2}}$"
   ]
  },
  {
   "cell_type": "code",
   "execution_count": 19,
   "id": "c677558d-4b74-4de7-a4c3-d5ca9bc3bd8a",
   "metadata": {},
   "outputs": [
    {
     "name": "stdout",
     "output_type": "stream",
     "text": [
      "[ 34.34949502  -0.67785818  -0.55209415 248.51853339   1.20256234\n",
      "   0.55588398]\n"
     ]
    }
   ],
   "source": [
    "def fit_function(x, c1, mu1, sigma1, c2, mu2, sigma2):\n",
    "    return (c1 * np.exp( - (x - mu1)**2.0 / (2.0 * sigma1**2.0) ) + c2 * np.exp( - (x - mu2)**2.0 / (2.0 * sigma2**2.0) ))\n",
    "\n",
    "popt, pcov = curve_fit(fit_function, xdata=binscenters, ydata=data_entries, p0=[50,-1,1,250,1,2])\n",
    "print(popt)"
   ]
  },
  {
   "cell_type": "code",
   "execution_count": 20,
   "id": "5ba0745e-66e8-4216-a871-f452a5992be8",
   "metadata": {},
   "outputs": [
    {
     "data": {
      "image/png": "[encoded data removed]",
      "text/plain": [
       "<Figure size 432x288 with 1 Axes>"
      ]
     },
     "metadata": {
      "needs_background": "light"
     },
     "output_type": "display_data"
    }
   ],
   "source": [
    "xspace = np.linspace(-2.2, 3.2, 100000)\n",
    "plt.bar(binscenters, data_entries, width=bins[1] - bins[0], color='navy', label=r'Histogram entries')\n",
    "plt.plot(xspace, fit_function(xspace, *popt), color='darkorange', linewidth=2.5, label=r'Fitted function')\n",
    "plt.xlabel(r'Source Star Radius $r_S$')\n",
    "plt.ylabel(r'Number of GRBs')\n",
    "#plt.title(r'Exponential decay with gaussian peak')\n",
    "plt.legend(loc='best')\n",
    "#plt.savefig('fitted_distribution.png')\n",
    "plt.show()"
   ]
  },
  {
   "cell_type": "code",
   "execution_count": 21,
   "id": "8e51ad0d-27b7-4ad3-b5be-b0d6d4c460f9",
   "metadata": {},
   "outputs": [],
   "source": [
    "source_star_2 = source_star\n",
    "np.random.shuffle(source_star_2)\n",
    "sim_GRB_list_ss = np.zeros(num_GRB_samples)\n",
    "size_GRB_list_ss = np.shape(source_star)[0]\n",
    "for i in range(num_GRB_samples):\n",
    "    sim_GRB_list_ss[i] = source_star_2[np.random.randint(size_GRB_list_ss)] - 0.1 + 0.2*np.random.rand()"
   ]
  },
  {
   "cell_type": "code",
   "execution_count": 22,
   "id": "5ce12ca9-7569-4834-9331-7c9dc64988a0",
   "metadata": {},
   "outputs": [
    {
     "data": {
      "text/plain": [
       "(-2.0624777748971135, 2.9717032267345527)"
      ]
     },
     "execution_count": 22,
     "metadata": {},
     "output_type": "execute_result"
    }
   ],
   "source": [
    "np.min(sim_GRB_list_ss),np.max(sim_GRB_list_ss)"
   ]
  },
  {
   "cell_type": "markdown",
   "id": "2cc03678-21e4-4bd6-885f-5ec7f0ef752f",
   "metadata": {},
   "source": [
    "Einstein Angle $$\\theta_E = \\sqrt{\\frac{4GM}{c^2}\\frac{1}{D}} = \\sqrt{\\frac{4GM}{c^2}\\frac{D_{LS}}{D_L D_S}}$$\n",
    "\n",
    "Einstein Radius $$r_E = \\theta_e D_L$$"
   ]
  },
  {
   "cell_type": "code",
   "execution_count": 23,
   "id": "96c89f56-3b10-4acc-8da0-10d45292925f",
   "metadata": {},
   "outputs": [],
   "source": [
    "# Function to calculate Einstein angle of a lensing system\n",
    "# M = mass of the lens\n",
    "# D = Effective lensing distance\n",
    "# Output: Einstein angle in radians\n",
    "def Einstein_angle(M, D):\n",
    "    return np.sqrt((4*G*(M*M_sun))/(c**2 * (D*Gpc)))"
   ]
  },
  {
   "cell_type": "code",
   "execution_count": 24,
   "id": "cd682c52-818e-4e54-8d4b-c2b52ed03c6b",
   "metadata": {},
   "outputs": [],
   "source": [
    "num_samples = num_GRB_samples\n",
    "\n",
    "# Defining lensing system parameters (lengths)\n",
    "DS = WMAP9.comoving_distance(sim_GRB_list_redshift).value/1e3    # Distance between source and observer in Gpc\n",
    "r_S = sim_GRB_list_ss"
   ]
  },
  {
   "cell_type": "markdown",
   "id": "d4b33e89-f3b1-4ed3-8e9b-d0589b1797ec",
   "metadata": {},
   "source": [
    "Comoving Distance $$\\int_0^z \\frac{cdz}{H(z)}$$\n",
    "where $$H(z) = \\sqrt{(1+z)^3\\Omega_m + (1+z)^4\\Omega_r + \\Omega_\\Lambda}$$\n",
    "\n",
    "[Source](https://docs.astropy.org/en/stable/cosmology/index.html)"
   ]
  },
  {
   "cell_type": "code",
   "execution_count": 25,
   "id": "32976841-c462-478a-af72-90b1cf9603f8",
   "metadata": {},
   "outputs": [
    {
     "name": "stdout",
     "output_type": "stream",
     "text": [
      "5.13967702165249 5.291730374382688\n"
     ]
    }
   ],
   "source": [
    "Hofz_inv = lambda z: 1/(H_0*np.sqrt(0.69 + (1+z)**3*0.31))\n",
    "dcomoving = c*integrate.quad(Hofz_inv, 0, 2)[0]/1e3\n",
    "print(dcomoving, WMAP9.comoving_distance(2).value/1e3)    # In Gpc"
   ]
  },
  {
   "cell_type": "code",
   "execution_count": 28,
   "id": "2721720f-9728-4091-b862-d4386c6eb4dc",
   "metadata": {},
   "outputs": [
    {
     "data": {
      "text/plain": [
       "(array([269., 328., 206., 117.,  40.,  25.,  12.,   1.,   1.,   1.]),\n",
       " array([4.87060584e-03, 9.99511310e-01, 1.99415201e+00, 2.98879272e+00,\n",
       "        3.98343342e+00, 4.97807413e+00, 5.97271483e+00, 6.96735553e+00,\n",
       "        7.96199624e+00, 8.95663694e+00, 9.95127765e+00]),\n",
       " <BarContainer object of 10 artists>)"
      ]
     },
     "execution_count": 28,
     "metadata": {},
     "output_type": "execute_result"
    },
    {
     "data": {
      "image/png": "[encoded data removed]",
      "text/plain": [
       "<Figure size 432x288 with 1 Axes>"
      ]
     },
     "metadata": {
      "needs_background": "light"
     },
     "output_type": "display_data"
    }
   ],
   "source": [
    "plt.title('Sampled distribution of Redshift')\n",
    "plt.hist(sim_GRB_list_redshift)"
   ]
  },
  {
   "cell_type": "code",
   "execution_count": 26,
   "id": "207eca0e-fb3b-4b5e-be78-e4b671367d61",
   "metadata": {},
   "outputs": [
    {
     "data": {
      "text/plain": [
       "(array([ 33.,  45., 117., 159., 153., 166., 176., 102.,  45.,   4.]),\n",
       " array([0.02104213, 0.98653441, 1.95202668, 2.91751896, 3.88301124,\n",
       "        4.84850352, 5.8139958 , 6.77948808, 7.74498035, 8.71047263,\n",
       "        9.67596491]),\n",
       " <BarContainer object of 10 artists>)"
      ]
     },
     "execution_count": 26,
     "metadata": {},
     "output_type": "execute_result"
    },
    {
     "data": {
      "image/png": "[encoded data removed]",
      "text/plain": [
       "<Figure size 432x288 with 1 Axes>"
      ]
     },
     "metadata": {
      "needs_background": "light"
     },
     "output_type": "display_data"
    }
   ],
   "source": [
    "plt.title('Sampled distribution of Observer-Source Distances')\n",
    "plt.hist(DS)"
   ]
  },
  {
   "cell_type": "code",
   "execution_count": 27,
   "id": "04f8dd88-568f-4090-8538-fd858a1de55b",
   "metadata": {},
   "outputs": [
    {
     "data": {
      "text/plain": [
       "(array([  7.,  26.,  45.,  44.,  82., 211., 293., 223.,  58.,  11.]),\n",
       " array([-2.06247777, -1.55905967, -1.05564157, -0.55222347, -0.04880537,\n",
       "         0.45461273,  0.95803083,  1.46144893,  1.96486703,  2.46828513,\n",
       "         2.97170323]),\n",
       " <BarContainer object of 10 artists>)"
      ]
     },
     "execution_count": 27,
     "metadata": {},
     "output_type": "execute_result"
    },
    {
     "data": {
      "image/png": "[encoded data removed]",
      "text/plain": [
       "<Figure size 432x288 with 1 Axes>"
      ]
     },
     "metadata": {
      "needs_background": "light"
     },
     "output_type": "display_data"
    }
   ],
   "source": [
    "plt.title('Sampled distribution of Source Star Radii')\n",
    "plt.hist(r_S)"
   ]
  },
  {
   "cell_type": "code",
   "execution_count": 30,
   "id": "0173e271-a360-4670-8629-a761b7d46f69",
   "metadata": {},
   "outputs": [],
   "source": [
    "# Option 1 = Conservative\n",
    "# Option 2 = Optimistic\n",
    "\n",
    "option = 2\n",
    "\n",
    "if option == 1:\n",
    "    epsilon = 0.1\n",
    "    NGRB = 10**3\n",
    "    Delta_r = np.array(((2*r_earth) / AU, L2_point(R, 1, M_earth), 2))     # distances in AU\n",
    "                                                                           # def L2_point(R, M1, M2)\n",
    "                                                                           # Delta_r[0] = 2*r_earth, Delta_r[1] = L2_point, Delta_r[2] = 2*AU\n",
    "elif option == 2:\n",
    "    epsilon = 0.01\n",
    "    NGRB = 10**4\n",
    "    Delta_r = np.array(((2*r_earth) / AU, L2_point(R, 1, M_earth), 2))     # distances in AU\n",
    "                                                                           # def L2_point(R, M1, M2)\n",
    "                                                                           # Delta_r[0] = 2*r_earth, Delta_r[1] = L2_point, Delta_r[2] = 2*AU"
   ]
  },
  {
   "cell_type": "markdown",
   "id": "3ae9795e-cfa7-42a6-9909-fa8ab76604a9",
   "metadata": {},
   "source": [
    "### Appendix B: Finite source-size effect"
   ]
  },
  {
   "cell_type": "code",
   "execution_count": 31,
   "id": "52fd9c7f-1bdc-401c-a7ed-68f0cbf80ea9",
   "metadata": {},
   "outputs": [],
   "source": [
    "# Function to calculate A_in\n",
    "# Output: A_in\n",
    "def A_in(u, delta):\n",
    "    return (np.sqrt(1+ 4/(delta**2)) - 8 / (delta**3 * (delta**2 + 4)**1.5) * u**2/2 - 144 * (delta**4 + 2*delta**2 + 2) / (delta**5 * (delta**2 + 4)**3.5) * u**4/24)\n",
    "    \n",
    "# Function to calculate A_out\n",
    "# Output: A_out\n",
    "def A_out(u, delta):\n",
    "    return ((2 + u**2) / (u*np.sqrt(u**2 + 4)) + (8*(u**2 + 1)) / (u**3 * (u**2 + 4)**2.5) * delta**2/2 + 48*(3*u**6 + 6*u**4 + 14*u**2 + 12) / (u**5 * (u**2 + 4)**4.5) * delta**4/24)\n",
    "\n",
    "# Function to calculate the magnification of a finite sized circular source with constant surface brightness by a point-lens in the geometrical optics limit\n",
    "# r_S = source size\n",
    "# D = Effective lensing distance\n",
    "# theta_E = Einstein angle\n",
    "# u = Position of the source\n",
    "# Output: Magnification\n",
    "def finite_source_size_effect(r_S, D, theta_E, u):\n",
    "    A = 0\n",
    "    theta_S = r_S/(D * Gpc)\n",
    "    delta = theta_S/theta_E\n",
    "\n",
    "    if np.abs(u)<=np.abs(0.9*delta):\n",
    "        A = A_in(u,delta)\n",
    "        #print(1)\n",
    "    elif np.abs(u)>=np.abs(1.1*delta):\n",
    "        A = A_out(u,delta)\n",
    "        #print(2)\n",
    "    else:\n",
    "        A = (A_out(1.1*delta, delta)*(u - 0.9*delta)/(0.2*delta) + A_in(0.9*delta, delta)*(1.1*delta - u)/(0.2*delta))\n",
    "        #print(3)\n",
    "    return A"
   ]
  },
  {
   "cell_type": "markdown",
   "id": "34b6d941-82a3-47f4-8664-1817a378acf8",
   "metadata": {},
   "source": [
    "### Appendix C: Computing optical depth and constraints"
   ]
  },
  {
   "cell_type": "markdown",
   "id": "e45bb28f-f4e7-4bd1-8027-8dc2a8358d67",
   "metadata": {},
   "source": [
    "$$A_{1,2} > 1+\\epsilon$$"
   ]
  },
  {
   "cell_type": "code",
   "execution_count": 113,
   "id": "34704736-0aa1-485a-a635-57629e18b304",
   "metadata": {},
   "outputs": [],
   "source": [
    "# Simulating lens plane position of detectable dark matter\n",
    "def sim_lens_plane(epsilon, GRB_progenitor_size_factor, num_masses, start_mass, end_mass, Delta_r, DS, x_lens, num_sides, theta, pixel_length_factor):\n",
    "\n",
    "    r_S = GRB_progenitor_size_factor * r_sun\n",
    "    M = np.logspace(start_mass, end_mass, num_masses)\n",
    "    theta_E = np.zeros(num_masses)\n",
    "\n",
    "    DL = x_lens*DS\n",
    "    DLS = DS - DL\n",
    "    D = DS*DL/DLS\n",
    "    #D = 1\n",
    "    \n",
    "    Delta_r = Delta_r*np.cos(theta)\n",
    "\n",
    "    arr_lens_plane_pos = np.zeros((num_masses,num_sides,num_sides))\n",
    "\n",
    "    beta1 = 0\n",
    "    beta2 = 0\n",
    "    u1 = 0\n",
    "    u2 = 0\n",
    "\n",
    "    count = np.zeros(num_masses)\n",
    "    pixel_length_x = np.zeros(num_masses)\n",
    "    pixel_length_y = np.zeros(num_masses)\n",
    "\n",
    "    # Calculating Einstein angles for each mass of lens\n",
    "    for k in range(num_masses):\n",
    "        theta_E[k] = Einstein_angle(M[k],D)\n",
    "    print(' ')\n",
    "\n",
    "    max_A = 0\n",
    "    max_u = 0\n",
    "\n",
    "    for k in range(num_masses):\n",
    "\n",
    "        calc_finite = lambda u: finite_source_size_effect(r_S, D, theta_E[k], u)\n",
    "\n",
    "        print('Iteration:',k)\n",
    "\n",
    "        pixel_length_x[k] = pixel_length_factor*theta_E[k]*DL/num_sides\n",
    "        pixel_length_y[k] = pixel_length_factor*theta_E[k]*DL/num_sides\n",
    "\n",
    "        for j in range(num_sides):\n",
    "\n",
    "            for i in range(int(num_sides)):\n",
    "\n",
    "                tmp_x = ((i - num_sides/2) + 0.5)*pixel_length_x[k]\n",
    "                tmp_y = ((j - num_sides/2) + 0.5)*pixel_length_y[k]\n",
    "\n",
    "                beta1 = np.sqrt((tmp_x - Delta_r/2*(1-x_lens))**2 + tmp_y**2)/(DS)\n",
    "                beta2 = np.sqrt((tmp_x + Delta_r/2*(1-x_lens))**2 + tmp_y**2)/(DS)\n",
    "\n",
    "                u1 = beta1/theta_E[k]\n",
    "                u2 = beta2/theta_E[k]\n",
    "\n",
    "                A1 = calc_finite(u1)\n",
    "                A2 = calc_finite(u2)\n",
    "\n",
    "                if max_A < max(A1,A2):\n",
    "                    max_A = max(A1,A2)\n",
    "                if max_u < max(u1,u2):\n",
    "                    max_u = max(u1,u2)\n",
    "\n",
    "                if A1 > (1 + epsilon) or A2 > (1 + epsilon):\n",
    "                    if np.abs(A1 - A2)/(A1 + A2) > epsilon / 2:\n",
    "                        count[k]+=1\n",
    "                        arr_lens_plane_pos[k,j,i]=2*np.abs(A1 - A2)/(A1 + A2)\n",
    "\n",
    "        print(max_A,max_u)\n",
    "        max_A = 0\n",
    "        max_u = 0\n",
    "\n",
    "    print(' ')\n",
    "    print(\"count=\",count) \n",
    "    print(' ')\n",
    "    \n",
    "    return (arr_lens_plane_pos, theta_E, pixel_length_x, pixel_length_y)"
   ]
  },
  {
   "cell_type": "code",
   "execution_count": 162,
   "id": "457f350f-f04a-4ec4-9805-1ae194cb001f",
   "metadata": {},
   "outputs": [
    {
     "name": "stdout",
     "output_type": "stream",
     "text": [
      " \n",
      "Iteration: 0\n",
      "24277.012866276407 0.003551487879605263\n",
      " \n",
      "count= [1140.]\n",
      " \n"
     ]
    },
    {
     "data": {
      "image/png": "[encoded data removed]",
      "text/plain": [
       "<Figure size 576x432 with 2 Axes>"
      ]
     },
     "metadata": {
      "needs_background": "light"
     },
     "output_type": "display_data"
    },
    {
     "name": "stdout",
     "output_type": "stream",
     "text": [
      "Mass of lens = 1e-14\n",
      "Maximum value of observable flux 1.2425996242716832\n"
     ]
    },
    {
     "name": "stderr",
     "output_type": "stream",
     "text": [
      "/tmp/ipykernel_33040/2315402993.py:39: UserWarning: No contour levels were found within the data range.\n",
      "  pylab.contour(new_image, levels=[245], colors='black', origin='image')\n"
     ]
    },
    {
     "data": {
      "text/plain": [
       "<matplotlib.contour.QuadContourSet at 0x7faded9df550>"
      ]
     },
     "execution_count": 162,
     "metadata": {},
     "output_type": "execute_result"
    },
    {
     "data": {
      "image/png": "[encoded data removed]",
      "text/plain": [
       "<Figure size 432x432 with 1 Axes>"
      ]
     },
     "metadata": {
      "needs_background": "light"
     },
     "output_type": "display_data"
    }
   ],
   "source": [
    "# epsilon, GRB_progenitor_size_factor, num_masses, start_mass, end_mass, Delta_r, DS, x_lens, num_sides, theta\n",
    "epsilon_tmp = 0.1\n",
    "GRB_progenitor_size_factor = 0.1\n",
    "Delta_r = np.array([2*AU/Gpc, L2_point(AU/Gpc,1,M_earth), 2*r_earth/Gpc])\n",
    "theta = 0\n",
    "\n",
    "num_masses = 1\n",
    "start_mass = -5\n",
    "end_mass = -5\n",
    "\n",
    "DS_tmp = 4\n",
    "x_lens = 0.1\n",
    "\n",
    "num_sides = 80\n",
    "pixel_length_factor = 0.05\n",
    "\n",
    "[arr_lens_plane_pos, theta_E, pixel_length_x, pixel_length_y] = sim_lens_plane(epsilon_tmp, GRB_progenitor_size_factor, num_masses, start_mass, end_mass, Delta_r[1], DS_tmp, x_lens, num_sides, theta, pixel_length_factor)\n",
    "\n",
    "k = 0\n",
    "\n",
    "# Creates PIL image\n",
    "#img = Image.fromarray(np.uint8(arr_lens_plane_pos[k] * 255) , 'L')\n",
    "#img.show()\n",
    "\n",
    "fig = plt.figure(figsize=(8,6))\n",
    "pixel_extent = pixel_length_x[k]/(theta_E[k]*DL/num_sides)/2\n",
    "plt.imshow(arr_lens_plane_pos[k], extent=[-pixel_extent, pixel_extent, -pixel_extent, pixel_extent])\n",
    "plt.title(\"2D array of lens plane dark matter distribution\")\n",
    "plt.xlabel('$u_x(\\Theta_E)$')\n",
    "plt.ylabel(\"$u_y(\\Theta_E)$\")\n",
    "plt.colorbar()\n",
    "plt.show()\n",
    "print(\"Mass of lens =\",M[k])\n",
    "print(\"Maximum value of observable flux\",np.max(arr_lens_plane_pos[k]))\n",
    "\n",
    "image = Image.fromarray(np.uint8(arr_lens_plane_pos[k] * 255), 'L')\n",
    "new_image = image.resize((int(200*pixel_length_x[k]/pixel_length_y[k]), 200))\n",
    "fig = plt.figure(figsize=(6,6))\n",
    "pylab.contour(new_image, levels=[245], colors='black', origin='image')"
   ]
  },
  {
   "cell_type": "code",
   "execution_count": 216,
   "id": "15c44e07-1b21-4044-ae3b-8714e56a140e",
   "metadata": {},
   "outputs": [],
   "source": [
    "# Simulating lens plane position of detectable dark matter for single mass and calculating volume\n",
    "\n",
    "def single_mass_volume(M_input, pixel_length_factor):\n",
    "\n",
    "    r_S = r_sun\n",
    "    \n",
    "    num_masses = 1\n",
    "    M = np.array([M_input])\n",
    "    theta_E = np.zeros(num_masses)\n",
    "    Delta_r = L2_point(AU/Gpc,1,M_earth)\n",
    "\n",
    "    DS = WMAP9.comoving_distance(2).value/1e3\n",
    "    chi_S = DS*Gpc\n",
    "    n_quad = 25\n",
    "    x_lens = np.arange(1,n_quad)/n_quad\n",
    "\n",
    "    num_sides = 80\n",
    "    arr_lens_plane_pos = np.zeros((num_masses,num_sides,num_sides))\n",
    "\n",
    "    beta1 = 0\n",
    "    beta2 = 0\n",
    "    u1 = 0\n",
    "    u2 = 0\n",
    "\n",
    "    count = np.zeros(num_masses)\n",
    "    pixel_length_x = np.zeros(num_masses)\n",
    "    pixel_length_y = np.zeros(num_masses)\n",
    "\n",
    "    sigma_lens = np.zeros(np.size(x_lens))\n",
    "    V_lens = 0\n",
    "\n",
    "    k=0\n",
    "\n",
    "    # Calculating Einstein angles for each mass of lens (this can be done within the next loop if the plotting part is removed)\n",
    "    #theta_E[k] = Einstein_angle(M[k],D)\n",
    "\n",
    "    # Finding the threshold value of u=u_T for different masses at a given epsilon and theta_E\n",
    "    #u_T = np.zeros(num_masses)\n",
    "\n",
    "    #calc_threshold = lambda u: finite_source_size_effect(r_S, D, theta_E[k], u) - 1 - epsilon\n",
    "    #u_T[k] = newton(calc_threshold, 2)    # u_T is dimensionless\n",
    "\n",
    "    #calc_finite = lambda u: finite_source_size_effect(r_S, D, theta_E[k], u)\n",
    "\n",
    "\n",
    "    for l in range(np.size(x_lens)):\n",
    "\n",
    "        DL = x_lens[l]*DS\n",
    "        DLS = DS - DL\n",
    "        D = DL*DS/DLS\n",
    "        D = 1\n",
    "        theta_E[k] = Einstein_angle(M[k],D)\n",
    "        calc_finite = lambda u: finite_source_size_effect(r_S, D, theta_E[k], u)\n",
    "\n",
    "        #print('Iteration:',l)\n",
    "\n",
    "        pixel_length_x[k] = pixel_length_factor*theta_E[k]*DL/num_sides\n",
    "        pixel_length_y[k] = pixel_length_factor*theta_E[k]*DL/num_sides\n",
    "\n",
    "        for j in range(num_sides):\n",
    "\n",
    "            for i in range(int(num_sides)):\n",
    "\n",
    "                tmp_x = ((i - num_sides/2) + 0.5)*pixel_length_x[k]\n",
    "                tmp_y = ((j - num_sides/2) + 0.5)*pixel_length_y[k]\n",
    "\n",
    "                beta1 = np.sqrt((tmp_x - Delta_r/2*(1-x_lens[l]))**2 + tmp_y**2)/(DS)\n",
    "                beta2 = np.sqrt((tmp_x + Delta_r/2*(1-x_lens[l]))**2 + tmp_y**2)/(DS)\n",
    "\n",
    "                u1 = beta1/theta_E[k]\n",
    "                u2 = beta2/theta_E[k]\n",
    "                \n",
    "                A1 = calc_finite(u1)\n",
    "                A2 = calc_finite(u2)\n",
    "\n",
    "                if A1 > (1 + epsilon) or A2 > (1 + epsilon):\n",
    "                    if np.abs(A1 - A2)/(A1 + A2) > epsilon / 2:\n",
    "                        count[k]+=1\n",
    "                        arr_lens_plane_pos[k,i,j]=np.abs(A1 - A2)/(A1 + A2)\n",
    "\n",
    "        sigma_lens[l] = (count[k]*pixel_length_x[k]*Gpc*pixel_length_y[k]*Gpc) * chi_S * x_lens[l]**2\n",
    "        #print(\"count:\",count[k])\n",
    "        count[k] = 0\n",
    "\n",
    "    # Midpoint quadrature rule\n",
    "    h = (np.max(x_lens)-np.min(x_lens))/np.size(x_lens)\n",
    "\n",
    "    # V_lens = h*(f(a)/2 + f(a+h) + f(a+2h) + ... f(b))\n",
    "    V_lens = sigma_lens[0]/2 + sigma_lens[np.size(x_lens)-1]/2\n",
    "    for l in range(1,np.size(x_lens)-1):\n",
    "        V_lens += sigma_lens[l]\n",
    "    V_lens *= h\n",
    "    print(\"Volume occupied by Lens:\",V_lens)\n",
    "\n",
    "    print('')\n",
    "    \n",
    "    return (V_lens)"
   ]
  },
  {
   "cell_type": "code",
   "execution_count": 217,
   "id": "4d2c9b7a-7aba-476d-8f5a-952c864aac18",
   "metadata": {},
   "outputs": [
    {
     "name": "stdout",
     "output_type": "stream",
     "text": [
      "Iteration: 0\n",
      "Volume occupied by Lens: 0.0\n",
      "\n",
      "Iteration: 1\n",
      "Volume occupied by Lens: 0.0\n",
      "\n",
      "Iteration: 2\n",
      "Volume occupied by Lens: 0.0\n",
      "\n",
      "Iteration: 3\n",
      "Volume occupied by Lens: 0.0\n",
      "\n",
      "Iteration: 4\n",
      "Volume occupied by Lens: 0.0\n",
      "\n",
      "Iteration: 5\n",
      "Volume occupied by Lens: 0.0\n",
      "\n",
      "Iteration: 6\n",
      "Volume occupied by Lens: 0.0\n",
      "\n",
      "Iteration: 7\n",
      "Volume occupied by Lens: 1.3230300059511717e+43\n",
      "\n",
      "Iteration: 8\n",
      "Volume occupied by Lens: 6.035309751428851e+43\n",
      "\n",
      "Iteration: 9\n",
      "Volume occupied by Lens: 1.3154104909766768e+44\n",
      "\n",
      "Iteration: 10\n",
      "Volume occupied by Lens: 2.1760741189246174e+44\n",
      "\n",
      "Iteration: 11\n",
      "Volume occupied by Lens: 3.0193697454076095e+44\n",
      "\n",
      "Iteration: 12\n",
      "Volume occupied by Lens: 4.0545830815159675e+44\n",
      "\n",
      "Iteration: 13\n",
      "Volume occupied by Lens: 5.418820619780749e+44\n",
      "\n",
      "Iteration: 14\n",
      "Volume occupied by Lens: 6.6090199433410545e+44\n",
      "\n",
      "Iteration: 15\n",
      "Volume occupied by Lens: 7.762294365916343e+44\n",
      "\n",
      "Iteration: 16\n",
      "Volume occupied by Lens: 9.532832568204475e+44\n",
      "\n",
      "Iteration: 17\n",
      "Volume occupied by Lens: 1.0799351796432152e+45\n",
      "\n",
      "Iteration: 18\n",
      "Volume occupied by Lens: 1.235493570781828e+45\n",
      "\n",
      "Iteration: 19\n",
      "Volume occupied by Lens: 1.329763805228927e+45\n",
      "\n",
      "Iteration: 20\n",
      "Volume occupied by Lens: 1.3345866089193915e+45\n",
      "\n",
      "Iteration: 21\n",
      "Volume occupied by Lens: 1.4168245016569246e+45\n",
      "\n",
      "Iteration: 22\n",
      "Volume occupied by Lens: 1.4855711287955714e+45\n",
      "\n",
      "Iteration: 23\n",
      "Volume occupied by Lens: 1.5356358434585773e+45\n",
      "\n",
      "Iteration: 24\n",
      "Volume occupied by Lens: 1.499428962900468e+45\n",
      "\n",
      "Iteration: 25\n",
      "Volume occupied by Lens: 1.6658696719629608e+45\n",
      "\n",
      "Iteration: 26\n",
      "Volume occupied by Lens: 1.6361762006603385e+45\n",
      "\n",
      "Iteration: 27\n",
      "Volume occupied by Lens: 1.5738466861645746e+45\n",
      "\n",
      "Iteration: 28\n",
      "Volume occupied by Lens: 1.5429119357553614e+45\n",
      "\n",
      "Iteration: 29\n",
      "Volume occupied by Lens: 1.5865507982814534e+45\n",
      "\n",
      "Iteration: 30\n",
      "Volume occupied by Lens: 1.6807179468438023e+45\n",
      "\n",
      "Iteration: 31\n",
      "Volume occupied by Lens: 1.533461733124833e+45\n",
      "\n",
      "Iteration: 32\n",
      "Volume occupied by Lens: 1.5237320798787674e+45\n",
      "\n",
      "Iteration: 33\n",
      "Volume occupied by Lens: 1.5454991396955395e+45\n",
      "\n",
      "Iteration: 34\n",
      "Volume occupied by Lens: 1.617782009813258e+45\n",
      "\n",
      "Iteration: 35\n",
      "Volume occupied by Lens: 1.7572642149738722e+45\n",
      "\n",
      "Iteration: 36\n",
      "Volume occupied by Lens: 1.6745587408418116e+45\n",
      "\n",
      "Iteration: 37\n",
      "Volume occupied by Lens: 1.7447363748189973e+45\n",
      "\n",
      "Iteration: 38\n",
      "Volume occupied by Lens: 1.5685288231610652e+45\n",
      "\n",
      "Iteration: 39\n",
      "Volume occupied by Lens: 1.585620738859848e+45\n",
      "\n",
      "Iteration: 40\n",
      "Volume occupied by Lens: 1.4836812539470547e+45\n",
      "\n",
      "Iteration: 41\n",
      "Volume occupied by Lens: 1.6071358447728757e+45\n",
      "\n",
      "Iteration: 42\n",
      "Volume occupied by Lens: 1.5804002784641224e+45\n",
      "\n",
      "Iteration: 43\n",
      "Volume occupied by Lens: 1.5896479533929718e+45\n",
      "\n",
      "Iteration: 44\n",
      "Volume occupied by Lens: 1.524190062712132e+45\n",
      "\n",
      "Iteration: 45\n",
      "Volume occupied by Lens: 1.4787198559118736e+45\n",
      "\n",
      "[0.00000000e+00 0.00000000e+00 0.00000000e+00 0.00000000e+00\n",
      " 0.00000000e+00 0.00000000e+00 0.00000000e+00 1.32303001e+43\n",
      " 6.03530975e+43 1.31541049e+44 2.17607412e+44 3.01936975e+44\n",
      " 4.05458308e+44 5.41882062e+44 6.60901994e+44 7.76229437e+44\n",
      " 9.53283257e+44 1.07993518e+45 1.23549357e+45 1.32976381e+45\n",
      " 1.33458661e+45 1.41682450e+45 1.48557113e+45 1.53563584e+45\n",
      " 1.49942896e+45 1.66586967e+45 1.63617620e+45 1.57384669e+45\n",
      " 1.54291194e+45 1.58655080e+45 1.68071795e+45 1.53346173e+45\n",
      " 1.52373208e+45 1.54549914e+45 1.61778201e+45 1.75726421e+45\n",
      " 1.67455874e+45 1.74473637e+45 1.56852882e+45 1.58562074e+45\n",
      " 1.48368125e+45 1.60713584e+45 1.58040028e+45 1.58964795e+45\n",
      " 1.52419006e+45 1.47871986e+45]\n"
     ]
    }
   ],
   "source": [
    "# Run with DS = 4Gpc\n",
    "\n",
    "num_masses = 46\n",
    "start_mass = -14\n",
    "end_mass = -5\n",
    "M = np.logspace(start_mass,end_mass,num_masses)\n",
    "V_lens_wrapper = np.zeros(num_masses)\n",
    "\n",
    "alpha = np.log(4000)/(end_mass - start_mass)\n",
    "A = 200/np.exp(-start_mass*alpha)\n",
    "pixel_length_factor = np.round(A*np.exp(-alpha*np.log10(M)),2)\n",
    "\n",
    "for l in range(num_masses):\n",
    "    print('Iteration:',l)\n",
    "    V_lens_wrapper[l] = single_mass_volume(M[l], pixel_length_factor[l])\n",
    "\n",
    "print(V_lens_wrapper)"
   ]
  },
  {
   "cell_type": "code",
   "execution_count": 218,
   "id": "1b4b9885-f73c-4569-9cec-bd842067c8ad",
   "metadata": {},
   "outputs": [],
   "source": [
    "np.savetxt(\"DS4_D1_rS1_M14_M5_e01_numsides80.csv\", V_lens_wrapper, delimiter=\",\")"
   ]
  },
  {
   "cell_type": "code",
   "execution_count": 219,
   "id": "7be6ef48-7c1e-4f53-baf0-8839380a45fb",
   "metadata": {},
   "outputs": [
    {
     "name": "stdout",
     "output_type": "stream",
     "text": [
      "[1.19730000e-43 7.55445229e-44 4.76653715e-44 3.00748162e-44\n",
      " 1.89759262e-44 1.19730000e-44 7.55445229e-45 4.76653715e-45\n",
      " 3.00748162e-45 1.89759262e-45 1.19730000e-45 7.55445229e-46\n",
      " 4.76653715e-46 3.00748162e-46 1.89759262e-46 1.19730000e-46\n",
      " 7.55445229e-47 4.76653715e-47 3.00748162e-47 1.89759262e-47\n",
      " 1.19730000e-47 7.55445229e-48 4.76653715e-48 3.00748162e-48\n",
      " 1.89759262e-48 1.19730000e-48 7.55445229e-49 4.76653715e-49\n",
      " 3.00748162e-49 1.89759262e-49 1.19730000e-49 7.55445229e-50\n",
      " 4.76653715e-50 3.00748162e-50 1.89759262e-50 1.19730000e-50\n",
      " 7.55445229e-51 4.76653715e-51 3.00748162e-51 1.89759262e-51\n",
      " 1.19730000e-51 7.55445229e-52 4.76653715e-52 3.00748162e-52\n",
      " 1.89759262e-52 1.19730000e-52]\n"
     ]
    }
   ],
   "source": [
    "n = lambda f: rho_crit_0 * Omega_DM * f / M\n",
    "print(n(1))"
   ]
  },
  {
   "cell_type": "code",
   "execution_count": 220,
   "id": "32ae036f-ee76-49da-8d0b-6f2a518dd2a2",
   "metadata": {},
   "outputs": [
    {
     "data": {
      "image/png": "[encoded data removed]",
      "text/plain": [
       "<Figure size 432x288 with 1 Axes>"
      ]
     },
     "metadata": {
      "needs_background": "light"
     },
     "output_type": "display_data"
    }
   ],
   "source": [
    "tau = lambda f: n(f) * V_lens_wrapper\n",
    "\n",
    "# Plot Optical Depth vs Mass of lens\n",
    "plt.plot(M, tau(1))\n",
    "\n",
    "plt.title('DS = 4Gpc')\n",
    "plt.xlabel('$M_{PBH} (M_\\odot)$')\n",
    "plt.xscale('log')\n",
    "plt.ylabel('Optical depth $\\tau$')\n",
    "plt.yscale('log')\n",
    "plt.ylim([1e-9,1])\n",
    "\n",
    "plt.show()"
   ]
  },
  {
   "cell_type": "code",
   "execution_count": 224,
   "id": "b7738343-3d5a-4865-bf83-4dd586d92266",
   "metadata": {},
   "outputs": [
    {
     "name": "stdout",
     "output_type": "stream",
     "text": [
      "[0.         0.         0.         0.         0.         0.\n",
      " 0.         0.04771761 0.0167195  0.0121083  0.0115628  0.01327771\n",
      " 0.01560246 0.01854677 0.02417594 0.03262222 0.04203622 0.05871766\n",
      " 0.0810791  0.11997177 0.18805041 0.28148124 0.42621588 0.65285211\n",
      " 0.         0.         0.         0.         0.         0.\n",
      " 0.         0.         0.         0.         0.         0.\n",
      " 0.         0.         0.         0.         0.         0.\n",
      " 0.         0.         0.         0.        ]\n"
     ]
    },
    {
     "data": {
      "text/plain": [
       "[<matplotlib.lines.Line2D at 0x7fade63f7dc0>]"
      ]
     },
     "execution_count": 224,
     "metadata": {},
     "output_type": "execute_result"
    },
    {
     "data": {
      "image/png": "[encoded data removed]",
      "text/plain": [
       "<Figure size 432x288 with 1 Axes>"
      ]
     },
     "metadata": {
      "needs_background": "light"
     },
     "output_type": "display_data"
    }
   ],
   "source": [
    "f_final = np.zeros(num_masses)\n",
    "for k in range(num_masses):\n",
    "    tau = lambda f: n(f)[k] * V_lens_wrapper[k]\n",
    "    \n",
    "    P1 = lambda f: tau(f) * np.exp(-tau(f))\n",
    "    P_null = lambda f: ((1 - P1(f))**(1000/1000))**1000\n",
    "    \n",
    "    num_f = 1000\n",
    "    f = np.logspace(-5,0,num_f)\n",
    "    #print(f)\n",
    "    y_P = np.zeros(num_f)\n",
    "    y_2 = np.ones(num_f)*0.05\n",
    "    for i in range(num_f):\n",
    "        y_P[i] = P_null(f[i])\n",
    "    for l in range(num_f):\n",
    "        if y_P[l] < 0.05:\n",
    "            f_final[k] = f[l]\n",
    "            break\n",
    "\n",
    "print(f_final)\n",
    "# Plot f vs Mass of lens\n",
    "\n",
    "plt.title('$\\Delta_r = L_2, r_S = r_\\odot, D_S = 4Gpc$')\n",
    "plt.xscale('log')\n",
    "plt.yscale('log')\n",
    "plt.xlabel('Mass of lens $M_{PBH}(M_\\odot)$')\n",
    "plt.ylabel('f=$\\Omega_{PBH}/\\Omega_{DM}$')\n",
    "plt.plot(M[7:24],f_final[7:24])"
   ]
  }
 ],
 "metadata": {
  "kernelspec": {
   "display_name": "Python 3 (ipykernel)",
   "language": "python",
   "name": "python3"
  },
  "language_info": {
   "codemirror_mode": {
    "name": "ipython",
    "version": 3
   },
   "file_extension": ".py",
   "mimetype": "text/x-python",
   "name": "python",
   "nbconvert_exporter": "python",
   "pygments_lexer": "ipython3",
   "version": "3.9.5"
  }
 },
 "nbformat": 4,
 "nbformat_minor": 5
}
