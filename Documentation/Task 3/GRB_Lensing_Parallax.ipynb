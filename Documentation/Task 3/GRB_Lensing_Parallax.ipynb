{
 "cells": [
  {
   "cell_type": "code",
   "execution_count": 1,
   "id": "bafcdbb7-806c-4d28-b5e1-939d7ea08ac7",
   "metadata": {},
   "outputs": [],
   "source": [
    "import numpy as np\n",
    "from matplotlib import pyplot as plt\n",
    "import scipy as sc\n",
    "import pandas as pd"
   ]
  },
  {
   "cell_type": "code",
   "execution_count": 4,
   "id": "3bfd3316-3d24-4226-b96a-9700afaacf9c",
   "metadata": {},
   "outputs": [],
   "source": [
    "# Function to calculate location of L2, under reduced mass constraint\n",
    "# R = distance between two masses M1, M2\n",
    "# M1 = Mass of the larger object\n",
    "# M2 = Mass of the smaller object\n",
    "# https://en.wikipedia.org/wiki/Lagrange_point#L2\n",
    "def L2_point(R, M1, M2):\n",
    "    return R*(M2/(3*M1))**(1/3)\n",
    "\n",
    "# Defining radius and mass parameters of the system\n",
    "global M_sun = 1.989e+30\n",
    "global M_earth = 5.972e+24\n",
    "global r_sun = 696340e+3    # 696,340 km\n",
    "global r_earth = 6371e+3    # 6371 km\n",
    "\n",
    "# Defining constants\n",
    "global c = 3e+8             # speed of light\n",
    "global AU = 1.496e+11       # astronomical unit = 149.6 million km\n",
    "global G = 6.67408e-11      # Gravitational constant\n",
    "global pc = 3.086e+16       # parsec = 3.26 light years = 206,000 AU = 30.9 trillion km"
   ]
  },
  {
   "cell_type": "code",
   "execution_count": null,
   "id": "45456726-9dca-4035-b43d-b366f976173e",
   "metadata": {},
   "outputs": [],
   "source": [
    "# Function to calculate Einstein angle of a lensing system\n",
    "# M = mass of the lens\n",
    "# D = Effective lensing distance\n",
    "def Einstein_angle(M, D):\n",
    "    return np.sqrt((4*G*M)/(c**2*D))\n",
    "\n",
    "# Defining lensing system parameters (lengths)\n",
    "DL =             # Distance between lens and observer\n",
    "DS =             # Distance between source and observer\n",
    "DLS =            # Distance between lens and source\n",
    "D = DL*DS/DLS    # Effective lensing distance\n",
    "beta =           # Angular position of source\n",
    "r_S =            # Physical transverse emission size\n",
    "\n",
    "# Defining lensing system parameters\n",
    "M = 1e-14        # Mass of lens\n",
    "z_L = 0          # Redshift of lens (simplifying approximation)\n",
    "\n",
    "# Derived parameters\n",
    "theta_E = Einstein_angle(M, D)    # def Einstein_angle(M, D)\n",
    "r_E = theta_E * DL                # Einstein radius"
   ]
  },
  {
   "cell_type": "code",
   "execution_count": null,
   "id": "940ba36b-df2d-44d8-94c1-60da443c5828",
   "metadata": {},
   "outputs": [],
   "source": [
    "# Functions to calculate magnification and brightness flux of each image\n",
    "# u = beta/theta_E \n",
    "    # where beta is the angular position of the source\n",
    "    # and theta_E is the Einstein angle of the given lensing system\n",
    "def image_magnification(u):\n",
    "    return np.abs(0.5 + (u**2 + 2)/(2*u*np.sqrt(u**2 + 4))), np.abs(0.5 - (u**2 + 2)/(2*u*np.sqrt(u**2 + 4)))\n",
    "\n",
    "# Obtaining parameter values\n",
    "[mu_plus,mu_minus] = image_magnification(u)\n",
    "A = mu_plus + mu_minus    # Observed magnification of unresolved images"
   ]
  },
  {
   "cell_type": "code",
   "execution_count": 5,
   "id": "003e429e-5244-41cc-b0f7-14a738d5c3fa",
   "metadata": {},
   "outputs": [],
   "source": [
    "# Conservative\n",
    "epsilon = 0.1\n",
    "nu = 1.2e+20    # 0.5 MeV\n",
    "NGRB = 10**3\n",
    "Delta_r = np.array((2*r_earth, L2_point(AU, M_sun, M_earth), 2*AU))    # def L2_point(R, M1, M2)\n",
    "                                                                       # Delta_r[0] = 2*r_earth, Delta_r[1] = L2_point, Delta_r[2] = 2*AU"
   ]
  },
  {
   "cell_type": "code",
   "execution_count": 6,
   "id": "48a0a56b-d17b-4da6-a4ff-5a422d6b0976",
   "metadata": {},
   "outputs": [],
   "source": [
    "# Optimistic\n",
    "epsilon = 0.01\n",
    "nu = 1.2e+21    # 5 MeV\n",
    "NGRB = 10**4\n",
    "Delta_r = np.array((2*r_earth, L2_point(AU, M_sun, M_earth), 2*AU))    # def L2_point(R, M1, M2)\n",
    "                                                                       # Delta_r[0] = 2*r_earth, Delta_r[1] = L2_point, Delta_r[2] = 2*AU"
   ]
  },
  {
   "cell_type": "code",
   "execution_count": null,
   "id": "902650ff-a50d-4247-ade2-b4ecff790a1a",
   "metadata": {},
   "outputs": [],
   "source": [
    "# Function to calculate the upper and lower bound for lens' mass\n",
    "def Lensing_parallax_conditions(Delta_r, M, r_E, D):\n",
    "    M_upper = 10e-7 * (Delta_r)**2 * (1/D)\n",
    "    # WARNING: NOT INCLUDED RADIOMETRIC RESOLUTION CONDITION\n",
    "    M_lower = np.max((10e-12 * epsilon * (1/D) * (r_S)**2), (0.1*c/nu * c**2/(2*G*(1+z_L))))\n",
    "    if ((M > M_lower) and (M < M_upper)):\n",
    "        print(M,\" is in the given mass range\", M_lower, \" to \", M_upper)\n",
    "    else:\n",
    "        print(M,\" is not in the given mass range\", M_lower, \" to \", M_upper)"
   ]
  }
 ],
 "metadata": {
  "kernelspec": {
   "display_name": "Python 3",
   "language": "python",
   "name": "python3"
  },
  "language_info": {
   "codemirror_mode": {
    "name": "ipython",
    "version": 3
   },
   "file_extension": ".py",
   "mimetype": "text/x-python",
   "name": "python",
   "nbconvert_exporter": "python",
   "pygments_lexer": "ipython3",
   "version": "3.9.5"
  }
 },
 "nbformat": 4,
 "nbformat_minor": 5
}
