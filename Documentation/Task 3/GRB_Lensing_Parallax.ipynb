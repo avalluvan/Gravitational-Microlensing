{
 "cells": [
  {
   "cell_type": "code",
   "execution_count": 1,
   "id": "614e656e",
   "metadata": {},
   "outputs": [],
   "source": [
    "import numpy as np\n",
    "from matplotlib import pyplot as plt\n",
    "import scipy as sc\n",
    "import pandas as pd"
   ]
  },
  {
   "cell_type": "code",
   "execution_count": 2,
   "id": "f905f230",
   "metadata": {},
   "outputs": [],
   "source": [
    "# Defining constants\n",
    "c = 3e+8             # speed of light\n",
    "AU = 1.496e+11       # astronomical unit = 149.6 million km\n",
    "G = 6.67408e-11      # Gravitational constant\n",
    "pc = 3.086e+16       # parsec = 3.26 light years = 206,000 AU = 30.9 trillion km\n",
    "\n",
    "# Defining radius and mass parameters of the system\n",
    "M_sun = 1.989e+30    # in kg\n",
    "M_earth = (5.972e+24) / M_sun # in solar masses\n",
    "r_sun = 696340e+3    # 696,340 km converted to AU\n",
    "r_earth = 6371e+3    # 6371 km\n",
    "\n",
    "# Function to calculate location of L2, under reduced mass constraint\n",
    "# R = distance between two masses M1, M2\n",
    "# M1 = Mass of the larger object\n",
    "# M2 = Mass of the smaller object\n",
    "# https://en.wikipedia.org/wiki/Lagrange_point#L2\n",
    "# Output: Langrange point distance in AU\n",
    "def L2_point(R, M1, M2):\n",
    "    return (R*(M2/(3*M1))**(1/3)) / AU"
   ]
  },
  {
   "cell_type": "markdown",
   "id": "5c7d9dd1",
   "metadata": {},
   "source": [
    "$$r_E = \\theta_e D_L$$ where $$\\theta_E = \\sqrt{\\frac{4GM}{c^2}\\frac{1}{D}}$$"
   ]
  },
  {
   "cell_type": "code",
   "execution_count": 51,
   "id": "7e4cb2f8",
   "metadata": {},
   "outputs": [
    {
     "name": "stdout",
     "output_type": "stream",
     "text": [
      "[1.95541469e-19 2.07139965e-19 2.19426423e-19 2.32441649e-19\n",
      " 2.46228871e-19 2.60833878e-19 2.76305178e-19 2.92694154e-19\n",
      " 3.10055239e-19 3.28446092e-19 3.47927794e-19 3.68565049e-19\n",
      " 3.90426398e-19 4.13584447e-19 4.38116111e-19 4.64102864e-19\n",
      " 4.91631016e-19 5.20791994e-19 5.51682647e-19 5.84405573e-19\n",
      " 6.19069452e-19 6.55789410e-19 6.94687404e-19 7.35892623e-19\n",
      " 7.79541919e-19 8.25780264e-19 8.74761225e-19 9.26647480e-19\n",
      " 9.81611357e-19 1.03983540e-18 1.10151299e-18 1.16684898e-18\n",
      " 1.23606035e-18 1.30937697e-18 1.38704236e-18 1.46931445e-18\n",
      " 1.55646649e-18 1.64878793e-18 1.74658540e-18 1.85018370e-18\n",
      " 1.95992690e-18 2.07617950e-18 2.19932760e-18 2.32978020e-18\n",
      " 2.46797056e-18 2.61435765e-18 2.76942765e-18 2.93369560e-18\n",
      " 3.10770706e-18 3.29203997e-18 3.48730654e-18 3.69415531e-18\n",
      " 3.91327326e-18 4.14538813e-18 4.39127085e-18 4.65173804e-18\n",
      " 4.92765478e-18 5.21993746e-18 5.52955682e-18 5.85754117e-18\n",
      " 6.20497984e-18 6.57302676e-18 6.96290428e-18 7.37590730e-18\n",
      " 7.81340750e-18 8.27685792e-18 8.76779779e-18 9.28785764e-18\n",
      " 9.83876472e-18 1.04223487e-17 1.10405479e-17 1.16954154e-17\n",
      " 1.23891262e-17 1.31239842e-17 1.39024303e-17 1.47270496e-17\n",
      " 1.56005811e-17 1.65259259e-17 1.75061573e-17 1.85445308e-17\n",
      " 1.96444953e-17 2.08097039e-17 2.20440266e-17 2.33515628e-17\n",
      " 2.47366552e-17 2.62039041e-17 2.77581824e-17 2.94046525e-17\n",
      " 3.11487825e-17 3.29963651e-17 3.49535367e-17 3.70267975e-17\n",
      " 3.92230332e-17 4.15495382e-17 4.40140392e-17 4.66247215e-17\n",
      " 4.93902559e-17 5.23198272e-17 5.54231654e-17 5.87105773e-17]\n"
     ]
    }
   ],
   "source": [
    "# Function to calculate Einstein angle of a lensing system\n",
    "# M = mass of the lens\n",
    "# D = Effective lensing distance\n",
    "# Output: Einstein angle in radians\n",
    "def Einstein_angle(M, D):\n",
    "    return np.sqrt((4*G*(M*M_sun))/(c**2 * (D*1e9*pc)))\n",
    "\n",
    "num_samples = 1000\n",
    "\n",
    "# Defining lensing system parameters (lengths)\n",
    "DL = 1           # Distance between lens and observer in Gpc\n",
    "DS = 1           # Distance between source and observer in Gpc\n",
    "DLS = DL + DS    # Distance between lens and source in Gpc\n",
    "D = DL*DS/DLS    # Effective lensing distance in Gpc\n",
    "beta = np.linspace(-1e-28,1e-28,num_samples)    # Angular position of source in radians\n",
    "\n",
    "# Defining lensing system parameters (times)\n",
    "#t_var =          # Minimum variability time scale\n",
    "#T_90 =           # Observed burst duration\n",
    "\n",
    "# Defining lensing system parameters\n",
    "M = np.logspace(-16, -11, num_samples)    # Mass of lens in solar masses\n",
    "z_L = 2          # Redshift of lens (simplifying approximation)\n",
    "z_S = 2          # Redshift of source (simplifying approximation)\n",
    "\n",
    "# Derived parameters\n",
    "theta_E = Einstein_angle(M, D)    # def Einstein_angle(M, D)\n",
    "print(theta_E[::10])\n",
    "r_E = theta_E * DL                # Einstein radius in Gpc"
   ]
  },
  {
   "cell_type": "code",
   "execution_count": 40,
   "id": "13c1fd51",
   "metadata": {},
   "outputs": [],
   "source": [
    "Delta_t_d = 2 * 1e-5 * M    # time delay in seconds\n",
    "r_Sch = 1e-5 * M * c        # Schwarzschild radius in metres\n",
    "u = 1e-28 / theta_E         # Position of the source"
   ]
  },
  {
   "cell_type": "code",
   "execution_count": 41,
   "id": "796220c9",
   "metadata": {},
   "outputs": [],
   "source": [
    "# Conservative\n",
    "epsilon = 0.1\n",
    "nu = 1.2e+20    # 0.5 MeV\n",
    "NGRB = 10**3\n",
    "# Delta_r = np.array(((2*r_earth) / AU, L2_point(R, M_sun, M_earth), 2))     # distances in AU\n",
    "                                                                       # def L2_point(R, M1, M2)\n",
    "                                                                       # Delta_r[0] = 2*r_earth, Delta_r[1] = L2_point, Delta_r[2] = 2*AU"
   ]
  },
  {
   "cell_type": "code",
   "execution_count": 6,
   "id": "f38ea3d5",
   "metadata": {},
   "outputs": [],
   "source": [
    "# Optimistic\n",
    "epsilon = 0.01\n",
    "nu = 1.2e+21    # 5 MeV\n",
    "NGRB = 10**4\n",
    "# Delta_r = np.array(((2*r_earth) / AU, L2_point(R, M_sun, M_earth), 2))    # distances in AU\n",
    "                                                                       # def L2_point(R, M1, M2)\n",
    "                                                                       # Delta_r[0] = 2*r_earth, Delta_r[1] = L2_point, Delta_r[2] = 2*AU"
   ]
  },
  {
   "cell_type": "code",
   "execution_count": 13,
   "id": "114a0a2f",
   "metadata": {
    "tags": []
   },
   "outputs": [],
   "source": [
    "# Function to calculate the upper and lower bound for lens' mass in units of solar masses\n",
    "def Lensing_parallax_conditions(Delta_r, M, r_E, D):\n",
    "    prefactor_1 = (AU**2) / (M_sun * (1e9 * pc)) * ((c**2) / (4 * G))\n",
    "    M_upper = prefactor_1 * (Delta_r)**2 * (1/D)\n",
    "    # WARNING: NOT INCLUDED RADIOMETRIC RESOLUTION CONDITION\n",
    "    prefactor_2 = (r_sun**2) / ((1e9 * pc) * M_sun) * ((c**2) / (4 * G))\n",
    "    prefactor_3 = (0.1 * (c**3)) / (2 * G) * 1 / (nu * (1 + z_L)) * 1 / (M_sun)\n",
    "    M_lower = np.max((prefactor_2 * epsilon * (1/D) * (r_S)**2), (prefactor_3))\n",
    "    if ((M > M_lower) and (M < M_upper)):\n",
    "        print(M,\" is in the given mass range\", M_lower, \" to \", M_upper)\n",
    "    else:\n",
    "        print(M,\" is not in the given mass range\", M_lower, \" to \", M_upper)"
   ]
  },
  {
   "cell_type": "code",
   "execution_count": 14,
   "id": "f6171694",
   "metadata": {},
   "outputs": [],
   "source": [
    "NGRB_small = 0.1 * NGRB    # \"smallest GRBs with r_S < r_sun are the ones that allow to probe lightest unconstrained PBH mass range\"\n",
    "NGRB_tiny = 0.03 * NGRB    # r_S < 0.1 r_sun"
   ]
  },
  {
   "cell_type": "markdown",
   "id": "a8263c75",
   "metadata": {},
   "source": [
    " - From 1. $$\\Delta r \\gtrsim r_E \\Leftrightarrow M_{max} \\lesssim \\left(\\frac{\\Delta r}{AU}\\right)^2 \\left(\\frac{Gpc}{D}\\right)10^{-7}M_\\odot$$\n",
    " - From 2. $$M_{min} \\gtrsim \\epsilon \\left(\\frac{r_S}{r_\\odot}\\right)^2 \\left(\\frac{Gpc}{D}\\right) 10^{-12}M_\\odot$$\n",
    " - From 3. for GRBs with $f = 10^{19} - 10^{21}$ and negligible $z_L$ $$M_{min} \\gtrsim (10^{-15} - 10^{-17})M_\\odot$$"
   ]
  },
  {
   "cell_type": "code",
   "execution_count": 42,
   "id": "36e15f0c",
   "metadata": {},
   "outputs": [],
   "source": [
    "#r_S = c * T_90        # Physical transverse emission size\n",
    "r_S = 0.1778 * r_earth # in metres\n",
    "#Gamma = c * T_90      # Lorentz boost"
   ]
  },
  {
   "cell_type": "code",
   "execution_count": 43,
   "id": "a22b823a",
   "metadata": {},
   "outputs": [],
   "source": [
    "# Function to calculate magnification and brightness flux of each image\n",
    "# u = beta/theta_E \n",
    "    # where beta is the angular position of the source\n",
    "    # and theta_E is the Einstein angle of the given lensing system\n",
    "# Output: individual magnifications of each image [mag_1, mag_2]\n",
    "def image_magnification(u):\n",
    "    mag_dist = (u**2 + 2)/(2*u*np.sqrt(u**2 + 4))\n",
    "    return np.abs(0.5 + mag_dist), np.abs(0.5 - mag_dist)\n",
    "\n",
    "# Obtaining parameter values\n",
    "# Output: total magnification. Calls image_magnification(u) as an intermediary\n",
    "def total_magnification(u):\n",
    "    [mu_plus,mu_minus] = image_magnification(u)\n",
    "    A = mu_plus + mu_minus    # Observed magnification of unresolved images\n",
    "    return A"
   ]
  },
  {
   "cell_type": "code",
   "execution_count": 44,
   "id": "0c08a686-35a6-4fb7-a5aa-aa61562b2598",
   "metadata": {},
   "outputs": [],
   "source": [
    "# Function to calculate resolution of measured magnification\n",
    "delta_A = lambda A1, A2: np.abs(A1 - A2) / (A1 + A2)\n",
    "\n",
    "#A1 = total_magnification(u1)\n",
    "#A2 = total_magnification(u2)\n",
    "#delta_A(A1,A2)"
   ]
  },
  {
   "cell_type": "markdown",
   "id": "e9a59225-a49a-4e8f-9975-041593f52cbf",
   "metadata": {},
   "source": [
    "### Appendix B: Finite source-size effect"
   ]
  },
  {
   "cell_type": "code",
   "execution_count": 100,
   "id": "2fa11779-62b1-41f8-ada2-939fd2a0c773",
   "metadata": {},
   "outputs": [],
   "source": [
    "# Function to calculate A_in\n",
    "# Output: A_in\n",
    "def A_in(u, delta):\n",
    "    return (np.sqrt(1+ 4/(delta**2)) - 8 / (delta**3 * (delta**2 + 4)**1.5) * u**2/2 - 144 * (delta**4 + 2*delta**2 + 2) / (delta**5 * (delta**2 + 4)**3.5) * u**4/24)\n",
    "    \n",
    "# Function to calculate A_out\n",
    "# Output: A_out\n",
    "def A_out(u, delta):\n",
    "    return ((2 + u**2) / (u*np.sqrt(u**2 + 4)) + (8*(u**2 + 1)) / (u**3 * (u**2 + 4))**2.5 * delta**2/2 + 48*(3*u**6 + 6*u**4 + 14*u**2 + 12) / (u**5 * (u**2 + 4)**4.5) * delta**4/24)    \n",
    "\n",
    "# Function to calculate the magnification of a finite sized circular source with constant surface brightness by a point-lens in the geometrical optics limit\n",
    "# r_S = source size\n",
    "# D = Effective lensing distance\n",
    "# theta_E = Einstein angle\n",
    "# u = Position of the source\n",
    "# Output: Magnification\n",
    "def finite_source_size_effect(r_S, D, theta_E, u):\n",
    "    A = np.zeros(1000)\n",
    "    delta = (r_S/(D * 1e9*pc))/theta_E\n",
    "    print(delta[::10])\n",
    "    for i in range(1000):\n",
    "        if u<=0.9*delta[i]:\n",
    "            A[i] = A_in(u,delta[i])\n",
    "        elif u>=1.1*delta[i]:\n",
    "            A[i] = A_out(u,delta[i])\n",
    "        else:\n",
    "            A[i] = (A_in(0.9*delta[i], delta[i])*(u - 0.9*delta[i])/0.2 + A_out(1.1*delta[i], delta[i])*(1.1*delta[i] - u)/0.2)\n",
    "    return A"
   ]
  },
  {
   "cell_type": "markdown",
   "id": "8ed3a9c8-c62e-45e3-a5e9-0c6610b27bbf",
   "metadata": {},
   "source": [
    "### Appendix C: Computing optical depth and constraints"
   ]
  },
  {
   "cell_type": "code",
   "execution_count": 105,
   "id": "8b8224fd",
   "metadata": {},
   "outputs": [
    {
     "name": "stdout",
     "output_type": "stream",
     "text": [
      "1\n",
      "[0.37543483 0.35441291 0.33456809 0.31583444 0.29814976 0.2814553\n",
      " 0.26569563 0.2508184  0.23677419 0.22351637 0.2110009  0.19918622\n",
      " 0.18803308 0.17750445 0.16756535 0.15818277 0.14932556 0.1409643\n",
      " 0.13307121 0.12562009 0.11858618 0.11194612 0.10567786 0.09976058\n",
      " 0.09417464 0.08890147 0.08392356 0.07922439 0.07478833 0.07060067\n",
      " 0.06664749 0.06291566 0.05939279 0.05606718 0.05292778 0.04996417\n",
      " 0.0471665  0.04452548 0.04203234 0.03967881 0.03745705 0.0353597\n",
      " 0.03337978 0.03151073 0.02974633 0.02808073 0.02650839 0.0250241\n",
      " 0.02362291 0.02230018 0.02105151 0.01987276 0.01876002 0.01770958\n",
      " 0.01671796 0.01578186 0.01489818 0.01406398 0.01327649 0.01253309\n",
      " 0.01183132 0.01116884 0.01054346 0.00995309 0.00939578 0.00886968\n",
      " 0.00837304 0.0079042  0.00746162 0.00704381 0.00664941 0.00627708\n",
      " 0.00592561 0.00559381 0.00528059 0.00498491 0.00470579 0.0044423\n",
      " 0.00419356 0.00395875 0.00373708 0.00352783 0.00333029 0.00314382\n",
      " 0.00296779 0.00280161 0.00264474 0.00249665 0.00235685 0.00222488\n",
      " 0.0021003  0.0019827  0.00187168 0.00176688 0.00166795 0.00157455\n",
      " 0.00148639 0.00140316 0.00132459 0.00125042]\n",
      "1.3417042171197127\n"
     ]
    }
   ],
   "source": [
    "H_0 = 70e3          # Cosmological constant in m/s/Mpc\n",
    "rho_crit_0 = (3 * ((70e3)**2)) / (8 * np.pi * G) * (pc*1e6) / M_sun # critical density in solar masses per Mpc^3\n",
    "Omega_DM = 0.26\n",
    "f = np.logspace(-4,0,num_samples)\n",
    "n = lambda f: rho_crit_0 * Omega_DM * f / M \n",
    "\n",
    "import scipy.integrate as integrate\n",
    "# Dividing a region in the lens plans into 6400 rectangular sectors\n",
    "arr_lens_plane = np.array((80,80))\n",
    "# Simulating magnification assuming A2 = 1 +/- 0.01\n",
    "y1 = 0\n",
    "A1 = 0\n",
    "A2 = np.ones((1000))\n",
    "# Loop to simulate magnification\n",
    "while (1):\n",
    "    y1 += 1\n",
    "    print(y1)\n",
    "    A1 = finite_source_size_effect(r_S, D, theta_E, y1)\n",
    "    print(A1[500])\n",
    "    A2 += 0.01\n",
    "    if delta_A(A1[500],A2[500]) > (epsilon/2):\n",
    "        break\n",
    "sigma = lambda chi_L: 1\n",
    "chi_S = DS\n",
    "V_L = integrate.quad(sigma , 0, chi_S)\n",
    "\n",
    "tau = lambda f: n(f) * V_L[0]\n",
    "P1 = lambda f: tau(f) * np.exp(-tau(f))"
   ]
  },
  {
   "cell_type": "code",
   "execution_count": 109,
   "id": "950c91d6-a0d5-42b0-9576-df1f2d29b1b7",
   "metadata": {},
   "outputs": [
    {
     "ename": "ValueError",
     "evalue": "The truth value of an array with more than one element is ambiguous. Use a.any() or a.all()",
     "output_type": "error",
     "traceback": [
      "\u001b[0;31m---------------------------------------------------------------------------\u001b[0m",
      "\u001b[0;31mValueError\u001b[0m                                Traceback (most recent call last)",
      "\u001b[0;32m/tmp/ipykernel_11643/1620747253.py\u001b[0m in \u001b[0;36m<module>\u001b[0;34m\u001b[0m\n\u001b[1;32m      2\u001b[0m \u001b[0mP_null\u001b[0m \u001b[0;34m=\u001b[0m \u001b[0;32mlambda\u001b[0m \u001b[0mf\u001b[0m\u001b[0;34m:\u001b[0m \u001b[0;34m(\u001b[0m\u001b[0;36m1\u001b[0m \u001b[0;34m-\u001b[0m \u001b[0mP1\u001b[0m\u001b[0;34m(\u001b[0m\u001b[0mf\u001b[0m\u001b[0;34m)\u001b[0m\u001b[0;34m)\u001b[0m\u001b[0;34m**\u001b[0m\u001b[0;34m(\u001b[0m\u001b[0mNGRB\u001b[0m\u001b[0;34m/\u001b[0m\u001b[0;36m1000\u001b[0m\u001b[0;34m)\u001b[0m\u001b[0;34m\u001b[0m\u001b[0;34m\u001b[0m\u001b[0m\n\u001b[1;32m      3\u001b[0m \u001b[0mg\u001b[0m \u001b[0;34m=\u001b[0m \u001b[0mf\u001b[0m\u001b[0;34m[\u001b[0m\u001b[0;36m500\u001b[0m\u001b[0;34m]\u001b[0m\u001b[0;34m\u001b[0m\u001b[0;34m\u001b[0m\u001b[0m\n\u001b[0;32m----> 4\u001b[0;31m \u001b[0;32mif\u001b[0m \u001b[0mP_null\u001b[0m\u001b[0;34m(\u001b[0m\u001b[0mg\u001b[0m\u001b[0;34m)\u001b[0m \u001b[0;34m<\u001b[0m \u001b[0;36m0.05\u001b[0m\u001b[0;34m:\u001b[0m\u001b[0;34m\u001b[0m\u001b[0;34m\u001b[0m\u001b[0m\n\u001b[0m\u001b[1;32m      5\u001b[0m     \u001b[0mf_max\u001b[0m \u001b[0;34m=\u001b[0m \u001b[0mg\u001b[0m\u001b[0;34m\u001b[0m\u001b[0;34m\u001b[0m\u001b[0m\n",
      "\u001b[0;31mValueError\u001b[0m: The truth value of an array with more than one element is ambiguous. Use a.any() or a.all()"
     ]
    }
   ],
   "source": [
    "# Calculating the bound for f\n",
    "P_null = lambda f: (1 - P1(f))**(NGRB/1000)\n",
    "g = f[500]\n",
    "if P_null(g) < 0.05:\n",
    "    f_max = g"
   ]
  },
  {
   "cell_type": "code",
   "execution_count": 115,
   "id": "14e80548-f059-4652-ae19-f3f3a29360d7",
   "metadata": {},
   "outputs": [
    {
     "data": {
      "image/png": "[encoded data removed]",
      "text/plain": [
       "<Figure size 432x288 with 1 Axes>"
      ]
     },
     "metadata": {
      "needs_background": "light"
     },
     "output_type": "display_data"
    }
   ],
   "source": [
    "# Plot f vs Mass of lens\n",
    "plt.plot(M, f)\n",
    "\n",
    "plt.xlabel('$M_{PBH} (M_\\odot)$')\n",
    "plt.xscale('log')\n",
    "#plt.xlim([1e-16,1e-11])\n",
    "plt.ylabel('$f=\\Omega_{PBH}/\\Omega_{DM}$')\n",
    "plt.yscale('log')\n",
    "#plt.ylim([1e-4,1])\n",
    "\n",
    "plt.show()"
   ]
  },
  {
   "cell_type": "code",
   "execution_count": null,
   "id": "47611f28-eba5-4ab3-993c-de81450efcf9",
   "metadata": {},
   "outputs": [],
   "source": [
    "# Plot Optical Depth vs Mass of lens\n",
    "plt.plot(M, tau(f))\n",
    "\n",
    "plt.xlabel('$M_{PBH} (M_\\odot)$')\n",
    "plt.xscale('log')\n",
    "#plt.xlim([1e-16,1e-11])\n",
    "plt.ylabel('Optical depth $\\tau$')\n",
    "plt.yscale('log')\n",
    "#plt.ylim([1e-8,1e4])\n",
    "\n",
    "plt.show()"
   ]
  }
 ],
 "metadata": {
  "kernelspec": {
   "display_name": "Python 3 (ipykernel)",
   "language": "python",
   "name": "python3"
  },
  "language_info": {
   "codemirror_mode": {
    "name": "ipython",
    "version": 3
   },
   "file_extension": ".py",
   "mimetype": "text/x-python",
   "name": "python",
   "nbconvert_exporter": "python",
   "pygments_lexer": "ipython3",
   "version": "3.9.5"
  }
 },
 "nbformat": 4,
 "nbformat_minor": 5
}
