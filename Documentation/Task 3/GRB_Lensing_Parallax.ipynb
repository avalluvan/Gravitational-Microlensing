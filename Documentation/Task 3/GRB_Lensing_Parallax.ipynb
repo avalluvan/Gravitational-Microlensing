{
 "cells": [
  {
   "cell_type": "code",
   "execution_count": 1,
   "id": "614e656e",
   "metadata": {},
   "outputs": [],
   "source": [
    "import numpy as np\n",
    "from matplotlib import pyplot as plt\n",
    "import scipy as sc\n",
    "import pandas as pd"
   ]
  },
  {
   "cell_type": "code",
   "execution_count": 2,
   "id": "f905f230",
   "metadata": {},
   "outputs": [],
   "source": [
    "# Defining constants\n",
    "c = 3e+8             # speed of light\n",
    "AU = 1.496e+11       # astronomical unit = 149.6 million km\n",
    "G = 6.67408e-11      # Gravitational constant\n",
    "pc = 3.086e+16       # parsec = 3.26 light years = 206,000 AU = 30.9 trillion km\n",
    "\n",
    "# Defining radius and mass parameters of the system\n",
    "M_sun = 1.989e+30    # in kg\n",
    "M_earth = (5.972e+24) / M_sun # in solar masses\n",
    "r_sun = 696340e+3    # 696,340 km converted to AU\n",
    "r_earth = 6371e+3    # 6371 km\n",
    "\n",
    "# Function to calculate location of L2, under reduced mass constraint\n",
    "# R = distance between two masses M1, M2\n",
    "# M1 = Mass of the larger object\n",
    "# M2 = Mass of the smaller object\n",
    "# https://en.wikipedia.org/wiki/Lagrange_point#L2\n",
    "# Output: Langrange point distance in AU\n",
    "def L2_point(R, M1, M2):\n",
    "    return (R*(M2/(3*M1))**(1/3)) / AU"
   ]
  },
  {
   "cell_type": "markdown",
   "id": "5c7d9dd1",
   "metadata": {},
   "source": [
    " $$r_E = \\theta_e D_L$$ where $$\\theta_E = \\sqrt{\\frac{4GM}{c^2}\\frac{1}{D}}$$"
   ]
  },
  {
   "cell_type": "code",
   "execution_count": null,
   "id": "7e4cb2f8",
   "metadata": {},
   "outputs": [],
   "source": [
    "# Function to calculate Einstein angle of a lensing system\n",
    "# M = mass of the lens\n",
    "# D = Effective lensing distance\n",
    "# Output: Einstein angle in radians\n",
    "def Einstein_angle(M, D):\n",
    "    return np.sqrt((4*G*M)/(c**2*D))\n",
    "\n",
    "# Defining lensing system parameters (lengths)\n",
    "DL =             # Distance between lens and observer in Gpc\n",
    "DS =             # Distance between source and observer in Gpc\n",
    "DLS =            # Distance between lens and source in Gpc\n",
    "D = DL*DS/DLS    # Effective lensing distance in Gpc\n",
    "beta =           # Angular position of source in radians\n",
    "\n",
    "# Defining lensing system parameters (times)\n",
    "t_var =          # Minimum variability time scale\n",
    "T_90 =           # Observed burst duration\n",
    "\n",
    "# Defining lensing system parameters\n",
    "M = 1e-14        # Mass of lens in solar masses\n",
    "z_L = 0          # Redshift of lens (simplifying approximation)\n",
    "z_S = 0          # Redshift of source (simplifying approximation)\n",
    "\n",
    "# Derived parameters\n",
    "theta_E = Einstein_angle(M, D)    # def Einstein_angle(M, D)\n",
    "r_E = theta_E * DL                # Einstein radius in Gpc"
   ]
  },
  {
   "cell_type": "code",
   "execution_count": null,
   "id": "13c1fd51",
   "metadata": {},
   "outputs": [],
   "source": [
    "u = beta / theta_E # Position of the source"
   ]
  },
  {
   "cell_type": "code",
   "execution_count": null,
   "id": "a22b823a",
   "metadata": {},
   "outputs": [],
   "source": [
    "# Functions to calculate magnification and brightness flux of each image\n",
    "# u = beta/theta_E \n",
    "    # where beta is the angular position of the source\n",
    "    # and theta_E is the Einstein angle of the given lensing system\n",
    "# Output: individual magnifications of each image [mag_1, mag_2]\n",
    "def image_magnification(u):\n",
    "    mag_dist = (u**2 + 2)/(2*u*np.sqrt(u**2 + 4))\n",
    "    return np.abs(0.5 + mag_dist), np.abs(0.5 - mag_dist)\n",
    "\n",
    "# Obtaining parameter values\n",
    "[mu_plus,mu_minus] = image_magnification(u)\n",
    "A = mu_plus + mu_minus    # Observed magnification of unresolved images"
   ]
  },
  {
   "cell_type": "code",
   "execution_count": 5,
   "id": "796220c9",
   "metadata": {},
   "outputs": [],
   "source": [
    "# Conservative\n",
    "epsilon = 0.1\n",
    "nu = 1.2e+20    # 0.5 MeV\n",
    "NGRB = 10**3\n",
    "# Delta_r = np.array(((2*r_earth) / AU, L2_point(R, M_sun, M_earth), 2))     # distances in AU\n",
    "                                                                       # def L2_point(R, M1, M2)\n",
    "                                                                       # Delta_r[0] = 2*r_earth, Delta_r[1] = L2_point, Delta_r[2] = 2*AU"
   ]
  },
  {
   "cell_type": "code",
   "execution_count": 6,
   "id": "f38ea3d5",
   "metadata": {},
   "outputs": [],
   "source": [
    "# Optimistic\n",
    "epsilon = 0.01\n",
    "nu = 1.2e+21    # 5 MeV\n",
    "NGRB = 10**4\n",
    "# Delta_r = np.array(((2*r_earth) / AU, L2_point(R, M_sun, M_earth), 2))    # distances in AU\n",
    "                                                                       # def L2_point(R, M1, M2)\n",
    "                                                                       # Delta_r[0] = 2*r_earth, Delta_r[1] = L2_point, Delta_r[2] = 2*AU"
   ]
  },
  {
   "cell_type": "markdown",
   "id": "a8263c75",
   "metadata": {},
   "source": [
    " - From 1. $$\\Delta r \\gtrsim r_E \\Leftrightarrow M_{max} \\lesssim \\left(\\frac{\\Delta r}{AU}\\right)^2 \\left(\\frac{Gpc}{D}\\right)10^{-7}M_\\odot$$\n",
    " - From 2. $$M_{min} \\gtrsim \\epsilon \\left(\\frac{r_S}{r_\\odot}\\right)^2 \\left(\\frac{Gpc}{D}\\right) 10^{-12}M_\\odot$$\n",
    " - From 3. for GRBs with $f = 10^{19} - 10^{21}$ and negligible $z_L$ $$M_{min} \\gtrsim (10^{-15} - 10^{-17})M_\\odot$$"
   ]
  },
  {
   "cell_type": "code",
   "execution_count": null,
   "id": "36e15f0c",
   "metadata": {},
   "outputs": [],
   "source": [
    "r_S = c * t_var    # Physical transverse emission size\n",
    "Gamma = c * T_90   # Lorentz boost"
   ]
  },
  {
   "cell_type": "code",
   "execution_count": null,
   "id": "114a0a2f",
   "metadata": {},
   "outputs": [],
   "source": [
    "# Function to calculate the upper and lower bound for lens' mass in units of solar masses\n",
    "def Lensing_parallax_conditions(Delta_r, M, r_E, D):\n",
    "    prefactor_1 = (AU**2) / (M_sun * (1e9 * pc)) * ((c**2) / (4 * G))\n",
    "    M_upper = prefactor_1 * (Delta_r)**2 * (1/D)\n",
    "    # WARNING: NOT INCLUDED RADIOMETRIC RESOLUTION CONDITION\n",
    "    prefactor_2 = (r_sun**2) / ((1e9 * pc) * M_sun) * ((c**2) / (4 * G))\n",
    "    prefactor_3 = (0.1 * (c**3)) / (2 * G) * 1 / (nu * (1 + z_L)) * 1 / (M_sun)\n",
    "    M_lower = np.max((prefactor_2 * epsilon * (1/D) * (r_S)**2), (prefactor_3))\n",
    "    if ((M > M_lower) and (M < M_upper)):\n",
    "        print(M,\" is in the given mass range\", M_lower, \" to \", M_upper)\n",
    "    else:\n",
    "        print(M,\" is not in the given mass range\", M_lower, \" to \", M_upper)"
   ]
  },
  {
   "cell_type": "code",
   "execution_count": null,
   "id": "f6171694",
   "metadata": {},
   "outputs": [],
   "source": [
    "NGRB_small = 0.1 * NGRB    # \"smallest GRBs with r_S < r_sun are the ones that allow to probe lightest unconstrained PBH mass range\"\n",
    "NGRB_tiny = 0.03 * NGRB    # r_S < 0.1 r_sun"
   ]
  },
  {
   "cell_type": "code",
   "execution_count": null,
   "id": "8b8224fd",
   "metadata": {},
   "outputs": [],
   "source": [
    "tau = "
   ]
  }
 ],
 "metadata": {
  "kernelspec": {
   "display_name": "Python 3",
   "language": "python",
   "name": "python3"
  },
  "language_info": {
   "codemirror_mode": {
    "name": "ipython",
    "version": 3
   },
   "file_extension": ".py",
   "mimetype": "text/x-python",
   "name": "python",
   "nbconvert_exporter": "python",
   "pygments_lexer": "ipython3",
   "version": "3.8.10"
  }
 },
 "nbformat": 4,
 "nbformat_minor": 5
}
