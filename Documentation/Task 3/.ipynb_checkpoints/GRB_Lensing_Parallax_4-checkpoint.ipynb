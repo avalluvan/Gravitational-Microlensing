{
 "cells": [
  {
   "cell_type": "code",
   "execution_count": 1,
   "id": "6c29c347-f0ef-4421-8311-d2bd6624890d",
   "metadata": {},
   "outputs": [],
   "source": [
    "import numpy as np\n",
    "from matplotlib import pyplot as plt\n",
    "\n",
    "import scipy as sc\n",
    "from scipy.optimize import curve_fit # For fitting redshift distribution\n",
    "from scipy.optimize import newton    # For finding roots to nonlinear equation\n",
    "import scipy.integrate as integrate  # For integration\n",
    "\n",
    "from PIL import Image\n",
    "import pylab                         # For generating contours of image\n",
    "\n",
    "from astropy.coordinates import Distance    # For changing from redshift to distance\n",
    "from astropy.cosmology import WMAP7, WMAP9  # For changing from redshift to distance\n",
    "from astropy import units as u\n",
    "\n",
    "# For auxiliary functions\n",
    "import time\n",
    "import sys"
   ]
  },
  {
   "cell_type": "markdown",
   "id": "5ab6f67d-3c9d-4999-a2c9-d6824c7d4cdc",
   "metadata": {},
   "source": [
    "$$AU = 149.6 \\text{ million km}$$\n",
    "\n",
    "$$\\text{parsec} = 3.26 \\text{ light years } = 30.9 \\text{ trillion km}$$\n",
    "\n",
    "$$H_0 = 70 km/s/Mpc$$\n",
    "\n",
    "$$M_\\odot = 2\\times 10^{30}kg$$\n",
    "\n",
    "$$r_\\odot = 7\\times 10^{8}km$$"
   ]
  },
  {
   "cell_type": "code",
   "execution_count": 2,
   "id": "86a756bb-c39d-4854-b676-d912fb1b401d",
   "metadata": {},
   "outputs": [],
   "source": [
    "# Defining constants\n",
    "c = 3e+8             # speed of light in m/s\n",
    "AU = 1.5e+11       # astronomical unit = 149.6 million km\n",
    "G = 6.67e-11      # Gravitational constant in Nm^2 kg^-2 == m^3 kg^-1 s^-2\n",
    "pc = 3e+16       # parsec = 3.26 light years = 206,000 AU = 30.9 trillion km\n",
    "Gpc = 1e9*pc\n",
    "H_0 = 70e3           # Cosmological constant in m/(s Mpc)\n",
    "\n",
    "# Defining radius and mass parameters of the system\n",
    "M_sun = 2e+30    # in kg\n",
    "M_earth = 6e+24 / M_sun # in solar masses\n",
    "r_sun = 7e+8    # 696,340 km\n",
    "r_earth = 6.4e+6/AU    # 6371 km, variable in AU\n",
    "\n",
    "rho_crit_0 = 9.21e-27 / M_sun    # critical density in solar masses per m^3\n",
    "Omega_DM = 0.26"
   ]
  },
  {
   "cell_type": "markdown",
   "id": "e58bf752-5794-4e5c-bebe-ec79a60bdaca",
   "metadata": {},
   "source": [
    "Lagrange Point under reduced mass constraint $$R_{L_2} = R\\left(\\frac{M_2}{3M_1}\\right)^{1/3}$$"
   ]
  },
  {
   "cell_type": "code",
   "execution_count": 3,
   "id": "f8d9ac08-0664-4c14-88c3-c12b5dc23a39",
   "metadata": {},
   "outputs": [],
   "source": [
    "# Function to calculate location of L2, under reduced mass constraint\n",
    "# R = distance between two masses M1, M2\n",
    "# M1 = Mass of the larger object\n",
    "# M2 = Mass of the smaller object\n",
    "# https://en.wikipedia.org/wiki/Lagrange_point#L2\n",
    "# Output: Langrange point distance in AU\n",
    "def L2_point(R, M1, M2):\n",
    "    return (R * (M2/(3*M1))**(1/3))"
   ]
  },
  {
   "cell_type": "markdown",
   "id": "4659657c-8d1d-4ace-9423-79188978a639",
   "metadata": {},
   "source": [
    "### Redshift vs GRB Distribution"
   ]
  },
  {
   "cell_type": "code",
   "execution_count": 4,
   "id": "628140c0-3373-4630-9cf1-f697edbf4160",
   "metadata": {},
   "outputs": [],
   "source": [
    "redshift = np.genfromtxt('redshift.csv',delimiter=',')"
   ]
  },
  {
   "cell_type": "code",
   "execution_count": 5,
   "id": "6d83fda3-3637-4723-998a-77e755205243",
   "metadata": {},
   "outputs": [
    {
     "name": "stdout",
     "output_type": "stream",
     "text": [
      "[ 0.   0.5  1.   1.5  2.   2.5  3.   3.5  4.   4.5  5.   5.5  6.   6.5\n",
      "  7.   7.5  8.   8.5  9.   9.5 10. ]\n"
     ]
    },
    {
     "data": {
      "image/png": "[encoded data removed]",
      "text/plain": [
       "<Figure size 432x288 with 1 Axes>"
      ]
     },
     "metadata": {
      "needs_background": "light"
     },
     "output_type": "display_data"
    }
   ],
   "source": [
    "fig,ax = plt.subplots(1,1)\n",
    "bins = np.linspace(0, 10, 21)\n",
    "print(bins)\n",
    "data_entries, bins = np.histogram(redshift, bins=bins)\n",
    "binscenters = np.array([0.5 * (bins[i] + bins[i+1]) for i in range(len(bins)-1)])\n",
    "ax.hist(redshift, bins = bins)\n",
    "plt.show()"
   ]
  },
  {
   "cell_type": "markdown",
   "id": "9b9fbc60-5357-478d-bfa8-1f26bad662ed",
   "metadata": {},
   "source": [
    "Poisson distribution: $A.x.e^{-\\alpha x} \\equiv 495xe^{-1.025x}$"
   ]
  },
  {
   "cell_type": "code",
   "execution_count": 6,
   "id": "7dff0e01-4ddf-48ce-8a63-57be74a3fa45",
   "metadata": {},
   "outputs": [
    {
     "name": "stdout",
     "output_type": "stream",
     "text": [
      "[247.52234509   1.02585546]\n"
     ]
    }
   ],
   "source": [
    "def fit_function(x, A, alpha):\n",
    "    return (A * x * np.exp(-x*alpha))\n",
    "\n",
    "popt, pcov = curve_fit(fit_function, xdata=binscenters, ydata=data_entries, p0=[240,1.3])\n",
    "print(popt)"
   ]
  },
  {
   "cell_type": "code",
   "execution_count": 7,
   "id": "8df7f72d-69aa-4a38-b38f-3bd5a0a0c503",
   "metadata": {},
   "outputs": [
    {
     "data": {
      "image/png": "[encoded data removed]",
      "text/plain": [
       "<Figure size 432x288 with 1 Axes>"
      ]
     },
     "metadata": {
      "needs_background": "light"
     },
     "output_type": "display_data"
    }
   ],
   "source": [
    "xspace = np.linspace(0, 10, 100000)\n",
    "plt.bar(binscenters, data_entries, width=bins[1] - bins[0], color='navy', label=r'Histogram entries')\n",
    "plt.plot(xspace, fit_function(xspace, *popt), color='darkorange', linewidth=2.5, label=r'Fitted function')\n",
    "plt.xlabel(r'Redshift $z$')\n",
    "plt.ylabel(r'Number of GRBs')\n",
    "#plt.title(r'Exponential decay with gaussian peak')\n",
    "plt.legend(loc='best')\n",
    "#plt.savefig('fitted_distribution.png')\n",
    "plt.show()"
   ]
  },
  {
   "cell_type": "markdown",
   "id": "0c584e92-782d-40a8-bc11-be28a45859d2",
   "metadata": {},
   "source": [
    "Refer [scipy tutorial](https://riptutorial.com/scipy/example/31081/fitting-a-function-to-data-from-a-histogram) for further information"
   ]
  },
  {
   "cell_type": "code",
   "execution_count": 8,
   "id": "6ad94335-003b-48b6-bbd2-3651d5ec7952",
   "metadata": {},
   "outputs": [
    {
     "data": {
      "image/png": "[encoded data removed]",
      "text/plain": [
       "<Figure size 432x288 with 1 Axes>"
      ]
     },
     "metadata": {
      "needs_background": "light"
     },
     "output_type": "display_data"
    }
   ],
   "source": [
    "popt2 = np.array([247.52234509, 1.02585546])\n",
    "popt2[0] /= 0.5\n",
    "fig = plt.figure()\n",
    "ax = fig.add_subplot()\n",
    "plt.xlabel(r'Redshift $z$')\n",
    "plt.ylabel(r'Number of GRBs')\n",
    "plt.plot(xspace, fit_function(xspace,*popt2))\n",
    "ax.text(5, 150, r'$f(x)=495x e^{-1.025x}$', fontsize=15)\n",
    "#plt.savefig('distribution accounting for bin size.png')\n",
    "plt.show()"
   ]
  },
  {
   "cell_type": "code",
   "execution_count": 9,
   "id": "3a6abb0c-333b-4c34-a3a6-bac5f12cadd4",
   "metadata": {},
   "outputs": [],
   "source": [
    "Num_GRBs = lambda z_S: popt2[0] * z_S * np.exp(-popt2[1] * z_S) # Number of GRBs in +/- 0.05 for a given redshift\n",
    "GRB_distribution = lambda z_S: popt2[0] * z_S * np.exp(-popt2[1] * z_S) / integrate.quad(Num_GRBs, 0, 10)[0] # GRB progenitor distribution as a function of redshift\n",
    "Pr_GRB_zS = lambda z_S: integrate.quad(GRB_distribution, z_S - 0.25, z_S + 0.25) # Probability of selected GRB having z_S +/- 0.25 redshift"
   ]
  },
  {
   "cell_type": "code",
   "execution_count": 10,
   "id": "c658234d-b5b7-4407-8210-1d6ec0f1b168",
   "metadata": {},
   "outputs": [],
   "source": [
    "GRB_dbt_bin_size = 20\n",
    "Pr_GRB_zS_numeric = np.zeros(GRB_dbt_bin_size)\n",
    "for i in range(GRB_dbt_bin_size):\n",
    "    Pr_GRB_zS_numeric[i] = Pr_GRB_zS(10/GRB_dbt_bin_size*i + 10/GRB_dbt_bin_size/2)[0]"
   ]
  },
  {
   "cell_type": "code",
   "execution_count": 11,
   "id": "073673e2-e255-4275-b738-1632f5d85daf",
   "metadata": {},
   "outputs": [
    {
     "data": {
      "text/plain": [
       "array([0.09418673, 0.17967312, 0.18139002, 0.15279999, 0.1179485 ,\n",
       "       0.08646377, 0.06125533, 0.04235567, 0.02876067, 0.01925626,\n",
       "       0.01274859, 0.00836301, 0.0054443 , 0.00352139, 0.00226507,\n",
       "       0.00144999, 0.00092433, 0.00058706, 0.00037163, 0.00023457])"
      ]
     },
     "execution_count": 11,
     "metadata": {},
     "output_type": "execute_result"
    }
   ],
   "source": [
    "Pr_GRB_zS_numeric"
   ]
  },
  {
   "cell_type": "code",
   "execution_count": 12,
   "id": "14dc7754-ebc7-4034-b5af-d8aa31b72adc",
   "metadata": {},
   "outputs": [],
   "source": [
    "# Block to randomly sample points from GRB progenitor distribution\n",
    "num_GRB_samples = 1000\n",
    "l = []\n",
    "for i in range(GRB_dbt_bin_size):\n",
    "    for j in range(int(Pr_GRB_zS_numeric[i]*10000)): # 10000 multiplier covers 99.88% of the population space, 1000 -> 99.0%, 100000 -> 99.99%\n",
    "        l.append(np.random.rand()/2 + i*10/GRB_dbt_bin_size)"
   ]
  },
  {
   "cell_type": "code",
   "execution_count": 13,
   "id": "545b463d-b286-4d42-a911-c01dee77ed9a",
   "metadata": {},
   "outputs": [],
   "source": [
    "GRB_list_redshift = np.array(l)\n",
    "np.random.shuffle(GRB_list_redshift)"
   ]
  },
  {
   "cell_type": "code",
   "execution_count": 14,
   "id": "8f182c9a-b246-47ac-9911-2d686d621cb9",
   "metadata": {},
   "outputs": [
    {
     "data": {
      "text/plain": [
       "9988"
      ]
     },
     "execution_count": 14,
     "metadata": {},
     "output_type": "execute_result"
    }
   ],
   "source": [
    "np.size(GRB_list_redshift)"
   ]
  },
  {
   "cell_type": "code",
   "execution_count": 15,
   "id": "0e6530b9-4271-4a59-b010-646c68ca5e22",
   "metadata": {},
   "outputs": [],
   "source": [
    "sim_GRB_list_redshift = np.zeros(num_GRB_samples)\n",
    "size_GRB_list_redshift = np.shape(GRB_list_redshift)[0]\n",
    "for i in range(num_GRB_samples):\n",
    "    sim_GRB_list_redshift[i] = GRB_list_redshift[np.random.randint(size_GRB_list_redshift)]"
   ]
  },
  {
   "cell_type": "code",
   "execution_count": 16,
   "id": "4f845351-b2ef-480b-83d5-0d688c85c444",
   "metadata": {},
   "outputs": [
    {
     "data": {
      "text/plain": [
       "(7.110190859355159e-05, 9.39159451974193)"
      ]
     },
     "execution_count": 16,
     "metadata": {},
     "output_type": "execute_result"
    }
   ],
   "source": [
    "np.min(sim_GRB_list_redshift),np.max(sim_GRB_list_redshift)"
   ]
  },
  {
   "cell_type": "markdown",
   "id": "9f393eaf-dd4d-489f-8d98-c4ec132b8106",
   "metadata": {},
   "source": [
    "### Source Star Radius vs GRB Distribution"
   ]
  },
  {
   "cell_type": "code",
   "execution_count": 17,
   "id": "cacb3dfe-510f-4816-a9ca-b4c454d898d5",
   "metadata": {},
   "outputs": [],
   "source": [
    "source_star = np.genfromtxt('source_star.csv',delimiter=',')"
   ]
  },
  {
   "cell_type": "code",
   "execution_count": 18,
   "id": "1dd85ebe-8825-4987-b587-37417a62ae15",
   "metadata": {},
   "outputs": [
    {
     "name": "stdout",
     "output_type": "stream",
     "text": [
      "[-2.2 -2.  -1.8 -1.6 -1.4 -1.2 -1.  -0.8 -0.6 -0.4 -0.2  0.   0.2  0.4\n",
      "  0.6  0.8  1.   1.2  1.4  1.6  1.8  2.   2.2  2.4  2.6  2.8  3.   3.2]\n"
     ]
    },
    {
     "data": {
      "image/png": "[encoded data removed]",
      "text/plain": [
       "<Figure size 432x288 with 1 Axes>"
      ]
     },
     "metadata": {
      "needs_background": "light"
     },
     "output_type": "display_data"
    }
   ],
   "source": [
    "fig,ax = plt.subplots(1,1)\n",
    "bins = np.linspace(-2.2, 3.2, 28)\n",
    "print(bins)\n",
    "data_entries, bins = np.histogram(source_star, bins=bins)\n",
    "binscenters = np.array([0.5 * (bins[i] + bins[i+1]) for i in range(len(bins)-1)])\n",
    "ax.hist(source_star, bins = bins)\n",
    "plt.show()"
   ]
  },
  {
   "cell_type": "markdown",
   "id": "a9d4784b-96b0-46bb-aae2-81a7f0374010",
   "metadata": {},
   "source": [
    "Double Gaussian Distribution: $c_1.e^{-\\frac{(x-\\mu_1)^2}{2\\sigma_1^2}} + c_2.e^{-\\frac{(x-\\mu_2)^2}{2\\sigma_2^2}}$"
   ]
  },
  {
   "cell_type": "code",
   "execution_count": 19,
   "id": "f3a31bdb-eb0e-4db4-8a7c-61f5186fbcd8",
   "metadata": {},
   "outputs": [
    {
     "name": "stdout",
     "output_type": "stream",
     "text": [
      "[ 34.34949502  -0.67785818  -0.55209415 248.51853339   1.20256234\n",
      "   0.55588398]\n"
     ]
    }
   ],
   "source": [
    "def fit_function(x, c1, mu1, sigma1, c2, mu2, sigma2):\n",
    "    return (c1 * np.exp( - (x - mu1)**2.0 / (2.0 * sigma1**2.0) ) + c2 * np.exp( - (x - mu2)**2.0 / (2.0 * sigma2**2.0) ))\n",
    "\n",
    "popt, pcov = curve_fit(fit_function, xdata=binscenters, ydata=data_entries, p0=[50,-1,1,250,1,2])\n",
    "print(popt)"
   ]
  },
  {
   "cell_type": "code",
   "execution_count": 20,
   "id": "cf8e8e52-5b78-4098-ac42-f439898fd2dc",
   "metadata": {},
   "outputs": [
    {
     "data": {
      "image/png": "[encoded data removed]",
      "text/plain": [
       "<Figure size 432x288 with 1 Axes>"
      ]
     },
     "metadata": {
      "needs_background": "light"
     },
     "output_type": "display_data"
    }
   ],
   "source": [
    "xspace = np.linspace(-2.2, 3.2, 100000)\n",
    "plt.bar(binscenters, data_entries, width=bins[1] - bins[0], color='navy', label=r'Histogram entries')\n",
    "plt.plot(xspace, fit_function(xspace, *popt), color='darkorange', linewidth=2.5, label=r'Fitted function')\n",
    "plt.xlabel(r'Source Star Radius $r_S$')\n",
    "plt.ylabel(r'Number of GRBs')\n",
    "#plt.title(r'Exponential decay with gaussian peak')\n",
    "plt.legend(loc='best')\n",
    "#plt.savefig('fitted_distribution.png')\n",
    "plt.show()"
   ]
  },
  {
   "cell_type": "code",
   "execution_count": 21,
   "id": "b2a3842c-f7a2-4383-8918-e7b5eca56bf4",
   "metadata": {},
   "outputs": [],
   "source": [
    "source_star_2 = source_star\n",
    "np.random.shuffle(source_star_2)\n",
    "sim_GRB_list_ss = np.zeros(num_GRB_samples)\n",
    "size_GRB_list_ss = np.shape(source_star)[0]\n",
    "for i in range(num_GRB_samples):\n",
    "    sim_GRB_list_ss[i] = source_star_2[np.random.randint(size_GRB_list_ss)] - 0.1 + 0.2*np.random.rand()"
   ]
  },
  {
   "cell_type": "code",
   "execution_count": 22,
   "id": "db5cfdfa-c22f-420b-8a98-32e7d7e15f5a",
   "metadata": {},
   "outputs": [
    {
     "data": {
      "text/plain": [
       "(-2.1247017834095123, 3.1057604553682343)"
      ]
     },
     "execution_count": 22,
     "metadata": {},
     "output_type": "execute_result"
    }
   ],
   "source": [
    "np.min(sim_GRB_list_ss),np.max(sim_GRB_list_ss)"
   ]
  },
  {
   "cell_type": "markdown",
   "id": "a21abe40-d879-41cd-8986-433e0585a4b6",
   "metadata": {},
   "source": [
    "Einstein Angle $$\\theta_E = \\sqrt{\\frac{4GM}{c^2}\\frac{1}{D}} = \\sqrt{\\frac{4GM}{c^2}\\frac{D_{LS}}{D_L D_S}}$$\n",
    "\n",
    "Einstein Radius $$r_E = \\theta_e D_L$$"
   ]
  },
  {
   "cell_type": "code",
   "execution_count": 23,
   "id": "423ad9a6-fc95-4c92-9991-a7f46f8b3a1c",
   "metadata": {},
   "outputs": [],
   "source": [
    "# Function to calculate Einstein angle of a lensing system\n",
    "# M = mass of the lens\n",
    "# D = Effective lensing distance\n",
    "# Output: Einstein angle in radians\n",
    "def Einstein_angle(M, D):\n",
    "    return np.sqrt((4*G*(M*M_sun))/(c**2 * (D*Gpc)))"
   ]
  },
  {
   "cell_type": "code",
   "execution_count": 24,
   "id": "16ec9e2c-d547-4fdc-aa3a-d1409c0cfefe",
   "metadata": {},
   "outputs": [],
   "source": [
    "num_samples = num_GRB_samples\n",
    "\n",
    "# Defining lensing system parameters (lengths)\n",
    "DS = WMAP9.comoving_distance(sim_GRB_list_redshift).value/1e3    # Distance between source and observer in Gpc\n",
    "r_S = sim_GRB_list_ss"
   ]
  },
  {
   "cell_type": "markdown",
   "id": "03c78a79-ee17-4fda-9901-10d1d42e53d9",
   "metadata": {},
   "source": [
    "Comoving Distance $$\\int_0^z \\frac{cdz}{H(z)}$$\n",
    "where $$H(z) = \\sqrt{(1+z)^3\\Omega_m + (1+z)^4\\Omega_r + \\Omega_\\Lambda}$$\n",
    "\n",
    "[Source](https://docs.astropy.org/en/stable/cosmology/index.html)"
   ]
  },
  {
   "cell_type": "code",
   "execution_count": 25,
   "id": "7e0a21fe-6230-4a85-9448-d73a4a2caf9d",
   "metadata": {},
   "outputs": [
    {
     "name": "stdout",
     "output_type": "stream",
     "text": [
      "5.13967702165249 5.291730374382688\n"
     ]
    }
   ],
   "source": [
    "Hofz_inv = lambda z: 1/(H_0*np.sqrt(0.69 + (1+z)**3*0.31))\n",
    "dcomoving = c*integrate.quad(Hofz_inv, 0, 2)[0]/1e3\n",
    "print(dcomoving, WMAP9.comoving_distance(2).value/1e3)    # In Gpc"
   ]
  },
  {
   "cell_type": "code",
   "execution_count": 26,
   "id": "3ad76d6c-d8c7-4b30-96b6-b7966c19d73e",
   "metadata": {},
   "outputs": [
    {
     "data": {
      "text/plain": [
       "(array([219., 322., 224., 108.,  73.,  31.,  12.,   5.,   4.,   2.]),\n",
       " array([7.11019086e-05, 9.39223444e-01, 1.87837579e+00, 2.81752813e+00,\n",
       "        3.75668047e+00, 4.69583281e+00, 5.63498515e+00, 6.57413749e+00,\n",
       "        7.51328984e+00, 8.45244218e+00, 9.39159452e+00]),\n",
       " <BarContainer object of 10 artists>)"
      ]
     },
     "execution_count": 26,
     "metadata": {},
     "output_type": "execute_result"
    },
    {
     "data": {
      "image/png": "[encoded data removed]",
      "text/plain": [
       "<Figure size 432x288 with 1 Axes>"
      ]
     },
     "metadata": {
      "needs_background": "light"
     },
     "output_type": "display_data"
    }
   ],
   "source": [
    "plt.title('Sampled distribution of Redshift')\n",
    "plt.hist(sim_GRB_list_redshift)"
   ]
  },
  {
   "cell_type": "code",
   "execution_count": 27,
   "id": "a33f6a1f-ac03-4996-94f5-53cacf492176",
   "metadata": {},
   "outputs": [
    {
     "data": {
      "text/plain": [
       "(array([ 41.,  54.,  79., 124., 171., 188., 166., 108.,  57.,  12.]),\n",
       " array([3.07494087e-04, 9.54929829e-01, 1.90955216e+00, 2.86417450e+00,\n",
       "        3.81879683e+00, 4.77341917e+00, 5.72804150e+00, 6.68266384e+00,\n",
       "        7.63728617e+00, 8.59190851e+00, 9.54653084e+00]),\n",
       " <BarContainer object of 10 artists>)"
      ]
     },
     "execution_count": 27,
     "metadata": {},
     "output_type": "execute_result"
    },
    {
     "data": {
      "image/png": "[encoded data removed]",
      "text/plain": [
       "<Figure size 432x288 with 1 Axes>"
      ]
     },
     "metadata": {
      "needs_background": "light"
     },
     "output_type": "display_data"
    }
   ],
   "source": [
    "plt.title('Sampled distribution of Observer-Source Distances')\n",
    "plt.hist(DS)"
   ]
  },
  {
   "cell_type": "code",
   "execution_count": 28,
   "id": "bea7d1c7-7e60-46d3-a74d-7a6dba195ddc",
   "metadata": {},
   "outputs": [
    {
     "data": {
      "text/plain": [
       "(array([  6.,  19.,  35.,  40., 100., 248., 325., 180.,  40.,   7.]),\n",
       " array([-2.12470178, -1.60165556, -1.07860934, -0.55556311, -0.03251689,\n",
       "         0.49052934,  1.01357556,  1.53662178,  2.05966801,  2.58271423,\n",
       "         3.10576046]),\n",
       " <BarContainer object of 10 artists>)"
      ]
     },
     "execution_count": 28,
     "metadata": {},
     "output_type": "execute_result"
    },
    {
     "data": {
      "image/png": "[encoded data removed]",
      "text/plain": [
       "<Figure size 432x288 with 1 Axes>"
      ]
     },
     "metadata": {
      "needs_background": "light"
     },
     "output_type": "display_data"
    }
   ],
   "source": [
    "plt.title('Sampled distribution of Source Star Radii')\n",
    "plt.hist(r_S)"
   ]
  },
  {
   "cell_type": "code",
   "execution_count": 29,
   "id": "60b3f815-0fc9-46d5-90ba-9ebb73a4cfcd",
   "metadata": {},
   "outputs": [],
   "source": [
    "# Option 1 = Conservative\n",
    "# Option 2 = Optimistic\n",
    "\n",
    "option = 2\n",
    "\n",
    "if option == 1:\n",
    "    epsilon = 0.1\n",
    "    NGRB = 10**3\n",
    "    #Delta_r = np.array(((2*r_earth) / AU, L2_point(R, 1, M_earth), 2))     # distances in AU\n",
    "                                                                           # def L2_point(R, M1, M2)\n",
    "                                                                           # Delta_r[0] = 2*r_earth, Delta_r[1] = L2_point, Delta_r[2] = 2*AU\n",
    "elif option == 2:\n",
    "    epsilon = 0.01\n",
    "    NGRB = 10**4\n",
    "    #Delta_r = np.array(((2*r_earth) / AU, L2_point(R, 1, M_earth), 2))     # distances in AU\n",
    "                                                                           # def L2_point(R, M1, M2)\n",
    "                                                                           # Delta_r[0] = 2*r_earth, Delta_r[1] = L2_point, Delta_r[2] = 2*AU"
   ]
  },
  {
   "cell_type": "markdown",
   "id": "0d31eeae-824d-414b-9855-8fcebb134ce7",
   "metadata": {},
   "source": [
    "### Appendix B: Finite source-size effect"
   ]
  },
  {
   "cell_type": "code",
   "execution_count": 30,
   "id": "1e17fdcd-9d73-4954-a328-07d61437e616",
   "metadata": {
    "tags": []
   },
   "outputs": [],
   "source": [
    "# Function to calculate A_in\n",
    "# Output: A_in\n",
    "def A_in(u, delta):\n",
    "    return (np.sqrt(1+ 4/(delta**2)) - 8 / (delta**3 * (delta**2 + 4)**1.5) * u**2/2 - 144 * (delta**4 + 2*delta**2 + 2) / (delta**5 * (delta**2 + 4)**3.5) * u**4/24)\n",
    "    \n",
    "# Function to calculate A_out\n",
    "# Output: A_out\n",
    "def A_out(u, delta):\n",
    "    return ((2 + u**2) / (u*np.sqrt(u**2 + 4)) + (8*(u**2 + 1)) / (u**3 * (u**2 + 4)**2.5) * delta**2/2 + 48*(3*u**6 + 6*u**4 + 14*u**2 + 12) / (u**5 * (u**2 + 4)**4.5) * delta**4/24)\n",
    "\n",
    "def A_intermediate(u, delta):\n",
    "    return (A_out(1.1*delta, delta)*(u - 0.9*delta)/(0.2*delta) + A_in(0.9*delta, delta)*(1.1*delta - u)/(0.2*delta))\n",
    "\n",
    "# Function to calculate the magnification of a finite sized circular source with constant surface brightness by a point-lens in the geometrical optics limit\n",
    "# r_S = source size\n",
    "# D = Effective lensing distance\n",
    "# theta_E = Einstein angle\n",
    "# u = Position of the source\n",
    "# Output: Magnification\n",
    "def finite_source_size_effect(r_S, D, theta_E, u, num_sides):\n",
    "    \n",
    "    A = np.zeros([num_sides,num_sides])\n",
    "    theta_S = r_S/(D * Gpc)\n",
    "    delta = theta_S/theta_E\n",
    "    \n",
    "    Obs = np.where(u <= 0.9*delta, A_in(u, delta), 0)\n",
    "    Obs += np.where(u >= 1.1*delta, A_out(u, delta), 0)\n",
    "    Obs += np.where((u > 0.9*delta)&(u < 1.1*delta), A_intermediate(u, delta), 0)\n",
    "    \n",
    "    return Obs"
   ]
  },
  {
   "cell_type": "code",
   "execution_count": 31,
   "id": "c8fb0ab8-88ee-492e-b353-3e12d4b9e2ec",
   "metadata": {},
   "outputs": [],
   "source": [
    "# Simulating lens plane position of detectable dark matter\n",
    "# ACTIVE BLOCK\n",
    "\n",
    "def sim_lens_plane(epsilon, GRB_progenitor_size_factor, num_masses, start_mass, end_mass, Delta_r, DS, x_lens, num_sides, theta, grid_length_factor):\n",
    "\n",
    "    r_S = GRB_progenitor_size_factor * r_sun\n",
    "    M = np.logspace(start_mass, end_mass, num_masses)\n",
    "    theta_E = np.zeros(num_masses)\n",
    "\n",
    "    DL = x_lens*DS\n",
    "    DLS = DS - DL\n",
    "    D = DS*DL/DLS\n",
    "    \n",
    "    Delta_r = Delta_r*np.cos(theta)\n",
    "\n",
    "    arr_lens_plane_pos = np.zeros((num_masses,num_sides,num_sides))\n",
    "    arr_lens_plane_pos_2 = np.zeros((num_masses,num_sides,num_sides))\n",
    "\n",
    "    beta1 = np.zeros(num_sides)\n",
    "    beta2 = np.zeros(num_sides)\n",
    "    u1 = np.zeros([num_sides,num_sides])\n",
    "    u2 = np.zeros([num_sides,num_sides])\n",
    "    u_single = np.zeros([num_sides, num_sides])\n",
    "\n",
    "    count = np.zeros(num_masses)\n",
    "    pixel_length_x = np.zeros(num_masses)\n",
    "    pixel_length_y = np.zeros(num_masses)\n",
    "    grid_length_x = 0\n",
    "    grid_length_y = 0\n",
    "    \n",
    "    # Calculating Einstein angles for each mass of lens\n",
    "    for k in range(num_masses):\n",
    "        theta_E[k] = Einstein_angle(M[k],D)\n",
    "    print(' ')\n",
    "\n",
    "    max_A = 0\n",
    "    max_u = 0\n",
    "\n",
    "    for k in range(num_masses):\n",
    "\n",
    "        calc_finite = lambda u: finite_source_size_effect(r_S, D, theta_E[k], u, num_sides)\n",
    "\n",
    "        print('Iteration:',k)\n",
    "\n",
    "        grid_length_x = (2*grid_length_factor*theta_E[k] + Delta_r/D)\n",
    "        grid_length_y = (2*grid_length_factor*theta_E[k] + Delta_r/D)\n",
    "        \n",
    "        pixel_length_x[k] = grid_length_x/num_sides\n",
    "        pixel_length_y[k] = grid_length_y/num_sides\n",
    "\n",
    "        for j in range(num_sides):\n",
    "            \n",
    "            tmp_x = (np.arange(int(-num_sides/2), int(num_sides/2)) + 0.5)*pixel_length_x[k]\n",
    "            tmp_y = ((j - num_sides/2) + 0.5)*pixel_length_y[k]\n",
    "            \n",
    "            beta1 = np.sqrt((tmp_x - Delta_r/2/D)**2 + tmp_y**2)\n",
    "            beta2 = np.sqrt((tmp_x + Delta_r/2/D)**2 + tmp_y**2)\n",
    "            \n",
    "            u1[j] = beta1/theta_E[k]\n",
    "            u2[j] = beta2/theta_E[k]\n",
    "            \n",
    "            u_single[j] = np.sqrt((tmp_x)**2 + (tmp_y)**2)/theta_E[k]\n",
    "                \n",
    "        A1 = calc_finite(u1)\n",
    "        A2 = calc_finite(u2)\n",
    "        \n",
    "        A_single = calc_finite(u_single)\n",
    "\n",
    "        arr_lens_plane_pos[k] = 2*np.abs(A1 - A2)/(A1 + A2)\n",
    "        count[k] = (arr_lens_plane_pos[k]>epsilon).sum()\n",
    "        #arr_lens_plane_pos[k] = np.where(arr_lens_plane_pos<epsilon,0,arr_lens_plane_pos[k])\n",
    "\n",
    "    print(' ')\n",
    "    print(\"count=\",count) \n",
    "    print(' ')\n",
    "    \n",
    "    return (arr_lens_plane_pos, A_single, theta_E, pixel_length_x, pixel_length_y, M, grid_length_x, grid_length_y, count)"
   ]
  },
  {
   "cell_type": "code",
   "execution_count": 46,
   "id": "0195bcfb-0fcd-49c2-a38f-9c963b51dd3c",
   "metadata": {},
   "outputs": [
    {
     "name": "stdout",
     "output_type": "stream",
     "text": [
      " \n",
      "Iteration: 0\n",
      " \n",
      "count= [1776.]\n",
      " \n"
     ]
    },
    {
     "data": {
      "image/png": "[encoded data removed]",
      "text/plain": [
       "<Figure size 576x432 with 2 Axes>"
      ]
     },
     "metadata": {
      "needs_background": "light"
     },
     "output_type": "display_data"
    },
    {
     "name": "stdout",
     "output_type": "stream",
     "text": [
      "Mass of lens = 1e-11\n",
      "Maximum value of observable flux 1.6989357122225737\n",
      "Area of bright cells = 7.246795837640591e+43\n"
     ]
    },
    {
     "data": {
      "image/png": "[encoded data removed]",
      "text/plain": [
       "<Figure size 432x432 with 1 Axes>"
      ]
     },
     "metadata": {
      "needs_background": "light"
     },
     "output_type": "display_data"
    }
   ],
   "source": [
    "# epsilon, GRB_progenitor_size_factor, num_masses, start_mass, end_mass, Delta_r, DS, x_lens, num_sides, theta\n",
    "epsilon_input = 0.1\n",
    "GRB_progenitor_size_factor = 0.1\n",
    "Delta_r = np.array([2*AU/Gpc, L2_point(AU/Gpc,1,M_earth), 2*r_earth/Gpc])\n",
    "theta = 0\n",
    "\n",
    "present_Delta_r = Delta_r[1]\n",
    "\n",
    "num_masses = 1\n",
    "start_mass = -11\n",
    "end_mass = -11\n",
    "\n",
    "DS_input = 1\n",
    "x_lens = 0.1\n",
    "\n",
    "num_sides = 80\n",
    "grid_length_factor = 2\n",
    "\n",
    "[arr_lens_plane_pos, A_single, theta_E, pixel_length_x, pixel_length_y, M, grid_length_x, grid_length_y, count] = sim_lens_plane(epsilon_input, GRB_progenitor_size_factor, num_masses, start_mass, end_mass, present_Delta_r, DS_input, x_lens, num_sides, theta, grid_length_factor)\n",
    "\n",
    "k = 0\n",
    "DL_input = x_lens * DS_input\n",
    "\n",
    "\n",
    "fig = plt.figure(figsize=(8,6))\n",
    "pixel_extent = grid_length_x/theta_E[k]\n",
    "#pixel_length_x[k]/(DL_input*theta_E[k]/num_sides)/2\n",
    "plt.imshow(arr_lens_plane_pos[k], extent=[-pixel_extent, pixel_extent, -pixel_extent, pixel_extent])#, norm=colors.LogNorm(), vmin=epsilon_input, vmax=np.max(arr_lens_plane_pos))\n",
    "plt.title(\"2D array of lens plane dark matter distribution\")\n",
    "#plt.grid()\n",
    "\n",
    "plt.xlabel('$u_x(\\Theta_E)$')\n",
    "plt.ylabel(\"$u_y(\\Theta_E)$\")\n",
    "\n",
    "plt.colorbar()\n",
    "plt.scatter([present_Delta_r/2/DS_input*(1/x_lens-1)/theta_E[k], - present_Delta_r/2/DS_input*(1/x_lens-1)/theta_E[k]], [0,0], c='black')\n",
    "plt.show()\n",
    "print(\"Mass of lens =\",M[k])\n",
    "print(\"Maximum value of observable flux\",np.max(arr_lens_plane_pos[k]))\n",
    "print(\"Area of bright cells =\", (count[k]*pixel_length_x[k]*Gpc*pixel_length_y[k]*Gpc) * DS_input *Gpc * x_lens**2)\n",
    "\n",
    "image = Image.fromarray(np.uint8(arr_lens_plane_pos[k] * 255), 'L')\n",
    "new_image = image.resize((int(200*pixel_length_x[k]/pixel_length_y[k]), 200))\n",
    "\n",
    "fig = plt.figure(figsize=(6,6))\n",
    "pylab.contour(new_image, extent=[-pixel_extent, pixel_extent, -pixel_extent, pixel_extent], levels=[245], colors='red', origin='image')\n",
    "plt.grid()"
   ]
  },
  {
   "cell_type": "code",
   "execution_count": 50,
   "id": "4925ce56-c81c-424e-9782-cf0a991fb5ca",
   "metadata": {},
   "outputs": [],
   "source": [
    "from matplotlib import colors"
   ]
  },
  {
   "cell_type": "code",
   "execution_count": 61,
   "id": "2cf854e0-a4d9-4a7e-b8f5-3bef53b9b453",
   "metadata": {},
   "outputs": [
    {
     "name": "stdout",
     "output_type": "stream",
     "text": [
      " \n",
      "Iteration: 0\n",
      " \n",
      "count= [0.]\n",
      " \n"
     ]
    },
    {
     "data": {
      "image/png": "[encoded data removed]",
      "text/plain": [
       "<Figure size 576x432 with 2 Axes>"
      ]
     },
     "metadata": {
      "needs_background": "light"
     },
     "output_type": "display_data"
    },
    {
     "name": "stdout",
     "output_type": "stream",
     "text": [
      "Mass of lens = 1e-06\n",
      "Maximum value of magnification 56.58078394020186\n"
     ]
    }
   ],
   "source": [
    "# TEMPORARY BLOCK\n",
    "\n",
    "# epsilon, GRB_progenitor_size_factor, num_masses, start_mass, end_mass, Delta_r, DS, x_lens, num_sides, theta\n",
    "epsilon_input = 0.1\n",
    "GRB_progenitor_size_factor = 0.1\n",
    "Delta_r = np.array([0,0,0])\n",
    "theta = 0\n",
    "\n",
    "present_Delta_r = Delta_r[1]\n",
    "\n",
    "num_masses = 1\n",
    "start_mass = -6\n",
    "end_mass = -6\n",
    "\n",
    "DS_input = 1\n",
    "x_lens = 0.1\n",
    "\n",
    "num_sides = 80\n",
    "grid_length_factor = 1\n",
    "\n",
    "[arr_lens_plane_pos, A_single, theta_E, pixel_length_x, pixel_length_y, M, grid_length_x, grid_length_y, count] = sim_lens_plane(epsilon_input, GRB_progenitor_size_factor, num_masses, start_mass, end_mass, present_Delta_r, DS_input, x_lens, num_sides, theta, grid_length_factor)\n",
    "\n",
    "k = 0\n",
    "DL_input = x_lens * DS_input\n",
    "\n",
    "\n",
    "fig = plt.figure(figsize=(8,6))\n",
    "pixel_extent = grid_length_x/theta_E[k]\n",
    "#pixel_length_x[k]/(DL_input*theta_E[k]/num_sides)/2\n",
    "plt.imshow(A_single, extent=[-pixel_extent, pixel_extent, -pixel_extent, pixel_extent], norm=colors.LogNorm(vmin=1, vmax=np.max(A_single)))\n",
    "plt.title(\"Lens plane PBH distribution vs Observed Magnification for $\\\\beta = 0$\")\n",
    "#plt.grid()\n",
    "\n",
    "plt.xlabel('$u_x(\\Theta_E)$')\n",
    "plt.ylabel(\"$u_y(\\Theta_E)$\")\n",
    "\n",
    "plt.colorbar()\n",
    "plt.show()\n",
    "print(\"Mass of lens =\",M[k])\n",
    "print(\"Maximum value of magnification\",np.max(A_single))\n",
    "#print(\"Area of bright cells =\", (count[k]*pixel_length_x[k]*Gpc*pixel_length_y[k]*Gpc) * DS_input *Gpc * x_lens**2)\n",
    "\n",
    "image = Image.fromarray(np.uint8(arr_lens_plane_pos[k] * 255), 'L')\n",
    "new_image = image.resize((int(200*pixel_length_x[k]/pixel_length_y[k]), 200))"
   ]
  },
  {
   "cell_type": "code",
   "execution_count": 33,
   "id": "a5b80f47-79a4-4c50-bb6f-ce748c9d8c47",
   "metadata": {},
   "outputs": [],
   "source": [
    "tmp_x = np.array([2.79E+43,\n",
    "4.41E+43,\n",
    "5.49E+43,\n",
    "6.28E+43,\n",
    "6.89E+43,\n",
    "7.27E+43,\n",
    "7.53E+43,\n",
    "7.60E+43,\n",
    "7.49E+43,\n",
    "7.39E+43,\n",
    "7.12E+43,\n",
    "6.80E+43,\n",
    "6.33E+43,\n",
    "5.93E+43,\n",
    "5.41E+43,\n",
    "4.80E+43,\n",
    "4.21E+43,\n",
    "3.59E+43,\n",
    "2.96E+43,\n",
    "2.34E+43,\n",
    "1.72E+43,\n",
    "1.13E+43,\n",
    "6.15E+42,\n",
    "2.01E+42,])\n",
    "tmp_y = np.arange(24)/25 + 0.04"
   ]
  },
  {
   "cell_type": "code",
   "execution_count": 34,
   "id": "f6c848e1-1926-4136-b28a-2ccce44c57a5",
   "metadata": {},
   "outputs": [
    {
     "data": {
      "image/png": "[encoded data removed]",
      "text/plain": [
       "<Figure size 432x288 with 1 Axes>"
      ]
     },
     "metadata": {
      "needs_background": "light"
     },
     "output_type": "display_data"
    }
   ],
   "source": [
    "plt.title('Area vs x_lens')\n",
    "plt.scatter(tmp_y,tmp_x)\n",
    "plt.ylabel('Area in $m^2$')\n",
    "plt.xlabel('$x_{lens}$')\n",
    "plt.show()"
   ]
  },
  {
   "cell_type": "code",
   "execution_count": 35,
   "id": "d8db16b9-c28c-4db3-97f8-998e8d1d4a35",
   "metadata": {
    "tags": []
   },
   "outputs": [],
   "source": [
    "# Simulating lens plane position of detectable dark matter for single mass and calculating volume\n",
    "# ARCHIVE\n",
    "def single_mass_volume(epsilon, GRB_progenitor_size_factor, M_input, Delta_r, theta, redshift_input, num_sides, grid_length_factor):\n",
    "\n",
    "    r_S = GRB_progenitor_size_factor*r_sun#sim_GRB_list_ss\n",
    "    \n",
    "    num_masses = 1\n",
    "    M = np.array([M_input])\n",
    "    theta_E = np.zeros(num_masses)\n",
    "    Delta_r = Delta_r * np.cos(theta)\n",
    "    \n",
    "    DS = WMAP9.comoving_distance(redshift_input).value/1e3\n",
    "    chi_S = DS*Gpc\n",
    "    n_quad = 25\n",
    "    x_lens = np.arange(1,n_quad)/n_quad\n",
    "\n",
    "    arr_lens_plane_pos = np.zeros((num_masses,num_sides,num_sides))\n",
    "\n",
    "    beta1 = np.zeros(num_sides)\n",
    "    beta2 = np.zeros(num_sides)\n",
    "    u1 = np.zeros([num_sides, num_sides])\n",
    "    u2 = np.zeros([num_sides, num_sides])\n",
    "\n",
    "    count = np.zeros(num_masses)\n",
    "    grid_length_x = np.zeros(num_masses)\n",
    "    grid_length_y = np.zeros(num_masses)\n",
    "    pixel_length_x = np.zeros(num_masses)\n",
    "    pixel_length_y = np.zeros(num_masses)\n",
    "\n",
    "    sigma_lens = np.zeros(np.size(x_lens))\n",
    "    V_lens = 0\n",
    "\n",
    "    k=0\n",
    "\n",
    "    for l in range(np.size(x_lens)):\n",
    "\n",
    "        DL = x_lens[l]*DS\n",
    "        DLS = DS - DL\n",
    "        D = DL*DS/DLS\n",
    "        D = 1\n",
    "        theta_E[k] = Einstein_angle(M[k],D)\n",
    "        calc_finite = lambda u: finite_source_size_effect(r_S, D, theta_E[k], u, num_sides)\n",
    "\n",
    "        grid_length_x = (2*grid_length_factor*theta_E[k] + Delta_r/D)\n",
    "        grid_length_y = (2*grid_length_factor*theta_E[k] + Delta_r/D)\n",
    "        \n",
    "        pixel_length_x[k] = grid_length_x/num_sides\n",
    "        pixel_length_y[k] = grid_length_y/num_sides\n",
    "\n",
    "        for j in range(num_sides):\n",
    "            \n",
    "            tmp_x = (np.arange(int(-num_sides/2), int(num_sides/2)) + 0.5)*pixel_length_x[k]\n",
    "            tmp_y = ((j - num_sides/2) + 0.5)*pixel_length_y[k]\n",
    "            \n",
    "            beta1 = np.sqrt((tmp_x - Delta_r/2/D)**2 + tmp_y**2)\n",
    "            beta2 = np.sqrt((tmp_x + Delta_r/2/D)**2 + tmp_y**2)\n",
    "            \n",
    "            u1[j] = beta1/theta_E[k]\n",
    "            u2[j] = beta2/theta_E[k]\n",
    "                \n",
    "        A1 = calc_finite(u1)\n",
    "        A2 = calc_finite(u2)\n",
    "\n",
    "        arr_lens_plane_pos[k] = 2*np.abs(A1 - A2)/(A1 + A2)\n",
    "        count[k] = (arr_lens_plane_pos[k] > epsilon).sum()\n",
    "\n",
    "        sigma_lens[l] = (count[k]*pixel_length_x[k]*Gpc*pixel_length_y[k]*Gpc) * chi_S * x_lens[l]**2\n",
    "        #print(\"count:\",count[k])\n",
    "        #print(\"Iteration:\", l)\n",
    "        #print(\"count:\",count[k])\n",
    "        #print(\"Area:\", sigma_lens[l])\n",
    "        count[k] = 0\n",
    "\n",
    "    # Midpoint quadrature rule\n",
    "    h = (np.max(x_lens)-np.min(x_lens))/np.size(x_lens)\n",
    "\n",
    "    # V_lens = h*(f(a)/2 + f(a+h) + f(a+2h) + ... f(b))\n",
    "    V_lens = sigma_lens[0]/2 + sigma_lens[np.size(x_lens)-1]/2\n",
    "    for l in range(1,np.size(x_lens)-1):\n",
    "        V_lens += sigma_lens[l]\n",
    "    V_lens *= h\n",
    "    #print(\"Volume occupied by Lens:\",V_lens)\n",
    "\n",
    "    #print('')\n",
    "    \n",
    "    return (V_lens)"
   ]
  },
  {
   "cell_type": "code",
   "execution_count": 36,
   "id": "9ef55ebf-ab91-4319-ae53-d1e559696fd5",
   "metadata": {
    "tags": []
   },
   "outputs": [],
   "source": [
    "# Simulating lens plane position of detectable dark matter for single mass and calculating volume\n",
    "def multiple_masses_volume(epsilon, GRB_progenitor_size_factor, M_input, Delta_r, theta, redshift_input, num_sides, pixel_length_factor):\n",
    "\n",
    "    r_S = GRB_progenitor_size_factor*r_sun#sim_GRB_list_ss\n",
    "    \n",
    "    num_masses = 1\n",
    "    M = np.array([M_input])\n",
    "    theta_E = np.zeros(num_masses)\n",
    "    Delta_r = Delta_r * np.cos(theta)\n",
    "    \n",
    "    DS = WMAP9.comoving_distance(redshift_input).value/1e3\n",
    "    chi_S = DS*Gpc\n",
    "    n_quad = 25\n",
    "    x_lens = np.arange(1,n_quad)/n_quad\n",
    "\n",
    "    arr_lens_plane_pos = np.zeros((num_masses,num_sides,num_sides))\n",
    "\n",
    "    beta1 = np.zeros(num_masses, num_sides)\n",
    "    beta2 = np.zeros(num_masses, num_sides)\n",
    "    u1 = np.zeros([num_sides, num_sides])\n",
    "    u2 = np.zeros([num_sides, num_sides])\n",
    "\n",
    "    count = np.zeros(num_masses)\n",
    "    grid_length_x = np.zeros(num_masses)\n",
    "    grid_length_y = np.zeros(num_masses)\n",
    "    pixel_length_x = np.zeros(num_masses)\n",
    "    pixel_length_y = np.zeros(num_masses)\n",
    "\n",
    "    sigma_lens = np.zeros([num_masses, np.size(x_lens)])\n",
    "    V_lens = np.zeros(num_masses)\n",
    "\n",
    "    for l in range(np.size(x_lens)):\n",
    "\n",
    "        DL = x_lens[l]*DS\n",
    "        DLS = DS - DL\n",
    "        D = DL*DS/DLS\n",
    "        D = 1\n",
    "        theta_E = Einstein_angle(M,D)\n",
    "        #calc_finite = lambda u: finite_source_size_effect(r_S, D, theta_E[k], u, num_sides)\n",
    "\n",
    "        grid_length_x = (2*grid_length_factor*theta_E + Delta_r/D)\n",
    "        grid_length_y = (2*grid_length_factor*theta_E + Delta_r/D)\n",
    "        \n",
    "        pixel_length_x = grid_length_x/num_sides\n",
    "        pixel_length_y = grid_length_y/num_sides\n",
    "\n",
    "        for k in range(num_masses):\n",
    "\n",
    "            for j in range(num_sides):\n",
    "\n",
    "                tmp_x = (np.arange(int(-num_sides/2), int(num_sides/2)) + 0.5)*pixel_length_x[k]\n",
    "                tmp_y = ((j - num_sides/2) + 0.5)*pixel_length_y[k]\n",
    "\n",
    "                beta1 = np.sqrt((tmp_x - Delta_r/2/D)**2 + tmp_y**2)\n",
    "                beta2 = np.sqrt((tmp_x + Delta_r/2/D)**2 + tmp_y**2)\n",
    "\n",
    "                u1[k, j] = beta1/theta_E\n",
    "                u2[k, j] = beta2/theta_E\n",
    "\n",
    "            A1 = calc_finite(u1)\n",
    "            A2 = calc_finite(u2)\n",
    "\n",
    "            arr_lens_plane_pos[k] = 2*np.abs(A1 - A2)/(A1 + A2)\n",
    "            count[k] = (arr_lens_plane_pos[k] > epsilon).sum()\n",
    "\n",
    "        sigma_lens[l] = (count[k]*pixel_length_x[k]*Gpc*pixel_length_y[k]*Gpc) * chi_S * x_lens[l]**2\n",
    "        #print(\"count:\",count[k])\n",
    "        count[k] = 0\n",
    "\n",
    "    # Midpoint quadrature rule\n",
    "    h = (np.max(x_lens)-np.min(x_lens))/np.size(x_lens)\n",
    "\n",
    "    # V_lens = h*(f(a)/2 + f(a+h) + f(a+2h) + ... f(b))\n",
    "    V_lens = sigma_lens[0]/2 + sigma_lens[np.size(x_lens)-1]/2\n",
    "    for l in range(1,np.size(x_lens)-1):\n",
    "        V_lens += sigma_lens[l]\n",
    "    V_lens *= h\n",
    "    print(\"Volume occupied by Lens:\",V_lens)\n",
    "\n",
    "    print('')\n",
    "    \n",
    "    return (V_lens_wrapper)"
   ]
  },
  {
   "cell_type": "code",
   "execution_count": 37,
   "id": "5b26ac0f-f9ef-4c4b-b6ef-d13cc3e2d2f7",
   "metadata": {
    "tags": []
   },
   "outputs": [
    {
     "name": "stdout",
     "output_type": "stream",
     "text": [
      "Iteration: 0\n",
      "Iteration: 1\n",
      "Iteration: 2\n",
      "Iteration: 3\n",
      "Iteration: 4\n",
      "Iteration: 5\n",
      "Iteration: 6\n",
      "Iteration: 7\n",
      "Iteration: 8\n",
      "Iteration: 9\n",
      "Iteration: 10\n",
      "Iteration: 11\n",
      "Iteration: 12\n",
      "Iteration: 13\n",
      "Iteration: 14\n",
      "Iteration: 15\n",
      "Iteration: 16\n",
      "Iteration: 17\n",
      "Iteration: 18\n",
      "Iteration: 19\n",
      "Iteration: 20\n",
      "Iteration: 21\n",
      "Iteration: 22\n",
      "Iteration: 23\n",
      "Iteration: 24\n",
      "Iteration: 25\n",
      "Iteration: 26\n",
      "Iteration: 27\n",
      "Iteration: 28\n",
      "Iteration: 29\n",
      "Iteration: 30\n",
      "Iteration: 31\n",
      "Iteration: 32\n",
      "Iteration: 33\n",
      "Iteration: 34\n",
      "Iteration: 35\n",
      "Iteration: 36\n",
      "Iteration: 37\n",
      "Iteration: 38\n",
      "Iteration: 39\n",
      "Iteration: 40\n",
      "Iteration: 41\n",
      "Iteration: 42\n",
      "Iteration: 43\n",
      "Iteration: 44\n",
      "Iteration: 45\n",
      "[0.00000000e+00 4.82460969e+41 9.86454404e+41 1.30358575e+42\n",
      " 1.64840891e+42 2.03173032e+42 2.96236783e+42 3.94460570e+42\n",
      " 6.15287046e+42 9.24323426e+42 1.41570153e+43 2.19686517e+43\n",
      " 3.47365422e+43 5.37037096e+43 8.19379979e+43 1.22848792e+44\n",
      " 1.77994220e+44 2.51756405e+44 3.55489104e+44 4.85920591e+44\n",
      " 6.65941575e+44 9.16850242e+44 1.22644510e+45 1.64306978e+45\n",
      " 2.18063408e+45 2.81253659e+45 3.67071747e+45 4.65401710e+45\n",
      " 5.72408860e+45 7.02280590e+45 8.35744266e+45 9.92201652e+45\n",
      " 1.10129312e+46 1.20978742e+46 1.33966002e+46 1.30065279e+46\n",
      " 1.54044701e+46 1.42007000e+46 1.60392661e+46 1.52244918e+46\n",
      " 1.60627971e+46 2.54284640e+46 2.01322321e+46 3.18841979e+46\n",
      " 0.00000000e+00 0.00000000e+00]\n"
     ]
    }
   ],
   "source": [
    "# Computing volume occupied by single run\n",
    "\n",
    "epsilon_input = 0.1\n",
    "GRB_progenitor_size_factor = 0.1\n",
    "Delta_r = np.array([2*AU/Gpc, L2_point(AU/Gpc,1,M_earth), 2*r_earth/Gpc])\n",
    "theta = 0\n",
    "\n",
    "redshift_input = 2\n",
    "\n",
    "num_sides = 80\n",
    "\n",
    "num_masses = 46\n",
    "start_mass = -15\n",
    "end_mass = -6\n",
    "M = np.logspace(start_mass,end_mass,num_masses)\n",
    "\n",
    "V_lens_wrapper_2 = np.zeros(num_masses)\n",
    "\n",
    "grid_length_factor = 2\n",
    "\n",
    "for l in range(num_masses):\n",
    "    print('Iteration:',l)\n",
    "    # (epsilon_input, GRB_progenitor_size_factor, M_input, Delta_r, theta, redshift_input, num_sides, pixel_length_factor)\n",
    "    V_lens_wrapper_2[l] = single_mass_volume(epsilon_input, GRB_progenitor_size_factor, M[l], Delta_r[1], theta, redshift_input, num_sides, grid_length_factor)\n",
    "\n",
    "print(V_lens_wrapper_2)"
   ]
  },
  {
   "cell_type": "code",
   "execution_count": null,
   "id": "e9bf3111-4f87-4382-9e42-ddf3c30165b1",
   "metadata": {
    "tags": []
   },
   "outputs": [],
   "source": [
    "# Computing volume occupied by lens\n",
    "\n",
    "epsilon_input = 0.1\n",
    "GRB_progenitor_size_factor = 0\n",
    "Delta_r = np.array([2*AU/Gpc, L2_point(AU/Gpc,1,M_earth), 2*r_earth/Gpc])\n",
    "theta = 0\n",
    "\n",
    "redshift_input = 0\n",
    "\n",
    "num_sides = 80\n",
    "\n",
    "num_masses = 26\n",
    "start_mass = -13\n",
    "end_mass = -8\n",
    "M = np.logspace(start_mass,end_mass,num_masses)\n",
    "\n",
    "V_lens_wrapper = np.zeros([1000, num_masses])\n",
    "\n",
    "grid_length_factor = 3\n",
    "\n",
    "for k in range(1000):\n",
    "    print('Iteration:',k)\n",
    "    GRB_progenitor_size_factor = r_S[k]\n",
    "    redshift_input = sim_GRB_list_redshift[k]\n",
    "\n",
    "    for l in range(num_masses):\n",
    "        # (epsilon_input, GRB_progenitor_size_factor, M_input, Delta_r, theta, redshift_input, num_sides, pixel_length_factor)\n",
    "        V_lens_wrapper[k,l] = single_mass_volume(epsilon_input, GRB_progenitor_size_factor, M[l], Delta_r[1], theta, redshift_input, num_sides, grid_length_factor)"
   ]
  },
  {
   "cell_type": "code",
   "execution_count": null,
   "id": "4db57bd6-14ae-4391-ae32-f7f23048881f",
   "metadata": {},
   "outputs": [],
   "source": [
    "n = lambda f: rho_crit_0 * Omega_DM * f / M\n",
    "print(n(1))"
   ]
  },
  {
   "cell_type": "code",
   "execution_count": null,
   "id": "1c61e55d-f4a9-4c72-8461-86c7618501f6",
   "metadata": {},
   "outputs": [],
   "source": [
    "V_lens_wrapper_2"
   ]
  },
  {
   "cell_type": "code",
   "execution_count": null,
   "id": "8ebc0ff5-52a7-4ffb-88bf-60921d21dae1",
   "metadata": {},
   "outputs": [],
   "source": [
    "def_tau = np.genfromtxt('Default Dataset Tau 01.csv', delimiter=',')"
   ]
  },
  {
   "cell_type": "code",
   "execution_count": null,
   "id": "89eedf6f-b6c9-4a2a-a291-0cc29ee4a099",
   "metadata": {},
   "outputs": [],
   "source": [
    "10**def_tau"
   ]
  },
  {
   "cell_type": "code",
   "execution_count": null,
   "id": "2937815b-2bf3-49ff-81df-88233cdbc6e9",
   "metadata": {},
   "outputs": [],
   "source": [
    "tau = lambda f: n(f) * V_lens_wrapper_2#np.mean(V_lens_wrapper,0)\n",
    "\n",
    "# Plot Optical Depth vs Mass of lens\n",
    "plt.figure(figsize=(16,10), dpi=80)\n",
    "plt.plot(M[1:-2], tau(1)[1:-2])\n",
    "\n",
    "#plt.title('Optical depth vs Mass \\n z = 2, $\\Delta$r = $L_2$, $r_S$ = 0.1*$r_\\odot$')\n",
    "plt.xlabel('$M_{PBH} (M_\\odot)$')\n",
    "plt.xscale('log')\n",
    "plt.ylabel('Optical depth $\\tau$')\n",
    "plt.yscale('log')\n",
    "plt.ylim([1e-12,1e3])\n",
    "plt.xlim([1e-18,1e4])\n",
    "plt.plot(10**def_tau[:,0], 10**def_tau[:,1], c='r')\n",
    "plt.grid('on')\n",
    "#plt.axis('off')\n",
    "plt.savefig('tau_comb.png', transparent = True)\n",
    "\n",
    "plt.show()"
   ]
  },
  {
   "cell_type": "code",
   "execution_count": null,
   "id": "b399e210-5660-4e74-8355-ac39225426ea",
   "metadata": {},
   "outputs": [],
   "source": [
    "np.savetxt('Simulation 4/mass.csv', M, delimiter = ',')\n",
    "np.savetxt('Simulation 4/tau.csv', tau(1), delimiter = ',')"
   ]
  },
  {
   "cell_type": "code",
   "execution_count": null,
   "id": "fbe27440-5316-4cc9-bcf5-ce64ca5eb133",
   "metadata": {},
   "outputs": [],
   "source": [
    "tmp_tau = 1e-2\n",
    "alpha = 1\n",
    "tmp_tau**alpha*np.exp(-tmp_tau)/np.math.factorial(alpha)"
   ]
  },
  {
   "cell_type": "code",
   "execution_count": null,
   "id": "87aca9ee-7ab6-4fd0-8fa8-04b5723acdfb",
   "metadata": {},
   "outputs": [],
   "source": [
    "arr = np.genfromtxt('Simulation 4/V_lens_wrapper_with_dist_run_1.csv', delimiter=',')"
   ]
  },
  {
   "cell_type": "code",
   "execution_count": null,
   "id": "3647aa35-d032-4ff6-8cbf-7fdea0f32270",
   "metadata": {},
   "outputs": [],
   "source": [
    "V_lens_wrapper = arr"
   ]
  },
  {
   "cell_type": "code",
   "execution_count": null,
   "id": "351aa541-adbb-46c2-9e28-3bdfc32b6369",
   "metadata": {},
   "outputs": [],
   "source": [
    "def P1(f, k, i):\n",
    "    tau = lambda f: n(f)[k] * V_lens_wrapper[i,k]\n",
    "    return (tau(f) * np.exp(-tau(f)))\n",
    "\n",
    "def calc_P_null(f, k):\n",
    "    value = 1\n",
    "    for i in range(1000):\n",
    "        value *= (1 - P1(f, k, i)) \n",
    "    return value\n",
    "\n",
    "f_final = np.zeros(num_masses)\n",
    "for k in range(num_masses):\n",
    "    \n",
    "    #P_null = calc_P_null(f, k)\n",
    "    print('Iteration:',k)\n",
    "    \n",
    "    num_f = 1000\n",
    "    f = np.logspace(-5,0,num_f)\n",
    "    #print(f)\n",
    "    y_P = np.zeros(num_f)\n",
    "    y_2 = np.ones(num_f)*0.05\n",
    "    for i in range(num_f):\n",
    "        y_P[i] = calc_P_null(f[i],k)\n",
    "    for l in range(num_f):\n",
    "        if y_P[l] < 0.05:\n",
    "            f_final[k] = f[l]\n",
    "            break\n",
    "\n",
    "print(f_final)"
   ]
  },
  {
   "cell_type": "code",
   "execution_count": 91,
   "id": "128b7a0d-ec53-4c1f-bbf9-f5951737a684",
   "metadata": {},
   "outputs": [],
   "source": [
    "def_exc = np.genfromtxt('Default Dataset Exclusion Curves 01.csv', delimiter = ',')"
   ]
  },
  {
   "cell_type": "code",
   "execution_count": 94,
   "id": "9c0b2d97-1aca-476d-b25b-d203e732c6c6",
   "metadata": {},
   "outputs": [
    {
     "data": {
      "image/png": "[encoded data removed]",
      "text/plain": [
       "<Figure size 1280x800 with 1 Axes>"
      ]
     },
     "metadata": {
      "needs_background": "light"
     },
     "output_type": "display_data"
    }
   ],
   "source": [
    "# Plot f vs Mass of lensplt.title('$\\Delta_r = L_2$')\n",
    "plt.figure(figsize=(16, 10), dpi=80)\n",
    "plt.xscale('log')\n",
    "plt.yscale('log')\n",
    "plt.xlabel('Mass of lens $M_{PBH}(M_\\odot)$')\n",
    "plt.ylabel('f=$\\Omega_{PBH}/\\Omega_{DM}$')\n",
    "plt.xlim([1e-18,1e4])\n",
    "plt.ylim([1e-5,1e1])\n",
    "plt.plot(M[:24],f_final[:24])\n",
    "plt.plot(10**def_exc[:,0], 10**def_exc[:,1], 'r')\n",
    "plt.grid('on')\n",
    "#plt.axis('off')\n",
    "plt.savefig('exc_comb.png', transparent = True)"
   ]
  },
  {
   "cell_type": "code",
   "execution_count": 65,
   "id": "f5dc0ab4-d6a7-4224-81cf-ceb372a7474d",
   "metadata": {},
   "outputs": [],
   "source": [
    "np.savetxt(\"foo.csv\", f_final, delimiter=\",\")"
   ]
  },
  {
   "cell_type": "code",
   "execution_count": 53,
   "id": "c56314ca-0b60-4172-8c90-96c92b11de6e",
   "metadata": {},
   "outputs": [],
   "source": [
    "def tmp_func(delta, u):\n",
    "    A = 0\n",
    "    if np.abs(u)<=np.abs(0.9*delta):\n",
    "        A = A_in(u,delta)\n",
    "        #print(1)\n",
    "    elif np.abs(u)>=np.abs(1.1*delta):\n",
    "        A = A_out(u,delta)\n",
    "        #print(2)\n",
    "    else:\n",
    "        A = (A_out(1.1*delta, delta)*(u - 0.9*delta)/(0.2*delta) + A_in(0.9*delta, delta)*(1.1*delta - u)/(0.2*delta))\n",
    "        #print(3)\n",
    "    return A"
   ]
  },
  {
   "cell_type": "code",
   "execution_count": 85,
   "id": "9a708fe7-78c3-45fe-a5b9-2cec28b336b4",
   "metadata": {},
   "outputs": [
    {
     "data": {
      "image/png": "[encoded data removed]",
      "text/plain": [
       "<Figure size 432x288 with 1 Axes>"
      ]
     },
     "metadata": {
      "needs_background": "light"
     },
     "output_type": "display_data"
    }
   ],
   "source": [
    "n = 151\n",
    "tmp_u = np.linspace(0.01,3.5,n)\n",
    "epsilon=0.1\n",
    "plt.plot(tmp_u, np.ones(n)*(epsilon))\n",
    "plt.plot(tmp_u, np.ones(n)*(0.01))\n",
    "    \n",
    "for j in range(10):\n",
    "    delta = j/10\n",
    "\n",
    "    tmp_A = np.zeros(n)\n",
    "    for i in range(n):\n",
    "        tmp_A[i] = tmp_func(delta,tmp_u[i])\n",
    "\n",
    "#    plt.xscale('log')\n",
    "    plt.title('Observed Magnification vs Position on Lens Plane for different $\\delta$')\n",
    "    plt.yscale('log')\n",
    "    plt.xlim(0,3.5)\n",
    "#    plt.ylim(1e-1,1e2)\n",
    "    plt.xlabel('$u$ $(\\Theta_E)$')\n",
    "    plt.ylabel('A -1')\n",
    "    plt.plot(tmp_u,tmp_A - 1,label='$\\delta$='+str(1.0*j/10))\n",
    "    plt.legend()\n",
    "    \n",
    "#plt.savefig('diff_delta')"
   ]
  }
 ],
 "metadata": {
  "kernelspec": {
   "display_name": "Python 3 (ipykernel)",
   "language": "python",
   "name": "python3"
  },
  "language_info": {
   "codemirror_mode": {
    "name": "ipython",
    "version": 3
   },
   "file_extension": ".py",
   "mimetype": "text/x-python",
   "name": "python",
   "nbconvert_exporter": "python",
   "pygments_lexer": "ipython3",
   "version": "3.9.5"
  }
 },
 "nbformat": 4,
 "nbformat_minor": 5
}
