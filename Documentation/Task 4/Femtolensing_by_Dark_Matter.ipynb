{
 "cells": [
  {
   "cell_type": "code",
   "execution_count": 62,
   "id": "121e08fb-d426-49f9-9f8d-6d4bced5ecbe",
   "metadata": {},
   "outputs": [],
   "source": [
    "import numpy as np\n",
    "from matplotlib import pyplot as plt\n",
    "\n",
    "from astropy.cosmology import WMAP9"
   ]
  },
  {
   "cell_type": "code",
   "execution_count": 40,
   "id": "5feb9d56-529c-4d7d-9ab0-b8165e9a7270",
   "metadata": {},
   "outputs": [],
   "source": [
    "choice = 2\n",
    "\n",
    "global c, PI, h, h_cross, G, AU, pc, Gpc\n",
    "\n",
    "if choice == 1:\n",
    "    c = 2.998 * 1e8          # in m/s\n",
    "    PI = np.pi\n",
    "    h = 4.136 * 1e-15        # in eV.s\n",
    "    h_cross = h / (2*PI)     # in eV.s\n",
    "    G = 6.674 * 1e-11        # in N.m^2/kg^2\n",
    "    AU = 1.495e+11           # astronomical unit = 149.6 million km\n",
    "    pc = 3.085e+16           # parsec = 3.26 light years = 206,000 AU = 30.9 trillion km\n",
    "    Gpc = 1e9*pc\n",
    "    M_sun = 1.9891e+30       # in kg\n",
    "    \n",
    "elif choice == 2:\n",
    "    c = 3 * 1e8              # in m/s\n",
    "    PI = 3.1416\n",
    "    h = 4.136 * 1e-15        # in eV.s\n",
    "    h_cross = h / (2*PI)     # in eV.s\n",
    "    G = 6.67 * 1e-11         # in N.m^2/kg^2\n",
    "    AU = 1.5e+11             # astronomical unit = 149.6 million km\n",
    "    pc = 3e+16               # parsec = 3.26 light years = 206,000 AU = 30.9 trillion km\n",
    "    Gpc = 1e9*pc\n",
    "    M_sun = 2e30             # in kg"
   ]
  },
  {
   "cell_type": "code",
   "execution_count": 3,
   "id": "c4b98328-22f0-47d0-b75b-1eb17e0fe28e",
   "metadata": {},
   "outputs": [],
   "source": [
    "class light:\n",
    "    def __init__(self, quantity, choice = 'nu'):\n",
    "        if (choice == 'lambda'):\n",
    "            self.lmbda = quantity\n",
    "            self.omega = 2*PI*c/self.lmbda\n",
    "            self.E = h_cross * self.omega\n",
    "        elif (choice == 'E'):\n",
    "            self.E = quantity\n",
    "            self.omega = self.E/h_cross\n",
    "            self.lmbda = 2*PI*c/self.omega\n",
    "        elif (choice == 'omega'):\n",
    "            self.omega = quantity\n",
    "            self.E = h_cross * self.omega\n",
    "            self.lmbda = 2*PI*c/self.omega\n",
    "        else:\n",
    "            self.omega = 2*PI*quantity\n",
    "            self.E = h_cross * self.omega\n",
    "            self.lmbda = 2*PI*c/self.omega"
   ]
  },
  {
   "cell_type": "code",
   "execution_count": 42,
   "id": "03f9a1d9-f4ca-4ec8-882d-d26000a5ad1c",
   "metadata": {},
   "outputs": [],
   "source": [
    "def Einstein_angle(M, D):\n",
    "    return np.sqrt(4*G*(M*M_sun)/c**2 * 1/(D*Gpc))"
   ]
  },
  {
   "cell_type": "code",
   "execution_count": 129,
   "id": "d9d12607-1d63-4660-b0a9-0c30c705b4da",
   "metadata": {},
   "outputs": [
    {
     "data": {
      "text/plain": [
       "[<matplotlib.lines.Line2D at 0x7f33db811760>]"
      ]
     },
     "execution_count": 129,
     "metadata": {},
     "output_type": "execute_result"
    },
    {
     "data": {
      "image/png": "[encoded data removed]",
      "text/plain": [
       "<Figure size 432x288 with 1 Axes>"
      ]
     },
     "metadata": {
      "needs_background": "light"
     },
     "output_type": "display_data"
    }
   ],
   "source": [
    "tmp_M = np.logspace(-16, -7, 10)\n",
    "tmp_theta_E = Einstein_angle(tmp_M, 1)\n",
    "plt.xscale('log')\n",
    "plt.yscale('log')\n",
    "plt.xlabel('Mass (in $M_\\odot$)')\n",
    "plt.ylabel('Einstein angle')\n",
    "plt.title('Variation of Einstein angle with mass at constant effective distance 1 Gpc')\n",
    "plt.plot(tmp_M, tmp_theta_E)"
   ]
  },
  {
   "cell_type": "code",
   "execution_count": 35,
   "id": "4fd3bd0e-591e-48a2-a540-41206952aeca",
   "metadata": {},
   "outputs": [],
   "source": [
    "def Lensing_potential(theta, theta_E):\n",
    "    return (theta_E**2 * np.log(theta))"
   ]
  },
  {
   "cell_type": "code",
   "execution_count": 137,
   "id": "4f697880-51e9-4b86-b20b-91e6b1d44f67",
   "metadata": {},
   "outputs": [],
   "source": [
    "def theta_plus(beta, theta_E):\n",
    "    return (1/2*(beta + np.sqrt(beta**2 + theta_E**2)))\n",
    "\n",
    "def theta_minus(beta, theta_E):\n",
    "    return (1/2*(beta - np.sqrt(beta**2 + theta_E**2)))\n",
    "\n",
    "def time_delay(u, theta_E, D, z_L):\n",
    "    beta = u*theta_E\n",
    "    return ((1/c * (D*Gpc)) * (1 + z_L) * ((theta_plus(beta, theta_E) - beta)**2/2 - (theta_minus(beta, theta_E) - beta)**2/2 - \n",
    "                                     theta_E**2 * np.log(np.abs(theta_plus(beta, theta_E)/theta_minus(beta, theta_E)))))"
   ]
  },
  {
   "cell_type": "markdown",
   "id": "543f01b3-347f-46bc-8fd8-4f989f7aec0f",
   "metadata": {},
   "source": [
    "# Question\n",
    "\n",
    "Lensing potentiat expression for point lens?"
   ]
  },
  {
   "cell_type": "code",
   "execution_count": 34,
   "id": "a83ef5ff-0b24-4218-b536-cb4ce63983ee",
   "metadata": {},
   "outputs": [],
   "source": [
    "def phase_shift(omega, Delta_td):\n",
    "    return (omega*Delta_td)"
   ]
  },
  {
   "cell_type": "code",
   "execution_count": 75,
   "id": "a41abaa7-4046-46d3-8198-22476f726956",
   "metadata": {},
   "outputs": [],
   "source": [
    "def mu_plus(u):\n",
    "    return np.abs(1/2 + (u**2 + 2)/(2*u*np.sqrt(u**2 + 4)))\n",
    "\n",
    "def mu_minus(u):\n",
    "    return np.abs(1/2 - (u**2 + 2)/(2*u*np.sqrt(u**2 + 4)))\n",
    "\n",
    "def point_source_mag(u, Delta_phi):\n",
    "    return (mu_plus(u) + mu_minus(u) + 2 * np.sqrt(mu_plus(u) * mu_minus(u)) * np.sin(Delta_phi))"
   ]
  },
  {
   "cell_type": "markdown",
   "id": "f56e056f-a3de-497e-8113-483903895af0",
   "metadata": {},
   "source": [
    "$$u = \\frac{\\beta}{\\theta_E} \\ \\ \\ \\  x = \\frac{\\theta}{\\theta_E}$$"
   ]
  },
  {
   "cell_type": "code",
   "execution_count": 93,
   "id": "f2089e5c-3b7c-4150-887a-3a66887544ae",
   "metadata": {},
   "outputs": [
    {
     "data": {
      "text/plain": [
       "[<matplotlib.lines.Line2D at 0x7f33dc197bb0>]"
      ]
     },
     "execution_count": 93,
     "metadata": {},
     "output_type": "execute_result"
    },
    {
     "data": {
      "image/png": "[encoded data removed]",
      "text/plain": [
       "<Figure size 432x288 with 1 Axes>"
      ]
     },
     "metadata": {
      "needs_background": "light"
     },
     "output_type": "display_data"
    }
   ],
   "source": [
    "tmp_u = np.arange(1,51)/5\n",
    "tmp_mu = point_source_mag(tmp_u, 0)\n",
    "plt.title('Variation in magnification assuming no interference fringes')\n",
    "plt.xlabel('Position of source (in $\\\\theta_E$)')\n",
    "plt.ylabel('Magnification $\\mu$')\n",
    "plt.plot(tmp_u, tmp_mu)"
   ]
  },
  {
   "cell_type": "markdown",
   "id": "bda23526-6fd0-419d-ba21-61baf086e160",
   "metadata": {},
   "source": [
    "- Light frequency\n",
    "- Distances\n",
    "- Mass of lens\n",
    "- Einstein Angle\n",
    "- Lensing Potential"
   ]
  },
  {
   "cell_type": "code",
   "execution_count": 37,
   "id": "555c8a5c-d3ac-4b59-b683-2a00afe044c2",
   "metadata": {},
   "outputs": [],
   "source": [
    "l1 = light(10**20)"
   ]
  },
  {
   "cell_type": "code",
   "execution_count": 54,
   "id": "e3963ea3-2675-49c9-974b-a6dcb784ff98",
   "metadata": {},
   "outputs": [],
   "source": [
    "DS = 1\n",
    "x_lens = 0.5\n",
    "D = DS*(x_lens/(1-x_lens))"
   ]
  },
  {
   "cell_type": "code",
   "execution_count": 56,
   "id": "4ca4d39d-12eb-4bfc-ad39-056baf6cf9ad",
   "metadata": {},
   "outputs": [],
   "source": [
    "M = 1e-10\n",
    "theta_E = Einstein_angle(M, D)"
   ]
  },
  {
   "cell_type": "code",
   "execution_count": 71,
   "id": "7269860d-854c-46a6-9bef-371bafa72f8a",
   "metadata": {},
   "outputs": [
    {
     "data": {
      "text/plain": [
       "0.5052514630129196"
      ]
     },
     "execution_count": 71,
     "metadata": {},
     "output_type": "execute_result"
    }
   ],
   "source": [
    "WMAP9.comoving_distance(0.12).value/1e3"
   ]
  },
  {
   "cell_type": "code",
   "execution_count": 82,
   "id": "a00c2fa8-d9e0-4191-a5ac-786b6829b1d9",
   "metadata": {},
   "outputs": [],
   "source": [
    "z_L = 0.12    # (Approx) for lens at 0.5 Gpc"
   ]
  },
  {
   "cell_type": "code",
   "execution_count": 163,
   "id": "c3388c95-d094-4da5-b650-9f1ef8122181",
   "metadata": {},
   "outputs": [
    {
     "data": {
      "text/plain": [
       "<matplotlib.legend.Legend at 0x7f33db486730>"
      ]
     },
     "execution_count": 163,
     "metadata": {},
     "output_type": "execute_result"
    },
    {
     "data": {
      "image/png": "[encoded data removed]",
      "text/plain": [
       "<Figure size 432x288 with 1 Axes>"
      ]
     },
     "metadata": {
      "needs_background": "light"
     },
     "output_type": "display_data"
    }
   ],
   "source": [
    "tmp_u = np.arange(10, 501)/100\n",
    "tmp_Delta_td = time_delay(tmp_u, theta_E, D, z_L)\n",
    "\n",
    "tmp_l1 = light(500 * 1e-9, 'lambda')    # 500 nm light\n",
    "tmp_phi1 = phase_shift(tmp_l1.omega, tmp_Delta_td)\n",
    "tmp_mag1 = point_source_mag(tmp_u, tmp_phi1)\n",
    "\n",
    "tmp_l2 = light(1400 * 1e-9, 'lambda')   # 1400 nm light\n",
    "tmp_phi2 = phase_shift(tmp_l2.omega, tmp_Delta_td)\n",
    "tmp_mag2 = point_source_mag(tmp_u, tmp_phi2)\n",
    "\n",
    "tmp_l3 = light(1e-15, 'omega')   # 1400 nm light\n",
    "tmp_phi3 = phase_shift(tmp_l3.omega, tmp_Delta_td)\n",
    "tmp_mag3 = point_source_mag(tmp_u, tmp_phi3)\n",
    "\n",
    "plt.plot(tmp_u, tmp_mag1, label = '$\\lambda_1 = $'+str(np.round(tmp_l1.lmbda*1e9))+' nm')\n",
    "plt.plot(tmp_u, tmp_mag2, label = '$\\lambda_2 = $'+str(np.round(tmp_l2.lmbda*1e9))+' nm')\n",
    "plt.plot(tmp_u, tmp_mag3, '--', label = '$\\lambda_3 = $'+str(np.round(tmp_l3.lmbda*1e9))+' nm')\n",
    "\n",
    "plt.xlabel('Position of source (in $\\\\theta_E$)')\n",
    "plt.ylabel('Magnification $\\mu$')\n",
    "plt.legend()"
   ]
  },
  {
   "cell_type": "code",
   "execution_count": 156,
   "id": "3c41de47-6b18-43a9-ab6c-195acb092498",
   "metadata": {},
   "outputs": [
    {
     "data": {
      "text/plain": [
       "1.8849599999999999e+24"
      ]
     },
     "execution_count": 156,
     "metadata": {},
     "output_type": "execute_result"
    }
   ],
   "source": [
    "tmp_l3.lmbda"
   ]
  },
  {
   "cell_type": "code",
   "execution_count": 138,
   "id": "cf4fe700-d956-4fdb-b5b7-a34830b7e8f9",
   "metadata": {},
   "outputs": [
    {
     "data": {
      "text/plain": [
       "-2.76623642985271e-15"
      ]
     },
     "execution_count": 138,
     "metadata": {},
     "output_type": "execute_result"
    }
   ],
   "source": [
    "time_delay(1, 1e-16, 1, 0.12)"
   ]
  }
 ],
 "metadata": {
  "kernelspec": {
   "display_name": "Python 3 (ipykernel)",
   "language": "python",
   "name": "python3"
  },
  "language_info": {
   "codemirror_mode": {
    "name": "ipython",
    "version": 3
   },
   "file_extension": ".py",
   "mimetype": "text/x-python",
   "name": "python",
   "nbconvert_exporter": "python",
   "pygments_lexer": "ipython3",
   "version": "3.9.5"
  }
 },
 "nbformat": 4,
 "nbformat_minor": 5
}
