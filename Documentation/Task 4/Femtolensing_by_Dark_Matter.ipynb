{
 "cells": [
  {
   "cell_type": "code",
   "execution_count": 1,
   "id": "121e08fb-d426-49f9-9f8d-6d4bced5ecbe",
   "metadata": {},
   "outputs": [],
   "source": [
    "import numpy as np\n",
    "from matplotlib import pyplot as plt\n",
    "from matplotlib import colors\n",
    "\n",
    "from astropy.cosmology import FlatLambdaCDM, WMAP9, z_at_value"
   ]
  },
  {
   "cell_type": "code",
   "execution_count": 2,
   "id": "5feb9d56-529c-4d7d-9ab0-b8165e9a7270",
   "metadata": {},
   "outputs": [],
   "source": [
    "choice = 2\n",
    "\n",
    "global c, PI, h, h_cross, G, AU, pc, Gpc\n",
    "\n",
    "if choice == 1:\n",
    "    c = 2.998 * 1e8          # in m/s\n",
    "    PI = np.pi\n",
    "    h = 4.136 * 1e-15        # in eV.s\n",
    "    h_cross = h / (2*PI)     # in eV.s\n",
    "    G = 6.674 * 1e-11        # in N.m^2/kg^2\n",
    "    AU = 1.495e+11           # astronomical unit = 149.6 million km\n",
    "    pc = 3.085e+16           # parsec = 3.26 light years = 206,000 AU = 30.9 trillion km\n",
    "    Gpc = 1e9*pc\n",
    "    M_sun = 1.9891e+30       # in kg\n",
    "    \n",
    "elif choice == 2:\n",
    "    c = 3 * 1e8              # in m/s\n",
    "    PI = 3.1416\n",
    "    h = 4.136 * 1e-15        # in eV.s\n",
    "    h_cross = h / (2*PI)     # in eV.s\n",
    "    G = 6.67 * 1e-11         # in N.m^2/kg^2\n",
    "    AU = 1.5e+11             # astronomical unit = 149.6 million km\n",
    "    pc = 3e+16               # parsec = 3.26 light years = 206,000 AU = 30.9 trillion km\n",
    "    Gpc = 1e9*pc\n",
    "    M_sun = 2e30             # in kg"
   ]
  },
  {
   "cell_type": "code",
   "execution_count": 3,
   "id": "c4b98328-22f0-47d0-b75b-1eb17e0fe28e",
   "metadata": {},
   "outputs": [],
   "source": [
    "class light:\n",
    "    def __init__(self, quantity, choice = 'nu'):\n",
    "        if (choice == 'lambda'):\n",
    "            self.lmbda = quantity\n",
    "            self.omega = 2*PI*c/self.lmbda\n",
    "            self.E = h_cross * self.omega\n",
    "            self.nu = self.omega / (2*PI)\n",
    "        elif (choice == 'E'):\n",
    "            self.E = quantity\n",
    "            self.omega = self.E/h_cross\n",
    "            self.lmbda = 2*PI*c/self.omega\n",
    "            self.nu = self.omega / (2*PI)\n",
    "        elif (choice == 'omega'):\n",
    "            self.omega = quantity\n",
    "            self.E = h_cross * self.omega\n",
    "            self.lmbda = 2*PI*c/self.omega\n",
    "            self.nu = self.omega / (2*PI)\n",
    "        else:\n",
    "            self.omega = 2*PI*quantity\n",
    "            self.E = h_cross * self.omega\n",
    "            self.lmbda = 2*PI*c/self.omega\n",
    "            self.nu = quantity"
   ]
  },
  {
   "cell_type": "code",
   "execution_count": 4,
   "id": "03f9a1d9-f4ca-4ec8-882d-d26000a5ad1c",
   "metadata": {},
   "outputs": [],
   "source": [
    "def Einstein_angle(M, D):\n",
    "    return np.sqrt(4*G*(M*M_sun)/c**2 * 1/(D*Gpc))"
   ]
  },
  {
   "cell_type": "code",
   "execution_count": 5,
   "id": "d9d12607-1d63-4660-b0a9-0c30c705b4da",
   "metadata": {},
   "outputs": [
    {
     "data": {
      "text/plain": [
       "[<matplotlib.lines.Line2D at 0x7f0095a175e0>]"
      ]
     },
     "execution_count": 5,
     "metadata": {},
     "output_type": "execute_result"
    },
    {
     "data": {
      "image/png": "[encoded data removed]",
      "text/plain": [
       "<Figure size 432x288 with 1 Axes>"
      ]
     },
     "metadata": {
      "needs_background": "light"
     },
     "output_type": "display_data"
    }
   ],
   "source": [
    "tmp_M = np.logspace(-16, -7, 10)\n",
    "tmp_theta_E = Einstein_angle(tmp_M, 1)\n",
    "plt.xscale('log')\n",
    "plt.yscale('log')\n",
    "plt.xlabel('Mass (in $M_\\odot$)')\n",
    "plt.ylabel('Einstein angle')\n",
    "plt.title('Variation of Einstein angle with mass at constant effective distance 1 Gpc')\n",
    "plt.plot(tmp_M, tmp_theta_E)"
   ]
  },
  {
   "cell_type": "code",
   "execution_count": 6,
   "id": "4fd3bd0e-591e-48a2-a540-41206952aeca",
   "metadata": {},
   "outputs": [],
   "source": [
    "def Lensing_potential(theta, theta_E):\n",
    "    return (theta_E**2 * np.log(theta))"
   ]
  },
  {
   "cell_type": "code",
   "execution_count": 7,
   "id": "4f697880-51e9-4b86-b20b-91e6b1d44f67",
   "metadata": {},
   "outputs": [],
   "source": [
    "def theta_plus(beta, theta_E):\n",
    "    return (1/2*(beta + np.sqrt(beta**2 + theta_E**2)))\n",
    "\n",
    "def theta_minus(beta, theta_E):\n",
    "    return (1/2*(beta - np.sqrt(beta**2 + theta_E**2)))\n",
    "\n",
    "def time_delay(u, theta_E, D, z_L):\n",
    "    beta = u*theta_E\n",
    "    return np.abs((1/c * (D*Gpc)) * (1 + z_L) * ((theta_plus(beta, theta_E) - beta)**2/2 - (theta_minus(beta, theta_E) - beta)**2/2 - \n",
    "                                     theta_E**2 * np.log(np.abs(theta_plus(beta, theta_E)/theta_minus(beta, theta_E)))))"
   ]
  },
  {
   "cell_type": "markdown",
   "id": "543f01b3-347f-46bc-8fd8-4f989f7aec0f",
   "metadata": {},
   "source": [
    "# Question\n",
    "\n",
    "Lensing potentiat expression for point lens?"
   ]
  },
  {
   "cell_type": "code",
   "execution_count": 8,
   "id": "a83ef5ff-0b24-4218-b536-cb4ce63983ee",
   "metadata": {},
   "outputs": [],
   "source": [
    "def phase_shift(omega, Delta_td):\n",
    "    return (omega*Delta_td)"
   ]
  },
  {
   "cell_type": "code",
   "execution_count": 9,
   "id": "a41abaa7-4046-46d3-8198-22476f726956",
   "metadata": {},
   "outputs": [],
   "source": [
    "def mu_plus(u):\n",
    "    return np.abs(1/2 + (u**2 + 2)/(2*u*np.sqrt(u**2 + 4)))\n",
    "\n",
    "def mu_minus(u):\n",
    "    return np.abs(1/2 - (u**2 + 2)/(2*u*np.sqrt(u**2 + 4)))\n",
    "\n",
    "def point_source_mag(u, Delta_phi):\n",
    "    return (mu_plus(u) + mu_minus(u) + 2 * np.sqrt(mu_plus(u) * mu_minus(u)) * np.sin(Delta_phi))"
   ]
  },
  {
   "cell_type": "markdown",
   "id": "f56e056f-a3de-497e-8113-483903895af0",
   "metadata": {},
   "source": [
    "$$u = \\frac{\\beta}{\\theta_E} \\ \\ \\ \\  x = \\frac{\\theta}{\\theta_E}$$"
   ]
  },
  {
   "cell_type": "code",
   "execution_count": 10,
   "id": "f2089e5c-3b7c-4150-887a-3a66887544ae",
   "metadata": {},
   "outputs": [
    {
     "data": {
      "text/plain": [
       "[<matplotlib.lines.Line2D at 0x7f00d05c5220>]"
      ]
     },
     "execution_count": 10,
     "metadata": {},
     "output_type": "execute_result"
    },
    {
     "data": {
      "image/png": "[encoded data removed]",
      "text/plain": [
       "<Figure size 432x288 with 1 Axes>"
      ]
     },
     "metadata": {
      "needs_background": "light"
     },
     "output_type": "display_data"
    }
   ],
   "source": [
    "tmp_u = np.arange(1,51)/5\n",
    "tmp_mu = point_source_mag(tmp_u, 0)\n",
    "plt.title('Variation in magnification assuming no interference fringes')\n",
    "plt.xlabel('Position of source (in $\\\\theta_E$)')\n",
    "plt.ylabel('Magnification $\\mu$')\n",
    "plt.plot(tmp_u, tmp_mu)"
   ]
  },
  {
   "cell_type": "markdown",
   "id": "bda23526-6fd0-419d-ba21-61baf086e160",
   "metadata": {},
   "source": [
    "- Light frequency\n",
    "- Distances\n",
    "- Mass of lens\n",
    "- Einstein Angle\n",
    "- Lensing Potential"
   ]
  },
  {
   "cell_type": "code",
   "execution_count": 11,
   "id": "555c8a5c-d3ac-4b59-b683-2a00afe044c2",
   "metadata": {},
   "outputs": [],
   "source": [
    "# Example declaration for class light\n",
    "l1 = light(10**20)"
   ]
  },
  {
   "cell_type": "code",
   "execution_count": 12,
   "id": "e3963ea3-2675-49c9-974b-a6dcb784ff98",
   "metadata": {},
   "outputs": [],
   "source": [
    "DS = 1\n",
    "x_lens = 0.5\n",
    "D = DS*(x_lens/(1-x_lens))"
   ]
  },
  {
   "cell_type": "code",
   "execution_count": 13,
   "id": "4ca4d39d-12eb-4bfc-ad39-056baf6cf9ad",
   "metadata": {},
   "outputs": [],
   "source": [
    "M = 1e-10\n",
    "theta_E = Einstein_angle(M, D)"
   ]
  },
  {
   "cell_type": "code",
   "execution_count": 14,
   "id": "7269860d-854c-46a6-9bef-371bafa72f8a",
   "metadata": {},
   "outputs": [
    {
     "data": {
      "text/plain": [
       "0.5052514630129196"
      ]
     },
     "execution_count": 14,
     "metadata": {},
     "output_type": "execute_result"
    }
   ],
   "source": [
    "WMAP9.comoving_distance(0.12).value/1e3"
   ]
  },
  {
   "cell_type": "code",
   "execution_count": 15,
   "id": "a00c2fa8-d9e0-4191-a5ac-786b6829b1d9",
   "metadata": {},
   "outputs": [],
   "source": [
    "z_L = 0.12    # (Approx) for lens at 0.5 Gpc"
   ]
  },
  {
   "cell_type": "code",
   "execution_count": 16,
   "id": "c3388c95-d094-4da5-b650-9f1ef8122181",
   "metadata": {},
   "outputs": [
    {
     "data": {
      "text/plain": [
       "<matplotlib.legend.Legend at 0x7f0095884c10>"
      ]
     },
     "execution_count": 16,
     "metadata": {},
     "output_type": "execute_result"
    },
    {
     "data": {
      "image/png": "[encoded data removed]",
      "text/plain": [
       "<Figure size 432x288 with 1 Axes>"
      ]
     },
     "metadata": {
      "needs_background": "light"
     },
     "output_type": "display_data"
    }
   ],
   "source": [
    "tmp_u = np.arange(10, 501)/100\n",
    "tmp_Delta_td = time_delay(tmp_u, theta_E, D, z_L)\n",
    "\n",
    "tmp_l1 = light(500 * 1e-9, 'lambda')    # 500 nm light\n",
    "tmp_phi1 = phase_shift(tmp_l1.omega, tmp_Delta_td)\n",
    "tmp_mag1 = point_source_mag(tmp_u, tmp_phi1)\n",
    "\n",
    "tmp_l2 = light(1400 * 1e-9, 'lambda')   # 1400 nm light\n",
    "tmp_phi2 = phase_shift(tmp_l2.omega, tmp_Delta_td)\n",
    "tmp_mag2 = point_source_mag(tmp_u, tmp_phi2)\n",
    "\n",
    "tmp_l3 = light(1e+15, 'omega')   # 1400 nm light\n",
    "tmp_phi3 = phase_shift(tmp_l3.omega, tmp_Delta_td)\n",
    "tmp_mag3 = point_source_mag(tmp_u, tmp_phi3)\n",
    "\n",
    "plt.plot(tmp_u, tmp_mag1, label = '$\\lambda_1 = $'+str(np.round(tmp_l1.lmbda*1e9))+' nm')\n",
    "plt.plot(tmp_u, tmp_mag2, label = '$\\lambda_2 = $'+str(np.round(tmp_l2.lmbda*1e9))+' nm')\n",
    "plt.plot(tmp_u, tmp_mag3, '--', label = '$\\lambda_3 = $'+str(np.round(tmp_l3.lmbda*1e9))+' nm')\n",
    "\n",
    "plt.xlabel('Position of source (in $\\\\theta_E$)')\n",
    "plt.ylabel('Magnification $\\mu$')\n",
    "plt.legend()"
   ]
  },
  {
   "cell_type": "code",
   "execution_count": 17,
   "id": "438c8905-192e-4145-9d6b-825358d2b54f",
   "metadata": {},
   "outputs": [
    {
     "data": {
      "text/plain": [
       "5.466902810997799"
      ]
     },
     "execution_count": 17,
     "metadata": {},
     "output_type": "execute_result"
    }
   ],
   "source": [
    "tmp_l3.omega*tmp_Delta_td[90]"
   ]
  },
  {
   "cell_type": "code",
   "execution_count": 18,
   "id": "39042f5e-7723-4892-8e22-dc02470ddb4e",
   "metadata": {},
   "outputs": [
    {
     "data": {
      "text/latex": [
       "$5291.7304 \\; \\mathrm{Mpc}$"
      ],
      "text/plain": [
       "<Quantity 5291.73037438 Mpc>"
      ]
     },
     "execution_count": 18,
     "metadata": {},
     "output_type": "execute_result"
    }
   ],
   "source": [
    "WMAP9.comoving_distance(2)"
   ]
  },
  {
   "cell_type": "markdown",
   "id": "4af044e0-f438-4b5f-85ab-4c231c143564",
   "metadata": {},
   "source": [
    "# Question\n",
    "\n",
    "How to use https://stackoverflow.com/questions/43610906/very-large-array-handling-with-astropy-and-numpy"
   ]
  },
  {
   "cell_type": "code",
   "execution_count": 56,
   "id": "41d6a5a3-b9d3-4f09-bd80-7a1fa4f255da",
   "metadata": {},
   "outputs": [],
   "source": [
    "def sim_lens_plane(epsilon, M, DS, x_lens, num_sides, grid_length_factor, omega, excluded_mag):\n",
    "\n",
    "    DL = x_lens*DS\n",
    "    DLS = DS - DL\n",
    "    D = DS*DL/DLS\n",
    "    \n",
    "    theta_E = Einstein_angle(M, D)\n",
    "    \n",
    "    mu = np.zeros([num_sides,num_sides])\n",
    "    \n",
    "    beta = np.zeros([num_sides,num_sides])\n",
    "    u = np.zeros([num_sides,num_sides])\n",
    "    \n",
    "    count = 0\n",
    "    grid_length = 2*grid_length_factor*theta_E\n",
    "    grid_length = 2*1e-9\n",
    "    pixel_length = grid_length/num_sides\n",
    "\n",
    "    tmp_x = np.outer(np.ones(num_sides), (np.arange(int(-num_sides/2), int(num_sides/2)) + 0.5)*pixel_length)\n",
    "    tmp_y = np.outer((np.arange(int(-num_sides/2), int(num_sides/2)) + 0.5)*pixel_length, np.ones(num_sides))\n",
    "\n",
    "    beta = np.sqrt(tmp_x**2 + tmp_y**2)\n",
    "    u = beta/theta_E\n",
    "    \n",
    "    z_L = 0.12\n",
    "    Delta_phi = omega*time_delay(u, theta_E, D, z_L)\n",
    "    mu = point_source_mag(u, Delta_phi)\n",
    "    if (excluded_mag != -1):\n",
    "        mu = np.where(mu > excluded_mag, 1, mu)\n",
    "    count = (mu > (1+epsilon)).sum()\n",
    "    print(\"count =\",count, '/', num_sides**2) \n",
    "    print(' ')\n",
    "    \n",
    "    app_mag = -2.5 * np.log10(mu)\n",
    "    \n",
    "    fig = plt.figure(figsize=(8,6))\n",
    "    #pixel_extent = grid_length/theta_E\n",
    "    pixel_extent = grid_length/1e-9/2\n",
    "    #plt.imshow(mu, extent=[-pixel_extent, pixel_extent, -pixel_extent, pixel_extent], norm=colors.LogNorm(vmin=np.min(mu), vmax=np.max(mu)))\n",
    "    plt.imshow(app_mag, extent=[-pixel_extent, pixel_extent, -pixel_extent, pixel_extent])#, norm=colors.LogNorm(vmin=np.min(mu), vmax=np.max(mu)))\n",
    "    #plt.title(\"2D array of lens plane magnification distribution\")\n",
    "    plt.title(\"2D array of lens plane apparent magnitude distribution\")\n",
    "    #plt.xlabel('$u_x(\\Theta_E)$')\n",
    "    #plt.ylabel(\"$u_y(\\Theta_E)$\")\n",
    "    plt.xlabel('$(mas)$')\n",
    "    plt.ylabel(\"$(mas)$\")\n",
    "\n",
    "    plt.colorbar()\n",
    "    plt.show()\n",
    "    \n",
    "    return mu"
   ]
  },
  {
   "cell_type": "code",
   "execution_count": 57,
   "id": "50c3e393-7c1f-43a0-a469-cca5f14b01ae",
   "metadata": {},
   "outputs": [
    {
     "data": {
      "text/plain": [
       "41360000000.00001"
      ]
     },
     "execution_count": 57,
     "metadata": {},
     "output_type": "execute_result"
    }
   ],
   "source": [
    "l1.E"
   ]
  },
  {
   "cell_type": "code",
   "execution_count": 60,
   "id": "46626ad2-f6f6-4ddb-a39d-1a27086e71ef",
   "metadata": {},
   "outputs": [
    {
     "name": "stderr",
     "output_type": "stream",
     "text": [
      "/tmp/ipykernel_23683/3214954847.py:10: RuntimeWarning: divide by zero encountered in true_divide\n",
      "  theta_E**2 * np.log(np.abs(theta_plus(beta, theta_E)/theta_minus(beta, theta_E)))))\n",
      "/tmp/ipykernel_23683/3804407650.py:8: RuntimeWarning: invalid value encountered in sin\n",
      "  return (mu_plus(u) + mu_minus(u) + 2 * np.sqrt(mu_plus(u) * mu_minus(u)) * np.sin(Delta_phi))\n"
     ]
    },
    {
     "name": "stdout",
     "output_type": "stream",
     "text": [
      "count = 0 / 40000\n",
      " \n"
     ]
    },
    {
     "data": {
      "image/png": "[encoded data removed]",
      "text/plain": [
       "<Figure size 576x432 with 2 Axes>"
      ]
     },
     "metadata": {
      "needs_background": "light"
     },
     "output_type": "display_data"
    },
    {
     "name": "stdout",
     "output_type": "stream",
     "text": [
      "Mass of lens 1e-15\n",
      "Frequency of light 1000000000000000000000000000000\n",
      "Maximum difference in magnification nan\n"
     ]
    }
   ],
   "source": [
    "l1 = light(10**30)    # Input Frequency in Hertz\n",
    "epsilon = 0\n",
    "M = 1e-15\n",
    "DS = 1\n",
    "x_lens = 0.5\n",
    "num_sides = 200\n",
    "grid_length_factor = 2\n",
    "\n",
    "mu = sim_lens_plane(epsilon, M, DS, x_lens, num_sides, grid_length_factor, l1.omega, -1)\n",
    "print('Mass of lens', M)\n",
    "print('Frequency of light', l1.nu)\n",
    "print('Maximum difference in magnification', np.max(mu[:int(num_sides/2) - 2, :int(num_sides/2) - 2]) - np.min(mu))"
   ]
  },
  {
   "cell_type": "markdown",
   "id": "6ee9d595-9f93-40c6-ab87-d87fd15f4248",
   "metadata": {},
   "source": [
    "## Temporal Variations"
   ]
  },
  {
   "cell_type": "code",
   "execution_count": 22,
   "id": "c05ea875-cd71-4d2e-ac54-191184751d0a",
   "metadata": {},
   "outputs": [
    {
     "data": {
      "text/plain": [
       "<matplotlib.legend.Legend at 0x7f0093c38ee0>"
      ]
     },
     "execution_count": 22,
     "metadata": {},
     "output_type": "execute_result"
    },
    {
     "data": {
      "image/png": "[encoded data removed]",
      "text/plain": [
       "<Figure size 432x288 with 1 Axes>"
      ]
     },
     "metadata": {
      "needs_background": "light"
     },
     "output_type": "display_data"
    }
   ],
   "source": [
    "u_0 = 1\n",
    "terminal_pos = 1\n",
    "num_intervals = 301\n",
    "\n",
    "M = 1e-10\n",
    "\n",
    "DS = 1\n",
    "x_lens = 0.5\n",
    "z_L = 0.12\n",
    "D = DS*(x_lens/(1-x_lens))\n",
    "\n",
    "theta_E = Einstein_angle(M, D)\n",
    "\n",
    "tmp_l = np.array([light(10**15), light(10**16), light(10**17), light(10**18), light(10**19), light(10**20)])\n",
    "\n",
    "tmp_xt = np.linspace(-terminal_pos, terminal_pos, num_intervals)\n",
    "tmp_y = u_0\n",
    "\n",
    "tmp_u = np.sqrt(tmp_xt**2 + tmp_y**2)\n",
    "\n",
    "tmp_mu_without_interference = point_source_mag(tmp_u, 0)\n",
    "plt.plot(tmp_xt, tmp_mu_without_interference, '--', label = '$\\\\nu$: '+str(0))\n",
    "plt.xlabel('Time in terms of $u_x(\\\\theta_E)$')\n",
    "plt.ylabel('Magnification $\\mu$')\n",
    "plt.ylim([0, 2.5])\n",
    "                  \n",
    "for i in range(1):\n",
    "    tmp_Delta_phi = tmp_l[i].omega * time_delay(tmp_u, theta_E, D, z_L)\n",
    "    tmp_mu_with_interference = point_source_mag(tmp_u, tmp_Delta_phi)\n",
    "    plt.plot(tmp_xt, tmp_mu_with_interference, label = '$\\log \\\\nu$: '+str(np.log10(tmp_l[i].nu)))\n",
    "    \n",
    "plt.legend()"
   ]
  }
 ],
 "metadata": {
  "kernelspec": {
   "display_name": "Python 3 (ipykernel)",
   "language": "python",
   "name": "python3"
  },
  "language_info": {
   "codemirror_mode": {
    "name": "ipython",
    "version": 3
   },
   "file_extension": ".py",
   "mimetype": "text/x-python",
   "name": "python",
   "nbconvert_exporter": "python",
   "pygments_lexer": "ipython3",
   "version": "3.9.5"
  }
 },
 "nbformat": 4,
 "nbformat_minor": 5
}
