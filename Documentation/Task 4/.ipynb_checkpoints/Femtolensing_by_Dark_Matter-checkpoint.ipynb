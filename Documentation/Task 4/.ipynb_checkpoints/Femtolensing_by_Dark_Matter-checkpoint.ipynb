{
 "cells": [
  {
   "cell_type": "code",
   "execution_count": 1,
   "id": "121e08fb-d426-49f9-9f8d-6d4bced5ecbe",
   "metadata": {},
   "outputs": [],
   "source": [
    "import numpy as np\n",
    "from matplotlib import pyplot as plt"
   ]
  },
  {
   "cell_type": "code",
   "execution_count": 39,
   "id": "5feb9d56-529c-4d7d-9ab0-b8165e9a7270",
   "metadata": {},
   "outputs": [],
   "source": [
    "choice = 2\n",
    "\n",
    "global c, PI, h, h_cross, G, AU\n",
    "\n",
    "if choice == 1:\n",
    "    c = 2.998 * 1e8          # in m/s\n",
    "    PI = np.pi\n",
    "    h = 4.136 * 1e-15        # in eV.s\n",
    "    h_cross = h / (2*PI)     # in eV.s\n",
    "    G = 6.674 * 1e-11        # in N.m^2/kg^2\n",
    "    AU = 1.495e+11           # astronomical unit = 149.6 million km\n",
    "    \n",
    "elif choice == 2:\n",
    "    c = 3 * 1e8              # in m/s\n",
    "    PI = 3.1416\n",
    "    h = 4.136 * 1e-15        # in eV.s\n",
    "    h_cross = h / (2*PI)     # in eV.s\n",
    "    G = 6.67 * 1e-11         # in N.m^2/kg^2\n",
    "    AU = 1.5e+11             # astronomical unit = 149.6 million km"
   ]
  },
  {
   "cell_type": "code",
   "execution_count": 3,
   "id": "c4b98328-22f0-47d0-b75b-1eb17e0fe28e",
   "metadata": {},
   "outputs": [],
   "source": [
    "class light:\n",
    "    def __init__(self, quantity, choice = 'nu'):\n",
    "        if (choice == 'lambda'):\n",
    "            self.lmbda = quantity\n",
    "            self.omega = 2*PI*c/self.lmbda\n",
    "            self.E = h_cross * self.omega\n",
    "        elif (choice == 'E'):\n",
    "            self.E = quantity\n",
    "            self.omega = self.E/h_cross\n",
    "            self.lmbda = 2*PI*c/self.omega\n",
    "        elif (choice == 'omega'):\n",
    "            self.omega = quantity\n",
    "            self.E = h_cross * self.omega\n",
    "            self.lmbda = 2*PI*c/self.omega\n",
    "        else:\n",
    "            self.omega = 2*PI*quantity\n",
    "            self.E = h_cross * self.omega\n",
    "            self.lmbda = 2*PI*c/self.omega"
   ]
  },
  {
   "cell_type": "code",
   "execution_count": 4,
   "id": "03f9a1d9-f4ca-4ec8-882d-d26000a5ad1c",
   "metadata": {},
   "outputs": [],
   "source": [
    "def Einstein_angle(M, DS, x_lens):\n",
    "    return np.sqrt(4*G*M/c**2 * 1/DS * (1/x_lens - 1))"
   ]
  },
  {
   "cell_type": "code",
   "execution_count": 35,
   "id": "4fd3bd0e-591e-48a2-a540-41206952aeca",
   "metadata": {},
   "outputs": [],
   "source": [
    "def Lensing_potential(theta, theta_E):\n",
    "    return (theta_E**2 * np.log(theta))"
   ]
  },
  {
   "cell_type": "code",
   "execution_count": 31,
   "id": "4f697880-51e9-4b86-b20b-91e6b1d44f67",
   "metadata": {},
   "outputs": [],
   "source": [
    "def time_delay(u, x, theta_E, DS, x_lens):\n",
    "    theta = x*theta_E\n",
    "    beta = u*theta_E\n",
    "    return (1/c * DS*(1/(1/x_lens - 1)) * (1 + z_l)*(np.linalg.norm(theta - beta)/2 - psi(theta, theta_E)))"
   ]
  },
  {
   "cell_type": "code",
   "execution_count": 34,
   "id": "a83ef5ff-0b24-4218-b536-cb4ce63983ee",
   "metadata": {},
   "outputs": [],
   "source": [
    "def phase_shift(omega, Delta_td):\n",
    "    return (omega*Delta_td)"
   ]
  },
  {
   "cell_type": "code",
   "execution_count": 36,
   "id": "a41abaa7-4046-46d3-8198-22476f726956",
   "metadata": {},
   "outputs": [],
   "source": [
    "def mu_plus(u):\n",
    "    return np.abs(1/2 + (u**2 + 2)/(2*u*np.sqrt(u**2 + 4)))\n",
    "\n",
    "def mu_plus(u):\n",
    "    return np.abs(1/2 - (u**2 + 2)/(2*u*np.sqrt(u**2 + 4)))\n",
    "\n",
    "def point_source_mag(u, DS, x_lens, Delta_phi):\n",
    "    return (mu_plus(u) + mu_minus(u) + 2 * np.sqrt(mu_plus(u) * mu_minus(u)) * np.sin(Delta_phi))"
   ]
  },
  {
   "cell_type": "code",
   "execution_count": 37,
   "id": "555c8a5c-d3ac-4b59-b683-2a00afe044c2",
   "metadata": {},
   "outputs": [],
   "source": [
    "l1 = light(10**20)"
   ]
  },
  {
   "cell_type": "code",
   "execution_count": null,
   "id": "e3963ea3-2675-49c9-974b-a6dcb784ff98",
   "metadata": {},
   "outputs": [],
   "source": [
    "DS = 1\n",
    "x_lens = \n",
    "Delta_td"
   ]
  }
 ],
 "metadata": {
  "kernelspec": {
   "display_name": "Python 3 (ipykernel)",
   "language": "python",
   "name": "python3"
  },
  "language_info": {
   "codemirror_mode": {
    "name": "ipython",
    "version": 3
   },
   "file_extension": ".py",
   "mimetype": "text/x-python",
   "name": "python",
   "nbconvert_exporter": "python",
   "pygments_lexer": "ipython3",
   "version": "3.9.5"
  }
 },
 "nbformat": 4,
 "nbformat_minor": 5
}
